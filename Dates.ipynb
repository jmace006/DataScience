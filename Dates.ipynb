{
 "cells": [
  {
   "cell_type": "markdown",
   "metadata": {},
   "source": [
    "<h1>Dates</h1>"
   ]
  },
  {
   "cell_type": "markdown",
   "metadata": {},
   "source": [
    "## 1. The Time Module ##"
   ]
  },
  {
   "cell_type": "code",
   "execution_count": null,
   "metadata": {},
   "outputs": [],
   "source": [
    "import time\n",
    "current_time = time.time()\n",
    "print(current_time)"
   ]
  },
  {
   "cell_type": "markdown",
   "metadata": {},
   "source": [
    "## 2. Converting Timestamps ##\n",
    "time.gmtime() function returns struct_time instance, has attributes that represent the current time in other ways. \n",
    "\n",
    "- tm_year: The year of the timestamp\n",
    "- tm_mon: The month of the timestamp (1-12)\n",
    "- tm_mday: The day in the month of the timestamp (1-31)\n",
    "- tm_hour: The hour of the timestamp (0-23)\n",
    "- tm_min: The minute of the timestamp (0-59)"
   ]
  },
  {
   "cell_type": "code",
   "execution_count": null,
   "metadata": {},
   "outputs": [],
   "source": [
    "import time\n",
    "current_time = time.time()\n",
    "current_struct_time = time.gmtime(current_time)\n",
    "current_hour = current_struct_time.tm_hour\n",
    "print(current_hour)\n"
   ]
  },
  {
   "cell_type": "markdown",
   "metadata": {},
   "source": [
    "## 3. UTC ##\n",
    "current utc time as a datetime instance using the datetime.utcnow() function. Once we have a datetime instance that represents a specific point in time, we can use the following attributes to return more specific properties:\n",
    "\n",
    "- year: returns the year value as an integer.\n",
    "- month: returns the month value an integer.\n",
    "- day: returns the day value as an integer.\n",
    "- hour: returns the hour value as an integer.\n",
    "- minute: returns the minute value as an integer.\n",
    "- second: returns the second value as an integer.\n",
    "- microsecond: returns the microsecond value as an integer."
   ]
  },
  {
   "cell_type": "code",
   "execution_count": null,
   "metadata": {},
   "outputs": [],
   "source": [
    "import datetime\n",
    "\n",
    "current_datetime = datetime.datetime.utcnow()\n",
    "current_year = current_datetime.year\n",
    "current_month = current_datetime.month\n",
    "print(current_datetime)\n",
    "\n",
    "# To represent a specific point in time: \n",
    "\n",
    "nye_2017 = datetime.datetime(year=2017, month=12, day=31, hour=12, minute=59, second=59)\n",
    "nye_day_2017 = datetime.datetime(year=2017, month=12, day=31)"
   ]
  },
  {
   "cell_type": "markdown",
   "metadata": {},
   "source": [
    "## 4. Timedelta ##\n",
    "When we create instances of the timedelta class, we can specify the following parameters:\n",
    "- weeks\n",
    "- days\n",
    "- hours\n",
    "- minutes\n",
    "- seconds\n",
    "- milliseconds\n",
    "- microseconds"
   ]
  },
  {
   "cell_type": "code",
   "execution_count": null,
   "metadata": {},
   "outputs": [],
   "source": [
    "import datetime\n",
    "\n",
    "kirks_birthday = datetime.datetime(year=2233, month=3, day=22)\n",
    "diff = datetime.timedelta(weeks = 15)\n",
    "before_kirk = kirks_birthday - diff"
   ]
  },
  {
   "cell_type": "markdown",
   "metadata": {},
   "source": [
    "## 5. Formatting Dates ##"
   ]
  },
  {
   "cell_type": "code",
   "execution_count": null,
   "metadata": {},
   "outputs": [],
   "source": [
    "import datetime\n",
    "\n",
    "# Use [12-hour time with minutes][AM/PM] on [Day of week] [Month full name] [Day of month], [Full year]\n",
    "mystery_date_formatted_string = mystery_date.strftime(\"%I:%M%p on %A %B %d, %Y\")\n",
    "print(mystery_date_formatted_string)\n",
    "# prints \"11:00AM on Wednesday March 03, 2010\"\n"
   ]
  },
  {
   "cell_type": "markdown",
   "metadata": {},
   "source": [
    "## 6. Parsing Dates ##\n",
    "\n",
    "datetime.datetime.strptime() is a function, not a method that's called on a specific object.\n",
    "strptime() with the date string (e.g. \"Mar 03, 2010\") and the format string (e.g. \"%b %d, %Y\") will return a datetime instance for March 3, 2010. \n"
   ]
  },
  {
   "cell_type": "code",
   "execution_count": null,
   "metadata": {},
   "outputs": [],
   "source": [
    "import datetime\n",
    "mystery_date_2 = datetime.datetime.strptime(mystery_date_formatted_string, \"%I:%M%p on %A %B %d, %Y\")\n",
    "print(mystery_date_2)\n",
    "\n"
   ]
  },
  {
   "cell_type": "markdown",
   "metadata": {},
   "source": [
    "## 8. Reformatting Our Data ##"
   ]
  },
  {
   "cell_type": "code",
   "execution_count": null,
   "metadata": {},
   "outputs": [],
   "source": [
    "import datetime\n",
    "for row in posts:\n",
    "    float_stamp = float(row[2])\n",
    "    day = datetime.datetime.fromtimestamp(float_stamp)\n",
    "    row[2] = day\n"
   ]
  },
  {
   "cell_type": "markdown",
   "metadata": {},
   "source": [
    "## 9. Counting Posts from March ##"
   ]
  },
  {
   "cell_type": "code",
   "execution_count": null,
   "metadata": {},
   "outputs": [],
   "source": [
    "\n",
    "march_count = 0\n",
    "for row in posts:\n",
    "    if row[2].month == 3:\n",
    "        march_count += 1"
   ]
  },
  {
   "cell_type": "markdown",
   "metadata": {},
   "source": [
    "## 10. Counting Posts from Any Month ##"
   ]
  },
  {
   "cell_type": "code",
   "execution_count": 2,
   "metadata": {},
   "outputs": [
    {
     "ename": "NameError",
     "evalue": "name 'posts' is not defined",
     "output_type": "error",
     "traceback": [
      "\u001b[0;31m---------------------------------------------------------------------------\u001b[0m",
      "\u001b[0;31mNameError\u001b[0m                                 Traceback (most recent call last)",
      "\u001b[0;32m<ipython-input-2-c07466826f97>\u001b[0m in \u001b[0;36m<module>\u001b[0;34m()\u001b[0m\n\u001b[1;32m      1\u001b[0m \u001b[0mmarch_count\u001b[0m \u001b[0;34m=\u001b[0m \u001b[0;36m0\u001b[0m\u001b[0;34m\u001b[0m\u001b[0m\n\u001b[1;32m      2\u001b[0m \u001b[0;34m\u001b[0m\u001b[0m\n\u001b[0;32m----> 3\u001b[0;31m \u001b[0;32mfor\u001b[0m \u001b[0mrow\u001b[0m \u001b[0;32min\u001b[0m \u001b[0mposts\u001b[0m\u001b[0;34m:\u001b[0m\u001b[0;34m\u001b[0m\u001b[0m\n\u001b[0m\u001b[1;32m      4\u001b[0m     \u001b[0;32mif\u001b[0m \u001b[0mrow\u001b[0m\u001b[0;34m[\u001b[0m\u001b[0;36m2\u001b[0m\u001b[0;34m]\u001b[0m\u001b[0;34m.\u001b[0m\u001b[0mmonth\u001b[0m \u001b[0;34m==\u001b[0m \u001b[0;36m3\u001b[0m\u001b[0;34m:\u001b[0m\u001b[0;34m\u001b[0m\u001b[0m\n\u001b[1;32m      5\u001b[0m         \u001b[0mmarch_count\u001b[0m \u001b[0;34m+=\u001b[0m \u001b[0;36m1\u001b[0m\u001b[0;34m\u001b[0m\u001b[0m\n",
      "\u001b[0;31mNameError\u001b[0m: name 'posts' is not defined"
     ]
    }
   ],
   "source": [
    "march_count = 0\n",
    "\n",
    "for row in posts:\n",
    "    if row[2].month == 3:\n",
    "        march_count += 1\n",
    "def count_posts_in_month(month):\n",
    "    count = 0\n",
    "    for row in posts:\n",
    "        if row[2].month == month:\n",
    "            count += 1\n",
    "    return count\n",
    "\n",
    "feb_count = count_posts_in_month(2)\n",
    "aug_count = count_posts_in_month(8)"
   ]
  },
  {
   "cell_type": "code",
   "execution_count": null,
   "metadata": {},
   "outputs": [],
   "source": []
  }
 ],
 "metadata": {
  "kernelspec": {
   "display_name": "Python 3",
   "language": "python",
   "name": "python3"
  },
  "language_info": {
   "codemirror_mode": {
    "name": "ipython",
    "version": 3
   },
   "file_extension": ".py",
   "mimetype": "text/x-python",
   "name": "python",
   "nbconvert_exporter": "python",
   "pygments_lexer": "ipython3",
   "version": "3.6.2"
  }
 },
 "nbformat": 4,
 "nbformat_minor": 2
}
