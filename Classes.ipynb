{
 "cells": [
  {
   "cell_type": "markdown",
   "metadata": {},
   "source": [
    "<H1>Python Classes</h1>"
   ]
  },
  {
   "cell_type": "markdown",
   "metadata": {},
   "source": [
    "## Defining the Dataset Class ##\n",
    "\n",
    "When creating this object, the Python interpreter uses the special __init__() method we defined to instantiate the object. When creating an object, you never have to worry about passing in a self object on instantiation since this is done automatically by the Python interpreter.\n"
   ]
  },
  {
   "cell_type": "code",
   "execution_count": 3,
   "metadata": {},
   "outputs": [
    {
     "name": "stdout",
     "output_type": "stream",
     "text": [
      "csv\n"
     ]
    }
   ],
   "source": [
    "class Dataset:\n",
    "    def __init__(self):\n",
    "        self.type = \"csv\"\n",
    "\n",
    "dataset = Dataset()\n",
    "print(dataset.type)"
   ]
  },
  {
   "cell_type": "markdown",
   "metadata": {},
   "source": [
    "## Passing Additional Arguments to the Initializer ##\n",
    "Dynamically adding data to a class instance: Add an additional argument to the __init__() method (remembering to keep self first!)."
   ]
  },
  {
   "cell_type": "code",
   "execution_count": 5,
   "metadata": {},
   "outputs": [],
   "source": [
    "class Dataset:\n",
    "    def __init__(self, data):\n",
    "        self.data = data\n",
    "\n",
    "import csv\n",
    "\n",
    "f = open(\"data/nfl.csv\", 'r')\n",
    "csvreader = csv.reader(f)\n",
    "nfl_data = list(csvreader)\n",
    "\n",
    "nfl_dataset = Dataset(nfl_data)\n",
    "dataset_data = nfl_dataset.data"
   ]
  },
  {
   "cell_type": "markdown",
   "metadata": {},
   "source": [
    "## Adding Additional Behavior ##\n",
    " benefit of having the self variable is that we can reference it from any instance method we define. \n",
    "Also, using self, you can call the print_data() method within other instance methods by calling self.print_data()."
   ]
  },
  {
   "cell_type": "code",
   "execution_count": 6,
   "metadata": {},
   "outputs": [
    {
     "name": "stdout",
     "output_type": "stream",
     "text": [
      "[['year', 'week', 'winner', 'loser'], ['2009', '1', 'Pittsburgh Steelers', 'Tennessee Titans'], ['2009', '1', 'Minnesota Vikings', 'Cleveland Browns'], ['2009', '1', 'New York Giants', 'Washington Redskins'], ['2009', '1', 'San Francisco 49ers', 'Arizona Cardinals']]\n"
     ]
    }
   ],
   "source": [
    "class Dataset:\n",
    "    def __init__(self, data):\n",
    "        self.data = data\n",
    "    \n",
    "    def print_data(self, num_rows):\n",
    "        print(self.data[:num_rows])\n",
    "\n",
    "\n",
    "nfl_dataset = Dataset(nfl_data)\n",
    "nfl_dataset.print_data(5)"
   ]
  },
  {
   "cell_type": "markdown",
   "metadata": {},
   "source": [
    "## Enhancing the Initializer ##"
   ]
  },
  {
   "cell_type": "code",
   "execution_count": null,
   "metadata": {},
   "outputs": [],
   "source": [
    "\n",
    "class Dataset:\n",
    "    def __init__(self, data):\n",
    "        self.header = data[0]\n",
    "        self.data = data[1:]\n",
    "    \n",
    "    def column(self, label):\n",
    "        if label not in self.header:\n",
    "            return None\n",
    "        \n",
    "        index = 0\n",
    "        for idx, element in enumerate(self.header):\n",
    "            if label == element:\n",
    "                index = idx\n",
    "        \n",
    "        column = []\n",
    "        for row in self.data:\n",
    "            column.append(row[index])\n",
    "        return column\n",
    "\n",
    "nfl_dataset = Dataset(nfl_data)\n",
    "year_column = nfl_dataset.column('year')\n",
    "player_column = nfl_dataset.column('player')"
   ]
  },
  {
   "cell_type": "markdown",
   "metadata": {},
   "source": [
    "## Count Unique Method ##"
   ]
  },
  {
   "cell_type": "code",
   "execution_count": 7,
   "metadata": {},
   "outputs": [],
   "source": [
    "class Dataset:\n",
    "    def __init__(self, data):\n",
    "        self.header = data[0]\n",
    "        self.data = data[1:]\n",
    "    \n",
    "    def column(self, label):\n",
    "        if label not in self.header:\n",
    "            return None\n",
    "        \n",
    "        index = 0\n",
    "        for idx, element in enumerate(self.header):\n",
    "            if label == element:\n",
    "                index = idx\n",
    "        \n",
    "        column = []\n",
    "        for row in self.data:\n",
    "            column.append(row[index])\n",
    "        return column\n",
    "    \n",
    "    def count_unique(self, label):\n",
    "        unique_results = set(self.column(label))\n",
    "        count = len(unique_results)\n",
    "        return count\n",
    "\n",
    "nfl_dataset = Dataset(nfl_data)\n",
    "total_years = nfl_dataset.count_unique('year')"
   ]
  },
  {
   "cell_type": "markdown",
   "metadata": {},
   "source": [
    "## 8. Make Objects Human Readable ##"
   ]
  },
  {
   "cell_type": "code",
   "execution_count": null,
   "metadata": {},
   "outputs": [],
   "source": [
    "\n",
    "class Dataset:\n",
    "    def __init__(self, data):\n",
    "        self.header = data[0]\n",
    "        self.data = data[1:]\n",
    "    \n",
    "    def __str__(self):\n",
    "        data_string = self.data[:10]\n",
    "        return str(data_string)\n",
    "    \n",
    "    def column(self, label):\n",
    "        if label not in self.header:\n",
    "            return None\n",
    "        \n",
    "        index = 0\n",
    "        for idx, element in enumerate(self.header):\n",
    "            if label == element:\n",
    "                index = idx\n",
    "        \n",
    "        column = []\n",
    "        for row in self.data:\n",
    "            column.append(row[index])\n",
    "        return column\n",
    "    \n",
    "    def count_unique(self, label):\n",
    "        unique_results = set(self.column(label))\n",
    "        count = len(unique_results)\n",
    "        return count\n",
    "\n",
    "nfl_dataset = Dataset(nfl_data)\n",
    "print(nfl_dataset)"
   ]
  },
  {
   "cell_type": "markdown",
   "metadata": {},
   "source": [
    "## Instance Methods\n",
    "Instance methods need a class instance and can access the instance through self, whereas Class methods don’t need a class instance. They can’t access the instance (self) but they have access to the class itself via cls.\n",
    "\n",
    "Static methods don’t have access to cls or self. They work like regular functions but belong to the class’s namespace.\n",
    "Static and class methods communicate and (to a certain degree) enforce developer intent about class design. This can have maintenance benefits.\n",
    "\n",
    "Through the self parameter, instance methods can freely access attributes and other methods on the same object. instance methods can also access the class itself through the self.__class__ attribute. This means instance methods can also modify class state."
   ]
  },
  {
   "cell_type": "markdown",
   "metadata": {},
   "source": [
    "## Class Methods\n",
    "\n",
    "Instead of accepting a self parameter, class methods take a cls parameter that points to the class—and not the object instance—when the method is called.\n",
    "Because the class method only has access to this cls argument, it can’t modify object instance state. That would require access to self. However, class methods can still modify class state that applies across all instances of the class.\n"
   ]
  },
  {
   "cell_type": "markdown",
   "metadata": {},
   "source": [
    "## Static Methods\n",
    "\n",
    "This type of method takes neither a self nor a cls parameter (but of course it’s free to accept an arbitrary number of other parameters).\n",
    "Therefore a static method can neither modify object state nor class state. Static methods are restricted in what data they can access - and they’re primarily a way to namespace your methods.\n",
    "\n",
    "\n",
    "class Pizza:\n",
    "    def __init__(self, ingredients):\n",
    "        self.ingredients = ingredients\n",
    "\n",
    "    def __repr__(self):\n",
    "        return f'Pizza({self.ingredients!r})'\n",
    "\n",
    "    @classmethod\n",
    "    def margherita(cls):\n",
    "        return cls(['mozzarella', 'tomatoes'])\n",
    "\n",
    "    @classmethod\n",
    "    def prosciutto(cls):\n",
    "        return cls(['mozzarella', 'tomatoes', 'ham'])\n",
    "\n",
    "using the cls argument in the margherita and prosciutto factory methods instead of calling the Pizza constructor directly - a trick you can use to follow the Don’t Repeat Yourself (DRY) principle. If we decide to rename this class at some point we won’t have to remember updating the constructor name in all of the classmethod factory functions:\n",
    "\t\n",
    "\t>>> Pizza.margherita()\n",
    "\tPizza(['mozzarella', 'tomatoes'])\n",
    "\n",
    "\t>>> Pizza.prosciutto()\n",
    "\tPizza(['mozzarella', 'tomatoes', 'ham'])\n",
    "\n"
   ]
  },
  {
   "cell_type": "markdown",
   "metadata": {},
   "source": [
    "# Example"
   ]
  },
  {
   "cell_type": "markdown",
   "metadata": {},
   "source": [
    "## Defining Custom Classes ##"
   ]
  },
  {
   "cell_type": "code",
   "execution_count": null,
   "metadata": {},
   "outputs": [],
   "source": [
    "class Player():\n",
    "    # The special __init__ function runs whenever a class is instantiated\n",
    "    # The init function can take arguments, but self is always the first one\n",
    "    # Self is just a reference to the instance of the class\n",
    "    # It is automatically passed in when you instantiate an instance of the class\n",
    "    def __init__(self, data_row):\n",
    "        self.player_name = data_row[0]\n",
    "        self.position = data_row[1]\n",
    "        self.age = data_row[2]\n",
    "        self.team = data_row[3]\n",
    "\n",
    "# Initialize a player using the first row of our data set\n",
    "first_player = Player(nba[0])\n"
   ]
  },
  {
   "cell_type": "markdown",
   "metadata": {},
   "source": [
    "\n",
    "## Instance Properties ##"
   ]
  },
  {
   "cell_type": "code",
   "execution_count": null,
   "metadata": {},
   "outputs": [],
   "source": [
    "\n",
    "class Player():\n",
    "    # The special __init__ function runs whenever a class is instantiated\n",
    "    # The init function can take arguments, but self is always the first one\n",
    "    # Self is just a reference to the instance of the class \n",
    "    # It's automatically passed in when you instantiate an instance of the class\n",
    "    def __init__(self, data_row):\n",
    "        self.player_name = data_row[0]\n",
    "        self.position = data_row[1]\n",
    "        self.age = int(data_row[2])\n",
    "        self.team = data_row[3]\n",
    "\n",
    "class Team():\n",
    "    def __init__(self, team_name):\n",
    "        self.team_name = team_name\n",
    "        # Team roster initially empty\n",
    "        self.roster = []\n",
    "        # Find the players for the roster in the data set\n",
    "        for row in nba:\n",
    "            if row[3] == self.team_name:\n",
    "                self.roster.append(Player(row))\n",
    "    def num_players(self):\n",
    "        count = 0\n",
    "        for player in self.roster:\n",
    "            count += 1\n",
    "        return count\n",
    "    # Implement the average_age() instance method\n",
    "    def average_age(self):\n",
    "        \n",
    "        total_age = 0\n",
    "        for player in self.roster:\n",
    "            total_age = player.age + total_age\n",
    "        \n",
    "        return total_age /len(self.roster)\n",
    "    \n",
    "    \n",
    "spurs = Team(\"San Antonio Spurs\")\n",
    "spurs_num_players = spurs.num_players()\n",
    "spurs_avg_age = spurs.average_age()\n",
    "\n",
    "\n"
   ]
  },
  {
   "cell_type": "markdown",
   "metadata": {},
   "source": [
    "## Class Method"
   ]
  },
  {
   "cell_type": "code",
   "execution_count": null,
   "metadata": {},
   "outputs": [],
   "source": [
    "import math\n",
    "\n",
    "class Team():\n",
    "    def __init__(self, team_name):\n",
    "        self.team_name = team_name\n",
    "        self.roster = []\n",
    "        for row in nba:\n",
    "            if row[3] == self.team_name:\n",
    "                self.roster.append(Player(row))\n",
    "    \n",
    "    def num_players(self):\n",
    "        count = 0\n",
    "        for player in self.roster:\n",
    "            count += 1\n",
    "        return count\n",
    "   \n",
    "    def average_age(self):\n",
    "        return math.fsum([player.age for player in self.roster]) / self.num_players()\n",
    "    \n",
    "    @classmethod\n",
    "    def older_team(self, team1, team2):\n",
    "\n",
    "        if team1.average_age() >team2.average_age():\n",
    "            return team1\n",
    "        else:\n",
    "            return team2\n",
    "\n",
    "old_team = Team.older_team(Team(\"New York Knicks\"),Team(\"Miami Heat\"))\n"
   ]
  },
  {
   "cell_type": "markdown",
   "metadata": {},
   "source": [
    "## Overloading Inherited Behavior ##"
   ]
  },
  {
   "cell_type": "code",
   "execution_count": null,
   "metadata": {},
   "outputs": [],
   "source": [
    "class Player(object):\n",
    "    # The special __init__ function runs whenever a class is instantiated\n",
    "    # The init function can take arguments, but self is always the first one\n",
    "    # Self is just a reference to the instance of the class\n",
    "    # It is automatically passed in when you instantiate an instance of the class\n",
    "    def __init__(self, data_row):\n",
    "        self.player_name = data_row[0]\n",
    "        self.position = data_row[1]\n",
    "        self.age = int(data_row[2])\n",
    "        self.team = data_row[3]\n",
    "    def __lt__(self, other):\n",
    "        return self.age < other.age\n",
    "    # Implement the rest of the comparison operators here\n",
    "    def __gt__(self, other):\n",
    "        return self.age > other.age\n",
    "    def __le__(self, other):\n",
    "        return self.age <= other.age\n",
    "    def __ge__(self, other):\n",
    "        return self.age >= other.age\n",
    "    def __eq__(self, other):\n",
    "        return self.age == other.age\n",
    "    def __ne__(self, other):\n",
    "        print(\"Hellllllppppppp\")\n",
    "        return self.age != other.age\n",
    "\n",
    "carmelo = Player(nba[17])\n",
    "kobe = Player(nba[68])\n",
    "result = carmelo !=kobe"
   ]
  },
  {
   "cell_type": "markdown",
   "metadata": {},
   "source": [
    "## Comparing Average Ages ##"
   ]
  },
  {
   "cell_type": "code",
   "execution_count": null,
   "metadata": {},
   "outputs": [],
   "source": [
    "import math\n",
    "\n",
    "class Team(object):\n",
    "    def __init__(self, team_name):\n",
    "        self.team_name = team_name\n",
    "        self.roster = []\n",
    "        for row in nba:\n",
    "            if row[3] == self.team_name:\n",
    "                self.roster.append(Player(row))\n",
    "    def num_players(self):\n",
    "        count = 0\n",
    "        for player in self.roster:\n",
    "            count += 1\n",
    "        return count\n",
    "    def average_age(self):\n",
    "        return math.fsum([player.age for player in self.roster]) / self.num_players()\n",
    "    # Define operators here\n",
    "    def __lt__(self, other):\n",
    "        return self.average_age() < other.average_age()\n",
    "    \n",
    "    def __gt__(self, other):\n",
    "        return self.average_age() > other.average_age()\n",
    "    \n",
    "    def __le__(self, other):\n",
    "        return self.average_age() <= other.average_age()\n",
    "    \n",
    "    def __ge__(self, other):\n",
    "        return self.average_age() >= other.average_age()\n",
    "    \n",
    "    def __eq__(self, other):\n",
    "        return self.average_age() == other.average_age()\n",
    "    \n",
    "    def __ne__(self, other):\n",
    "        return self.average_age() != other.average_age()\n",
    "    \n",
    "utah = Team(\"Utah Jazz\")\n",
    "detriot = Team(\"Detroit Pistons\")\n",
    "\n",
    "if utah > detriot:\n",
    "    older_team = utah\n",
    "else:\n",
    "    older_team = detriot\n",
    "    \n",
    "\n",
    "## 9. Oldest NBA Team ##\n",
    "\n",
    "import math\n",
    "\n",
    "class Team(object):\n",
    "    def __init__(self, team_name):\n",
    "        self.team_name = team_name\n",
    "        self.roster = []\n",
    "        for row in nba:\n",
    "            if row[3] == self.team_name:\n",
    "                self.roster.append(Player(row))\n",
    "    def num_players(self):\n",
    "        count = 0\n",
    "        for player in self.roster:\n",
    "            count += 1\n",
    "        return count\n",
    "    def average_age(self):\n",
    "        return math.fsum([player.age for player in self.roster]) / self.num_players()\n",
    "    def __lt__(self, other):\n",
    "        return self.average_age() < other.average_age()\n",
    "    def __gt__(self, other):\n",
    "        return self.average_age() > other.average_age()\n",
    "    def __le__(self, other):\n",
    "        return self.average_age() <= other.average_age()\n",
    "    def __ge__(self, other):\n",
    "        return self.average_age() >= other.average_age()\n",
    "    def __eq__(self, other):\n",
    "        return self.average_age() == other.average_age()\n",
    "    def __ne__(self, other):\n",
    "        return self.average_age() != other.average_age()\n",
    "\n",
    "team_names = [\"Boston Celtics\", \"Brooklyn Nets\", \"New York Knicks\", \"Philadelphia 76ers\", \"Toronto Raptors\", \n",
    "         \"Chicago Bulls\", \"Cleveland Cavaliers\", \"Detroit Pistons\", \"Indiana Pacers\", \"Milwaukee Bucks\",\n",
    "         \"Atlanta Hawks\", \"Charlotte Hornets\", \"Miami Heat\", \"Orlando Magic\", \"Washington Wizards\",\n",
    "         \"Dallas Mavericks\", \"Houston Rockets\", \"Memphis Grizzlies\", \"New Orleans Pelicans\", \"San Antonio Spurs\",\n",
    "         \"Denver Nuggets\", \"Minnesota Timberwolves\", \"Oklahoma City Thunder\", \"Portland Trail Blazers\", \"Utah Jazz\",\n",
    "         \"Golden State Warriors\", \"Los Angeles Clippers\", \"Los Angeles Lakers\", \"Phoenix Suns\", \"Sacramento Kings\"]\n",
    "\n",
    "# Alter this list comprehension\n",
    "teams = [Team(name) for name in team_names]\n",
    "\n",
    "oldest_team = max(teams)\n",
    "youngest_team = min(teams)\n",
    "sorted_teams = sorted(teams)"
   ]
  }
 ],
 "metadata": {
  "kernelspec": {
   "display_name": "Python 3",
   "language": "python",
   "name": "python3"
  },
  "language_info": {
   "codemirror_mode": {
    "name": "ipython",
    "version": 3
   },
   "file_extension": ".py",
   "mimetype": "text/x-python",
   "name": "python",
   "nbconvert_exporter": "python",
   "pygments_lexer": "ipython3",
   "version": "3.6.2"
  }
 },
 "nbformat": 4,
 "nbformat_minor": 2
}
