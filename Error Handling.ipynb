{
 "cells": [
  {
   "cell_type": "markdown",
   "metadata": {},
   "source": [
    "# Error Handling"
   ]
  },
  {
   "cell_type": "markdown",
   "metadata": {},
   "source": [
    "## Try/except Blocks ##\n",
    "try/except block, the error will be handled, and the code will continue to run:"
   ]
  },
  {
   "cell_type": "code",
   "execution_count": null,
   "metadata": {},
   "outputs": [],
   "source": [
    "try:\n",
    "    float('Hello')\n",
    "except Exception:\n",
    "    print('Error converting to float.')\n",
    "\n"
   ]
  },
  {
   "cell_type": "markdown",
   "metadata": {},
   "source": [
    "## Convert the Exception class to a string and print out the error message:"
   ]
  },
  {
   "cell_type": "code",
   "execution_count": null,
   "metadata": {},
   "outputs": [],
   "source": [
    "try:\n",
    "    int('')\n",
    "except Exception as problem:\n",
    "    print(type(problem))\n",
    "    print(str(problem))\n"
   ]
  },
  {
   "cell_type": "markdown",
   "metadata": {},
   "source": [
    "## The pass keyword to avoid generating an error"
   ]
  },
  {
   "cell_type": "code",
   "execution_count": null,
   "metadata": {},
   "outputs": [],
   "source": [
    "try:\n",
    "    int('')\n",
    "except Exception:\n",
    "    pass"
   ]
  },
  {
   "cell_type": "markdown",
   "metadata": {},
   "source": [
    "## Handling Errors in Class Definition"
   ]
  },
  {
   "cell_type": "code",
   "execution_count": null,
   "metadata": {},
   "outputs": [],
   "source": [
    "class Trial(object):\n",
    "    \n",
    "    def __init__(self, datarow):\n",
    "        try:\n",
    "            self.efficiency = float(datarow[0])\n",
    "            self.individual = int(datarow[1])\n",
    "            self.chopstick_length = int(datarow[2])\n",
    "        except:\n",
    "            self.efficiency = -1\n",
    "            self.individual = -1\n",
    "            self.chopstick_length = -1\n",
    "\n",
    "class Chopstick(object):\n",
    "    \n",
    "    def __init__(self, length):\n",
    "        self.length = length\n",
    "        self.trials = []\n",
    "        for row in chopsticks:\n",
    "            if int(row[2]) == self.length:\n",
    "                trial = Trial(row)\n",
    "                if trial.individual >= 0:\n",
    "                    self.trials.append(trial)\n",
    "    \n",
    "    def num_trials(self):\n",
    "        return len(self.trials)\n",
    "    \n",
    "    def avg_efficiency(self):\n",
    "        efficiency_sum = 0\n",
    "        for trial in self.trials:\n",
    "            efficiency_sum += trial.efficiency\n",
    "        try:\n",
    "            return efficiency_sum / self.num_trials()\n",
    "        except ZeroDivisionError:\n",
    "            return -1.0\n",
    "\n",
    "new_chopstick = Chopstick(100)\n",
    "bad_average = new_chopstick.avg_efficiency()"
   ]
  }
 ],
 "metadata": {
  "kernelspec": {
   "display_name": "Python 3",
   "language": "python",
   "name": "python3"
  },
  "language_info": {
   "codemirror_mode": {
    "name": "ipython",
    "version": 3
   },
   "file_extension": ".py",
   "mimetype": "text/x-python",
   "name": "python",
   "nbconvert_exporter": "python",
   "pygments_lexer": "ipython3",
   "version": "3.6.2"
  }
 },
 "nbformat": 4,
 "nbformat_minor": 2
}
