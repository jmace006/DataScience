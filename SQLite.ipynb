{
 "cells": [
  {
   "cell_type": "markdown",
   "metadata": {},
   "source": [
    "# SQLite"
   ]
  },
  {
   "cell_type": "markdown",
   "metadata": {},
   "source": [
    "## SQL Lite Command Line\n",
    "\n",
    "- .headers on  which switches column headers on\n",
    "- .mode allows us to select from a few different display modes. We'll use .mode column to allow for easier to read outputs. \n",
    "- .help - Displays help text showing all dot commands and their function.\n",
    "- .tables - Displays a list of all tables and views in the current database.\n",
    "- .shell [command] - Run a command like ls or clear in the system shell.\n",
    "- .quit - Quits the SQLite shell.\n",
    "- .schema [table_name]\n",
    "\n"
   ]
  },
  {
   "cell_type": "markdown",
   "metadata": {},
   "source": [
    "## Get info on a table"
   ]
  },
  {
   "cell_type": "code",
   "execution_count": null,
   "metadata": {},
   "outputs": [],
   "source": [
    "PRAGMA TABLE_INFO(recent_grads)"
   ]
  },
  {
   "cell_type": "markdown",
   "metadata": {},
   "source": [
    "## Use the ‘HAVING’ clause"
   ]
  },
  {
   "cell_type": "code",
   "execution_count": null,
   "metadata": {},
   "outputs": [],
   "source": [
    "SELECT Major_category, ROUND(AVG(College_jobs)/AVG(Total),3) as share_degree_jobs\n",
    "FROM recent_grads\n",
    "GROUP BY Major_category\n",
    "HAVING share_degree_jobs < 0.3"
   ]
  },
  {
   "cell_type": "markdown",
   "metadata": {},
   "source": [
    "## Subqueries\n",
    "\n",
    "The query that replaces the placeholder subquery needs to be a full query (contain SELECT and FROM clauses, etc), that works even if it's run separately. In addition, the inner query should only return a table with a single row and column because of where it fits in the outer query (... WHERE > ?).\n",
    "\n",
    "To dynamically calculate the number of total rows:\n",
    "And be able to use it in another SQL statement, we can use a subquery in the SELECT clause:"
   ]
  },
  {
   "cell_type": "code",
   "execution_count": null,
   "metadata": {},
   "outputs": [],
   "source": [
    "## 2. Subqueries ##\n",
    "\n",
    "SELECT Major, Unemployment_rate\n",
    "FROM recent_grads\n",
    "WHERE Unemployment_rate < (SELECT AVG(Unemployment_rate) FROM recent_grads)\n",
    "ORDER BY Unemployment_rate\n",
    "\n",
    "## 3. Subquery In SELECT ##\n",
    "\n",
    "SELECT CAST(COUNT(*) as Float)/CAST((SELECT COUNT(*) FROM recent_grads) as Float) as proportion_abv_avg\n",
    "FROM recent_grads\n",
    "WHERE ShareWomen > (SELECT AVG(ShareWomen) FROM recent_grads)\n",
    "\n",
    "## 4. Returning Multiple Results In Subqueries ##\n",
    "\n",
    "SELECT Major, Major_category\n",
    "FROM recent_grads\n",
    "WHERE Major_category IN (SELECT Major_category FROM recent_grads GROUP BY major_category ORDER BY SUM(Total) DESC LIMIT 5)\n",
    "\n",
    "\n",
    "## 5. Building Complex Subqueries ##\n",
    "\n",
    "SELECT AVG(CAST(Sample_size AS Float)/CAST(Total AS Float)) avg_ratio\n",
    "FROM recent_grads\n",
    "\n",
    "## 6. Practice Integrating A Subquery With The Outer Query ##\n",
    "\n",
    "SELECT Major, Major_category, CAST(Sample_size AS Float)/CAST(Total AS Float) ratio\n",
    "FROM recent_grads\n",
    "WHERE ratio > (SELECT AVG(CAST(Sample_size AS Float)/CAST(Total AS Float)) avg_ratio\n",
    "FROM recent_grads)\n"
   ]
  },
  {
   "cell_type": "markdown",
   "metadata": {},
   "source": [
    "## Comparing to NULL\n",
    "\n",
    "When making a comparison to null in SQL, we use the IS keyword, rather than the = sign. If we want to select rows where a column is null we can write:"
   ]
  },
  {
   "cell_type": "code",
   "execution_count": null,
   "metadata": {},
   "outputs": [],
   "source": [
    "WHERE column_name IS NULL\n",
    "WHERE column_name IS NOT NULL"
   ]
  },
  {
   "cell_type": "markdown",
   "metadata": {},
   "source": [
    "## Pattern Matching Using Like ##"
   ]
  },
  {
   "cell_type": "code",
   "execution_count": null,
   "metadata": {},
   "outputs": [],
   "source": [
    "SELECT first_name, last_name, phone\n",
    "FROM customer\n",
    "WHERE first_name LIKE \"%Belle%\""
   ]
  },
  {
   "cell_type": "markdown",
   "metadata": {},
   "source": [
    "## Create Tables"
   ]
  },
  {
   "cell_type": "code",
   "execution_count": null,
   "metadata": {},
   "outputs": [],
   "source": [
    "CREATE TABLE [table_name] (\n",
    "        [column1_name] [column1_type],\n",
    "       [column2_name] [column2_type],\n",
    "       [column3_name] [column3_type],\n",
    "        [...]\n",
    ");"
   ]
  },
  {
   "cell_type": "markdown",
   "metadata": {},
   "source": [
    "## Primary & Foreign Keys \n",
    "By default SQLite doesn't force foreign key constraints, In SQLite, if you have an integer primary key and don't specify a value for this column when inserting rows, SQLite will autoincrement this column for you."
   ]
  },
  {
   "cell_type": "code",
   "execution_count": null,
   "metadata": {},
   "outputs": [],
   "source": [
    "CREATE TABLE purchase (\n",
    "    purchase_id INTEGER PRIMARY KEY,\n",
    "    user_id INTEGER,\n",
    "    purchase_date TEXT,\n",
    "    total NUMERIC,\n",
    "    FOREIGN KEY (user_id) REFERENCES user(user_id)\n",
    ");"
   ]
  },
  {
   "cell_type": "markdown",
   "metadata": {},
   "source": [
    "## Compound primary key"
   ]
  },
  {
   "cell_type": "code",
   "execution_count": null,
   "metadata": {},
   "outputs": [],
   "source": [
    "CREATE TABLE [table_name] (\n",
    "    [column_one_name] [column_one_type],\n",
    "    [column_two_name] [column_two_type],\n",
    "    [column_three_name] [column_three_type],\n",
    "    [column_four_name] [column_four_type],\n",
    "    PRIMARY KEY (column_one_name, column_two_name)\n",
    ");"
   ]
  },
  {
   "cell_type": "markdown",
   "metadata": {},
   "source": [
    "## Add Column"
   ]
  },
  {
   "cell_type": "code",
   "execution_count": null,
   "metadata": {},
   "outputs": [],
   "source": [
    "ALTER TABLE [table_name]\n",
    "ADD COLUMN [column_name] [column_type];"
   ]
  },
  {
   "cell_type": "markdown",
   "metadata": {},
   "source": [
    "## Data Types"
   ]
  },
  {
   "cell_type": "code",
   "execution_count": null,
   "metadata": {},
   "outputs": [],
   "source": [
    "TEXT\n",
    "INTEGER\n",
    "REAL\n",
    "NUMERIC\n",
    "BLOB"
   ]
  },
  {
   "cell_type": "markdown",
   "metadata": {},
   "source": [
    "## Add Rows"
   ]
  },
  {
   "cell_type": "code",
   "execution_count": null,
   "metadata": {},
   "outputs": [],
   "source": [
    "INSERT INTO [table_name] (\n",
    "    [column1_name],\n",
    "    [column2_name],\n",
    "    [column3_name]\n",
    ") VALUES (\n",
    "    [value1],\n",
    "    [value2],\n",
    "    [value3]\n",
    ");"
   ]
  },
  {
   "cell_type": "markdown",
   "metadata": {},
   "source": [
    "## UPDATE statement\n",
    "The WHERE clause is optional, and can contain any expression that would be valid in a SELECT statement."
   ]
  },
  {
   "cell_type": "code",
   "execution_count": null,
   "metadata": {},
   "outputs": [],
   "source": [
    "UPDATE [table_name]\n",
    "SET [column_name] = [expression]\n",
    "WHERE [expression]"
   ]
  },
  {
   "cell_type": "markdown",
   "metadata": {},
   "source": [
    "## SET \n",
    "There are several variations we can use for our SET clause. First we can use a single value:"
   ]
  },
  {
   "cell_type": "code",
   "execution_count": null,
   "metadata": {},
   "outputs": [],
   "source": [
    "UPDATE customer\n",
    "SET phone = \"+55 (12) 3921-4464\"\n",
    "WHERE customer_id = 1\n",
    "\n",
    "# We can use a subquery that returns a single value:\n",
    "UPDATE track\n",
    "SET unit_price = (\n",
    "                    SELECT AVG(unit_price)\n",
    "                    FROM track\n",
    "                 )\n",
    "\n",
    "# We can use a column, or function on an existing column:\n",
    "UPDATE track\n",
    "SET unit_price = unit_price * 1.1\n",
    "\n",
    "# Lastly, we can set more than one column at once:\n",
    "UPDATE wishlist_track\n",
    "SET\n",
    "    active = 1,\n",
    "    purchased = 0;"
   ]
  },
  {
   "cell_type": "markdown",
   "metadata": {},
   "source": [
    "## DELETE rows"
   ]
  },
  {
   "cell_type": "code",
   "execution_count": null,
   "metadata": {},
   "outputs": [],
   "source": [
    "DELETE FROM [table_name]"
   ]
  },
  {
   "cell_type": "markdown",
   "metadata": {},
   "source": [
    "## Limit results"
   ]
  },
  {
   "cell_type": "code",
   "execution_count": null,
   "metadata": {},
   "outputs": [],
   "source": [
    "SELECT * \n",
    "FROM recent_grads\n",
    "LIMIT 5"
   ]
  },
  {
   "cell_type": "markdown",
   "metadata": {},
   "source": [
    "## GROUP BY"
   ]
  },
  {
   "cell_type": "code",
   "execution_count": null,
   "metadata": {},
   "outputs": [],
   "source": [
    "## 2. Calculating Group-Level Summary Statistics ##\n",
    "\n",
    "SELECT major_category, AVG(ShareWomen)\n",
    "FROM recent_grads\n",
    "GROUP BY Major_category\n",
    "\n",
    "SELECT major_category, AVG(Employed)/AVG(Total) as \"share_employed\"\n",
    "FROM recent_grads\n",
    "GROUP BY Major_category"
   ]
  },
  {
   "cell_type": "markdown",
   "metadata": {},
   "source": [
    "## HAVING\n",
    "Querying Virtual Columns With the HAVING Statement"
   ]
  },
  {
   "cell_type": "code",
   "execution_count": null,
   "metadata": {},
   "outputs": [],
   "source": [
    "SELECT Major_category, AVG(Low_wage_jobs)/AVG(Total) as share_low_wage\n",
    "FROM recent_grads\n",
    "GROUP BY Major_category\n",
    "HAVING share_low_wage > 0.1"
   ]
  },
  {
   "cell_type": "markdown",
   "metadata": {},
   "source": [
    "## ROUND() Function ##"
   ]
  },
  {
   "cell_type": "code",
   "execution_count": null,
   "metadata": {},
   "outputs": [],
   "source": [
    "SELECT ROUND(ShareWomen, 4), Major_category\n",
    "FROM recent_grads\n",
    "\n",
    "SELECT Major_category, ROUND(AVG(College_jobs)/AVG(Total),3) as share_degree_jobs\n",
    "FROM recent_grads\n",
    "GROUP BY Major_category\n",
    "HAVING share_degree_jobs < 0.3"
   ]
  },
  {
   "cell_type": "markdown",
   "metadata": {},
   "source": [
    "## Casting ##"
   ]
  },
  {
   "cell_type": "code",
   "execution_count": null,
   "metadata": {},
   "outputs": [],
   "source": [
    "SELECT Major_category, SUM(CAST(Women as Float))/SUM(CAST(Total as Float)) SW\n",
    "FROM recent_grads\n",
    "GROUP BY Major_category\n",
    "ORDER BY SW"
   ]
  },
  {
   "cell_type": "markdown",
   "metadata": {},
   "source": [
    "## Aggregate Functions"
   ]
  },
  {
   "cell_type": "code",
   "execution_count": null,
   "metadata": {},
   "outputs": [],
   "source": [
    "## 2. Finding a Columns Minimum and Maximum Values in SQL ##\n",
    "\n",
    "SELECT Major, Major_category, MIN(Median)\n",
    "FROM recent_grads\n",
    "Where major_category=\"Engineering\"\n",
    "\n",
    "## 3. Calculating Sums and Averages in SQL ##\n",
    "\n",
    "SELECT SUM(Total)\n",
    "FROM recent_grads\n",
    "\n",
    "## 4. Combining Multiple Aggregation Functions ##\n",
    "\n",
    "SELECT AVG(Total), MIN(Men), MAX(Women)\n",
    "from recent_grads\n",
    "\n",
    "## 5. Customizing The Results ##\n",
    "\n",
    "SELECT COUNT(*) as \"Number of Students\", MAX(Unemployment_rate) as \"Highest Unemployment Rate\"\n",
    "FROM recent_grads\n",
    "\n",
    "## 7. Performing Arithmetic in SQL ##\n",
    "\n",
    "SELECT Major, Major_category, P75th - P25th \"quartile_spread\"\n",
    "FROM recent_grads\n",
    "ORDER BY quartile_spread\n",
    "LIMIT 20"
   ]
  },
  {
   "cell_type": "markdown",
   "metadata": {},
   "source": [
    "## Counting Unique Values ##"
   ]
  },
  {
   "cell_type": "code",
   "execution_count": null,
   "metadata": {},
   "outputs": [],
   "source": [
    "SELECT COUNT(DISTINCT Major) \"unique_majors\", COUNT(DISTINCT Major_category) \"unique_major_categories\", COUNT(DISTINCT Major_Code) unique_major_codes\n",
    "from recent_grads"
   ]
  },
  {
   "cell_type": "markdown",
   "metadata": {},
   "source": [
    "## Left Join\n",
    "A left join includes all the rows that an inner join will select, plus any joins from the first (or left) table that don't have a match in the second table. "
   ]
  },
  {
   "cell_type": "code",
   "execution_count": null,
   "metadata": {},
   "outputs": [],
   "source": [
    "SELECT f.name country, f.population\n",
    "FROM facts f\n",
    "LEFT JOIN cities c ON c.facts_id = f.id WHERE c.id IS NULL"
   ]
  },
  {
   "cell_type": "markdown",
   "metadata": {},
   "source": [
    "## Inner Joins\n",
    "\n",
    "An inner join works by including only rows from each table that have a match as specified using the ON clause. \n",
    "We don't need to use either column from our ON clause in our final list of columns. \n",
    "It's important whenever you use inner joins to be mindful that you might be excluding important data, especially if you are joining based on columns that aren't linked in the database schema.\n"
   ]
  },
  {
   "cell_type": "code",
   "execution_count": null,
   "metadata": {},
   "outputs": [],
   "source": [
    "## 2. Understanding Inner Joins ##\n",
    "\n",
    "SELECT c.*, f.name country_name FROM facts f\n",
    "INNER JOIN cities c ON c.facts_id = f.id\n",
    "LIMIT 5\n",
    "\n",
    "## 3. Practicing Inner Joins ##\n",
    "\n",
    "SELECT f.name country, c.name capital_city\n",
    "FROM facts f\n",
    "INNER JOIN cities c ON c.facts_id = f.id WHERE c.capital=1\n",
    "\n",
    "## 2. Joining Three Tables ##\n",
    "\n",
    "SELECt \n",
    "    t.track_id, \n",
    "    t.name track_name, \n",
    "    mt.name track_type, \n",
    "    il.unit_price, \n",
    "    il.quantity \n",
    "FROM invoice_line il\n",
    "INNER JOIN track t ON t.track_id = il.track_id\n",
    "INNER JOIN media_type mt ON t.media_type_id = mt.media_type_id\n",
    "WHERE il.invoice_id = 4\n",
    "\n",
    "## 3. Joining More Than Three Tables ##\n",
    "\n",
    "SELECT\n",
    "    il.track_id,\n",
    "    t.name track_name,\n",
    "    at.name artist_name,\n",
    "    mt.name track_type,\n",
    "    il.unit_price,\n",
    "    il.quantity\n",
    "FROM invoice_line il\n",
    "INNER JOIN track t ON t.track_id = il.track_id\n",
    "INNER JOIN media_type mt ON mt.media_type_id = t.media_type_id\n",
    "INNER JOIN album a ON a.album_id = t.album_id\n",
    "INNER JOIN artist at ON at.artist_id = a.artist_id\n",
    "WHERE il.invoice_id = 4;"
   ]
  },
  {
   "cell_type": "markdown",
   "metadata": {},
   "source": [
    "## UNION\n",
    "Where regular joins are used to join columns, the union operator is used to join rows from tables and/or views.\n",
    "the statements before and after UNION must have the same number of columns, with compatible types in order."
   ]
  },
  {
   "cell_type": "code",
   "execution_count": null,
   "metadata": {},
   "outputs": [],
   "source": [
    "SELECT * FROM chinook.customer_usa\n",
    "UNION\n",
    "SELECT * FROM chinook.customer_gt_90_dollars"
   ]
  },
  {
   "cell_type": "markdown",
   "metadata": {},
   "source": [
    "## Joins with Subqueries"
   ]
  },
  {
   "cell_type": "code",
   "execution_count": null,
   "metadata": {},
   "outputs": [],
   "source": [
    "SELECT c.name capital_city, f.name country, c.population\n",
    "FROM facts f\n",
    "INNER JOIN (SELECT * FROM cities \n",
    "            WHERE population >10000000 AND capital=1\n",
    "            ) c ON c.facts_id = f.id\n",
    "ORDER BY c.population DESC\n",
    "\n",
    "\n",
    "\n",
    "## 8. Challenge: Complex Query with Joins and Subqueries ##\n",
    "\n",
    "SELECT f.name country, c.urban_pop, f.population total_pop, CAST(urban_pop as float)/CAST(f.population as float) urban_pct\n",
    "FROM facts f \n",
    "INNER JOIN (SELECT facts_id, SUM(population) urban_pop \n",
    "            from cities\n",
    "           GROUP BY facts_id) \n",
    "            c ON c.facts_id = f.id\n",
    "WHERE urban_pct > 0.5\n",
    "ORDER BY urban_pct\n",
    "\n",
    "\n",
    "## 4. Combining Multiple Joins with Subqueries ##\n",
    "\n",
    "SELECT\n",
    "    ta.album_name album,\n",
    "    ta.artist_name artist,\n",
    "    COUNT(*) tracks_purchased\n",
    "FROM invoice_line il\n",
    "INNER JOIN (\n",
    "            SELECT\n",
    "                t.track_id,\n",
    "                ar.name artist_name,\n",
    "                al.title album_name\n",
    "            FROM track t\n",
    "            INNER JOIN album al ON al.album_id = t.album_id\n",
    "            INNER JOIN artist ar ON ar.artist_id = al.artist_id\n",
    "           ) ta\n",
    "           ON ta.track_id = il.track_id\n",
    "GROUP BY 1\n",
    "ORDER BY 3 DESC LIMIT 5;\n",
    "\n",
    "## 7. Multiple Named Subqueries ##\n",
    "\n",
    "WITH\n",
    "    india_customers AS\n",
    "        (\n",
    "            SELECT *\n",
    "            FROM chinook.customer\n",
    "            WHERE country = \"India\"\n",
    "         ),\n",
    "    sum_customers AS\n",
    "        (\n",
    "            SELECT sum(total) total_purchases,\n",
    "                customer_id\n",
    "            FROM chinook.invoice\n",
    "            GROUP BY customer_id\n",
    "            )\n",
    "SELECT \n",
    "    ic.first_name || \" \" || ic.last_name customer_name,\n",
    "    sc.total_purchases\n",
    "FROM india_customers AS ic\n",
    "INNER JOIN (SELECT * FROM sum_customers) \n",
    "            AS sc ON ic.customer_id = sc.customer_id\n",
    "ORDER BY 1"
   ]
  },
  {
   "cell_type": "markdown",
   "metadata": {},
   "source": [
    "## the WITH clause"
   ]
  },
  {
   "cell_type": "code",
   "execution_count": null,
   "metadata": {},
   "outputs": [],
   "source": [
    "WITH track_playlist AS\n",
    "        (\n",
    "        SELECT\n",
    "            p.playlist_id,\n",
    "            p.name AS playlist_name,\n",
    "            t.name AS track_name,\n",
    "            t.milliseconds/1000 AS length_seconds\n",
    "        FROM playlist p\n",
    "        LEFT JOIN playlist_track pt ON p.playlist_id = pt.playlist_id\n",
    "        LEFT JOIN track t ON t.track_id = pt.track_id\n",
    "        )\n",
    "\n",
    "SELECT \n",
    "    playlist_id,\n",
    "    playlist_name,\n",
    "    COUNT(track_name) AS number_of_tracks,\n",
    "    SUM(length_seconds) AS length_seconds\n",
    "FROM track_playlist\n",
    "GROUP BY playlist_id, playlist_name\n",
    "ORDER BY playlist_id"
   ]
  },
  {
   "cell_type": "markdown",
   "metadata": {},
   "source": [
    "## Combining Rows Using Intersect and Except ##"
   ]
  },
  {
   "cell_type": "code",
   "execution_count": null,
   "metadata": {},
   "outputs": [],
   "source": [
    "WITH customers_usa_gt_90 AS\n",
    "    (\n",
    "    SELECT * FROM chinook.customer_usa\n",
    "    INTERSECT\n",
    "    SELECT * FROM chinook.customer_gt_90_dollars\n",
    "    ) \n",
    "            \n",
    "SELECT  e.first_name || \" \" || e.last_name AS employee_name,\n",
    "        count(c.customer_id) AS customers_usa_gt_90\n",
    "FROM chinook.employee e\n",
    "LEFT JOIN customers_usa_gt_90 AS c ON e.employee_id = c.support_rep_id\n",
    "WHERE e.title = \"Sales Support Agent\"\n",
    "GROUP BY 1\n",
    "ORDER BY 1"
   ]
  },
  {
   "cell_type": "markdown",
   "metadata": {},
   "source": [
    "## Recursive Joins ##"
   ]
  },
  {
   "cell_type": "code",
   "execution_count": null,
   "metadata": {},
   "outputs": [],
   "source": [
    "SELECT e1.first_name|| \" \" || e1.last_name employee_name, \n",
    "    e1.title employee_title, \n",
    "    e2.first_name || \" \" || e2.last_name supervisor_name, \n",
    "    e2.title supervisor_title\n",
    "FROM employee e1\n",
    "LEFT JOIN employee e2 ON e1.reports_to = e2.employee_id\n",
    "ORDER BY employee_name"
   ]
  },
  {
   "cell_type": "markdown",
   "metadata": {},
   "source": [
    "## Creating Views"
   ]
  },
  {
   "cell_type": "code",
   "execution_count": null,
   "metadata": {},
   "outputs": [],
   "source": [
    "CREATE VIEW chinook.customer_gt_90_dollars AS\n",
    "    SELECT c.* \n",
    "    FROM chinook.invoice i \n",
    "    INNER JOIN chinook.customer c ON i.customer_id = c.customer_id\n",
    "    GROUP BY 1\n",
    "    HAVING SUM(i.total) > 90;\n",
    "\n",
    "SELECT * FROM chinook.customer_gt_90_dollars;\n"
   ]
  },
  {
   "cell_type": "markdown",
   "metadata": {},
   "source": [
    "## Case Statements\n",
    "Used here to generate columns"
   ]
  },
  {
   "cell_type": "code",
   "execution_count": null,
   "metadata": {},
   "outputs": [],
   "source": [
    "\n",
    "\n",
    "SELECT c.first_name || \" \" || c.last_name customer_name,\n",
    "    count(i.invoice_id) number_of_purchases,\n",
    "    sum(i.total) total_spent,\n",
    "    CASE\n",
    "        WHEN sum(i.total) < 40 THEN \"small spender\"\n",
    "        WHEN sum(i.total) > 100 THEN \"big spender\"\n",
    "        ELSE \"regular\"\n",
    "        END\n",
    "        AS customer_category\n",
    "FROM customer c\n",
    "INNER JOIN invoice i ON i.customer_id = c.customer_id\n",
    "GROUP BY 1\n",
    "ORDER BY 1"
   ]
  }
 ],
 "metadata": {
  "kernelspec": {
   "display_name": "Python 3",
   "language": "python",
   "name": "python3"
  },
  "language_info": {
   "codemirror_mode": {
    "name": "ipython",
    "version": 3
   },
   "file_extension": ".py",
   "mimetype": "text/x-python",
   "name": "python",
   "nbconvert_exporter": "python",
   "pygments_lexer": "ipython3",
   "version": "3.6.2"
  }
 },
 "nbformat": 4,
 "nbformat_minor": 2
}
