{
 "cells": [
  {
   "cell_type": "markdown",
   "metadata": {},
   "source": [
    "# Functions"
   ]
  },
  {
   "cell_type": "markdown",
   "metadata": {},
   "source": [
    "## Functions with Multiple Return Paths ##"
   ]
  },
  {
   "cell_type": "code",
   "execution_count": null,
   "metadata": {},
   "outputs": [],
   "source": [
    "wonder_woman = ['Wonder Woman','Patty Jenkins','Color',141,'Gal Gadot','English','USA',2017]\n",
    "\n",
    "def is_usa(input_lst):\n",
    "    if input_lst[6] == \"USA\":\n",
    "        return True\n",
    "    else:\n",
    "        return False\n",
    "wonder_woman_usa = is_usa(wonder_woman)\n",
    "\n"
   ]
  },
  {
   "cell_type": "markdown",
   "metadata": {},
   "source": [
    "## Optional Arguments ##"
   ]
  },
  {
   "cell_type": "code",
   "execution_count": 1,
   "metadata": {},
   "outputs": [
    {
     "ename": "NameError",
     "evalue": "name 'movie_data' is not defined",
     "output_type": "error",
     "traceback": [
      "\u001b[0;31m---------------------------------------------------------------------------\u001b[0m",
      "\u001b[0;31mNameError\u001b[0m                                 Traceback (most recent call last)",
      "\u001b[0;32m<ipython-input-1-b2d8d040508a>\u001b[0m in \u001b[0;36m<module>\u001b[0;34m()\u001b[0m\n\u001b[1;32m     23\u001b[0m \u001b[0;34m\u001b[0m\u001b[0m\n\u001b[1;32m     24\u001b[0m \u001b[0;34m\u001b[0m\u001b[0m\n\u001b[0;32m---> 25\u001b[0;31m \u001b[0mnum_of_us_movies\u001b[0m \u001b[0;34m=\u001b[0m \u001b[0mfeature_counter\u001b[0m\u001b[0;34m(\u001b[0m\u001b[0mmovie_data\u001b[0m\u001b[0;34m,\u001b[0m\u001b[0;36m6\u001b[0m\u001b[0;34m,\u001b[0m\u001b[0;34m\"USA\"\u001b[0m\u001b[0;34m,\u001b[0m\u001b[0;32mTrue\u001b[0m\u001b[0;34m)\u001b[0m\u001b[0;34m\u001b[0m\u001b[0m\n\u001b[0m\u001b[1;32m     26\u001b[0m \u001b[0mprint\u001b[0m\u001b[0;34m(\u001b[0m\u001b[0mnum_of_us_movies\u001b[0m\u001b[0;34m)\u001b[0m\u001b[0;34m\u001b[0m\u001b[0m\n",
      "\u001b[0;31mNameError\u001b[0m: name 'movie_data' is not defined"
     ]
    }
   ],
   "source": [
    "def index_equals_str(input_lst,index,input_str):\n",
    "    if input_lst[index] == input_str:\n",
    "        return True\n",
    "    else:\n",
    "        return False\n",
    "    \n",
    "def counter(input_lst,header_row = False):\n",
    "    num_elt = 0\n",
    "    if header_row == True:\n",
    "        input_lst = input_lst[1:len(input_lst)]\n",
    "    for each in input_lst:\n",
    "        num_elt = num_elt + 1\n",
    "    return num_elt\n",
    "\n",
    "def feature_counter(input_lst,index, input_str, header_row = False):\n",
    "    num_elt = 0\n",
    "    if header_row == True:\n",
    "        input_lst = input_lst[1:len(input_lst)]\n",
    "    for each in input_lst:\n",
    "        if each[index] == input_str:\n",
    "            num_elt = num_elt + 1\n",
    "    return num_elt\n",
    "\n",
    "\n",
    "num_of_us_movies = feature_counter(movie_data,6,\"USA\",True)\n",
    "print(num_of_us_movies)"
   ]
  },
  {
   "cell_type": "markdown",
   "metadata": {},
   "source": [
    "## Calling a Function inside another Function ##"
   ]
  },
  {
   "cell_type": "code",
   "execution_count": null,
   "metadata": {},
   "outputs": [],
   "source": [
    "def feature_counter(input_lst,index, input_str, header_row = False):\n",
    "    num_elt = 0\n",
    "    if header_row == True:\n",
    "        input_lst = input_lst[1:len(input_lst)]\n",
    "    for each in input_lst:\n",
    "        if each[index] == input_str:\n",
    "            num_elt = num_elt + 1\n",
    "    return num_elt\n",
    "def summary_statistics(input_lst):\n",
    "    num_japan_films = feature_counter(input_lst,6,\"Japan\",True)\n",
    "    num_color_films = feature_counter(input_lst,2,\"Color\",True)\n",
    "    num_films_in_english = feature_counter(input_lst,5,\"English\",True)\n",
    "    summary_dict = {\"japan_films\" : num_japan_films, \"color_films\" : num_color_films, \"films_in_english\" : num_films_in_english}\n",
    "    return summary_dict\n",
    "summary = summary_statistics(movie_data)"
   ]
  },
  {
   "cell_type": "markdown",
   "metadata": {},
   "source": [
    "\n",
    "## Function argument unpacking"
   ]
  },
  {
   "cell_type": "code",
   "execution_count": null,
   "metadata": {},
   "outputs": [],
   "source": [
    "def myfunc(x, y, z):\n",
    "    print(x, y, z)\n",
    "\n",
    "tuple_vec = (1, 0, 1)\n",
    "dict_vec = {'x': 1, 'y': 0, 'z': 1}\n",
    "\n",
    "myfunc(*tuple_vec)\n",
    "#Shows 1, 0, 1\n",
    "\n",
    "myfunc(**dict_vec)\n",
    "#shows 1, 0, 1"
   ]
  },
  {
   "cell_type": "markdown",
   "metadata": {},
   "source": [
    "## First class functions\n",
    "This means we can pass functions in as arguments to other functions, just like we can with objects. Many functions take advantage of first-class functions to simplify their logic. A common example is the filter() function, which takes a func argument and an ls argument (in that order), and returns a list of all of the elements in ls for which func evaluates to True. In other words, it filters out every element that evaluates to False when we call func on that argument.\n",
    "\n",
    "Just like with map(), we need to cast the result of a filter() to a list using the list() function."
   ]
  },
  {
   "cell_type": "code",
   "execution_count": null,
   "metadata": {},
   "outputs": [],
   "source": [
    "ints = list(map(int, [1.5, 2.4, 199.7, 56.0]))\n",
    "print(ints)\n",
    "floats = list(map(float,not_floats))\n",
    "\n",
    "## 8. Average Password Length ##\n",
    "password_lengths = list(map(len,passwords))\n",
    "avg_password_length = sum(password_lengths)/len(password_lengths)\n",
    "\n",
    "def is_palindrome(my_string):\n",
    "    return my_string == my_string[::-1]\n",
    "\n",
    "palindrome_passwords = list(filter(is_palindrome,passwords))\n"
   ]
  },
  {
   "cell_type": "markdown",
   "metadata": {},
   "source": [
    "## lambda functions\n",
    "Also called anonymous functions. We use lambda functions when we only want to run a function once, and don't need to save it for reuse. However, remember that we should only use lambda functions when we're positive that we won't use a function somewhere else in our code.\n",
    "\n",
    "lambda arg1, arg2, etc. : perform task on arg1 and arg2\n",
    "\n",
    "So, lambda x : x ** 2 is a lambda function that takes a parameter x and squares it. Lambda functions can have multiple arguments as well. For instance, lambda x, y : x + y is a lambda function that takes two parameters and adds them together.\n"
   ]
  },
  {
   "cell_type": "code",
   "execution_count": null,
   "metadata": {},
   "outputs": [],
   "source": [
    "numbers = [1, 2, 3, 4, 5, 6, 7, 8, 9, 10]\n",
    "evens = list(filter(lambda x : x % 2 == 0, numbers))\n",
    "print(evens)\n",
    "palindrome_passwords = list(filter(lambda x: x == x[::-1], passwords))\n",
    "\n",
    "## 11. Password Strengths ##\n",
    "numbers = [1, 2, 3, 4, 5, 6, 7, 8, 9, 10]\n",
    "evens = list(filter(lambda x : x % 2 == 0, numbers))\n",
    "print(evens)\n",
    "\n",
    "weak_passwords =list(filter(lambda x: len(x) < 6,passwords))\n",
    "medium_passwords =list(filter(lambda x: len(x) >= 6 and len(x) <=10,passwords))\n",
    "strong_passwords =list(filter(lambda x: len(x) > 10,passwords))\n"
   ]
  }
 ],
 "metadata": {
  "kernelspec": {
   "display_name": "Python 3",
   "language": "python",
   "name": "python3"
  },
  "language_info": {
   "codemirror_mode": {
    "name": "ipython",
    "version": 3
   },
   "file_extension": ".py",
   "mimetype": "text/x-python",
   "name": "python",
   "nbconvert_exporter": "python",
   "pygments_lexer": "ipython3",
   "version": "3.6.2"
  }
 },
 "nbformat": 4,
 "nbformat_minor": 2
}
