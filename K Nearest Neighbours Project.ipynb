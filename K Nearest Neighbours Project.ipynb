{
 "cells": [
  {
   "cell_type": "code",
   "execution_count": 40,
   "metadata": {},
   "outputs": [],
   "source": [
    "import pandas as pd\n",
    "import numpy as np\n",
    "\n",
    "cols = ['symboling', 'normalized-losses', 'make', 'fuel-type', 'aspiration', 'num-of-doors', 'body-style','drive-wheels','engine-location','wheel-base','length', 'width', 'height','curb-weight','engine-type','num-of-cylinders','engine-size','fuel-system', 'bore','stroke', 'compression-ratio', 'horsepower','peak-rpm','city-mpg','highway-mpg','price']\n",
    "\n",
    "# read in the dataset, assigning column names as per the documentation\n",
    "cars = pd.read_csv('data/imports-85.data', names=cols)\n"
   ]
  },
  {
   "cell_type": "code",
   "execution_count": 41,
   "metadata": {},
   "outputs": [],
   "source": [
    "# select just the numeric columns\n",
    "numeric_cols = ['symboling','normalized-losses','wheel-base','length','width','height','curb-weight','engine-size','bore','stroke','compression-ratio','horsepower','peak-rpm','city-mpg','highway-mpg','price']\n",
    "numeric_cars = cars[numeric_cols]\n",
    "\n",
    "# replace the '?' missing values with nan\n",
    "numeric_cars = numeric_cars.replace('?',np.nan)"
   ]
  },
  {
   "cell_type": "code",
   "execution_count": 42,
   "metadata": {},
   "outputs": [],
   "source": [
    "# convert object column types to floats\n",
    "numeric_cars = numeric_cars.astype('float')"
   ]
  },
  {
   "cell_type": "code",
   "execution_count": 43,
   "metadata": {},
   "outputs": [
    {
     "data": {
      "text/plain": [
       "symboling             0\n",
       "normalized-losses    41\n",
       "wheel-base            0\n",
       "length                0\n",
       "width                 0\n",
       "height                0\n",
       "curb-weight           0\n",
       "engine-size           0\n",
       "bore                  4\n",
       "stroke                4\n",
       "compression-ratio     0\n",
       "horsepower            2\n",
       "peak-rpm              2\n",
       "city-mpg              0\n",
       "highway-mpg           0\n",
       "price                 4\n",
       "dtype: int64"
      ]
     },
     "execution_count": 43,
     "metadata": {},
     "output_type": "execute_result"
    }
   ],
   "source": [
    "# work out how many of each colum contain null values\n",
    "numeric_cars.isnull().sum()"
   ]
  },
  {
   "cell_type": "code",
   "execution_count": 45,
   "metadata": {},
   "outputs": [
    {
     "data": {
      "text/plain": [
       "symboling            0\n",
       "normalized-losses    0\n",
       "wheel-base           0\n",
       "length               0\n",
       "width                0\n",
       "height               0\n",
       "curb-weight          0\n",
       "engine-size          0\n",
       "bore                 0\n",
       "stroke               0\n",
       "compression-ratio    0\n",
       "horsepower           0\n",
       "peak-rpm             0\n",
       "city-mpg             0\n",
       "highway-mpg          0\n",
       "price                0\n",
       "dtype: int64"
      ]
     },
     "execution_count": 45,
     "metadata": {},
     "output_type": "execute_result"
    }
   ],
   "source": [
    "# as its the target column, records with a null price will not be useful for training and predicting, so remove the row\n",
    "numeric_cars = numeric_cars.dropna(subset=['price'])\n",
    "\n",
    "#Replace missing values in other columns using column means.\n",
    "means = numeric_cars.mean()\n",
    "numeric_cars = numeric_cars.fillna(means)\n",
    "\n",
    "# check there are no more missing values \n",
    "numeric_cars.isnull().sum()"
   ]
  },
  {
   "cell_type": "code",
   "execution_count": 54,
   "metadata": {},
   "outputs": [
    {
     "data": {
      "text/plain": [
       "201"
      ]
     },
     "execution_count": 54,
     "metadata": {},
     "output_type": "execute_result"
    }
   ],
   "source": [
    "# normalise (or standardise) all of the numeric columns\n",
    "normalised_cars = (numeric_cars - numeric_cars.mean()) / (numeric_cars.std())\n"
   ]
  },
  {
   "cell_type": "code",
   "execution_count": 57,
   "metadata": {},
   "outputs": [],
   "source": [
    "from sklearn.neighbors import KNeighborsRegressor\n",
    "from sklearn.metrics import mean_squared_error"
   ]
  },
  {
   "cell_type": "code",
   "execution_count": 107,
   "metadata": {},
   "outputs": [
    {
     "data": {
      "text/plain": [
       "{'bore': {1: 8602.5884845006603,\n",
       "  3: 6984.2394894809158,\n",
       "  5: 6795.3883115355857,\n",
       "  7: 6896.5594996277259,\n",
       "  9: 6882.8228150900222},\n",
       " 'city-mpg': {1: 5901.1435743547636,\n",
       "  3: 4608.1804463803974,\n",
       "  5: 4760.4498418773101,\n",
       "  7: 5218.8478256216049,\n",
       "  9: 5446.82446248222},\n",
       " 'compression-ratio': {1: 8087.205346523092,\n",
       "  3: 7375.0636855783587,\n",
       "  5: 6610.8121531591287,\n",
       "  7: 6732.8012829415147,\n",
       "  9: 7024.4855254634349},\n",
       " 'curb-weight': {1: 5264.2902307588784,\n",
       "  3: 5022.3180117572329,\n",
       "  5: 4445.1419203752348,\n",
       "  7: 4330.6081044180528,\n",
       "  9: 4632.9252512130197},\n",
       " 'engine-size': {1: 3258.4861059962027,\n",
       "  3: 2951.5259704863593,\n",
       "  5: 3271.4499383316111,\n",
       "  7: 3563.0867742564151,\n",
       "  9: 3831.8244149840766},\n",
       " 'height': {1: 8751.1600074074486,\n",
       "  3: 8121.1651026045756,\n",
       "  5: 8073.1197593196175,\n",
       "  7: 7693.3026630981794,\n",
       "  9: 7776.3968624188938},\n",
       " 'highway-mpg': {1: 6025.5949667207387,\n",
       "  3: 4671.3903897894661,\n",
       "  5: 4643.0462776752138,\n",
       "  7: 4792.4857559257971,\n",
       "  9: 5227.3373815663726},\n",
       " 'horsepower': {1: 4170.0548480378011,\n",
       "  3: 4020.1054510029612,\n",
       "  5: 4048.4377247389034,\n",
       "  7: 4205.3935213758805,\n",
       "  9: 4514.5046414780554},\n",
       " 'length': {1: 4611.9902417610347,\n",
       "  3: 5129.6720397529843,\n",
       "  5: 5428.8101014152007,\n",
       "  7: 5311.9103449731665,\n",
       "  9: 5383.0545148334459},\n",
       " 'normalized-losses': {1: 7836.7752643899685,\n",
       "  3: 7516.084828453897,\n",
       "  5: 7339.6757551335368,\n",
       "  7: 7759.1268291306769,\n",
       "  9: 7794.7463665024352},\n",
       " 'peak-rpm': {1: 9511.4800677501244,\n",
       "  3: 8537.5508999734211,\n",
       "  5: 7649.1705640818227,\n",
       "  7: 7549.7419500420474,\n",
       "  9: 7372.1705927677322},\n",
       " 'stroke': {1: 9043.3513173770352,\n",
       "  3: 7247.3079773521322,\n",
       "  5: 7954.3010342434445,\n",
       "  7: 7777.5669542228743,\n",
       "  9: 7755.3987864426344},\n",
       " 'wheel-base': {1: 4493.7340688104941,\n",
       "  3: 5208.3933116546496,\n",
       "  5: 5460.8514583622418,\n",
       "  7: 5448.1070513823315,\n",
       "  9: 5738.4056851923124},\n",
       " 'width': {1: 4559.257297950061,\n",
       "  3: 4595.4858709976525,\n",
       "  5: 4772.4591494395536,\n",
       "  7: 4715.9184412363211,\n",
       "  9: 4730.373071846554}}"
      ]
     },
     "execution_count": 107,
     "metadata": {},
     "output_type": "execute_result"
    }
   ],
   "source": [
    "# select just the numeric columns we are interested in as features\n",
    "numeric_cols = ['normalized-losses','wheel-base','length','width','height','curb-weight','engine-size','bore','stroke','compression-ratio','horsepower','peak-rpm','city-mpg','highway-mpg']\n",
    "\n",
    "def knn_train_test(train_col,target_col,df):\n",
    "    \n",
    "    k_values=[1, 3, 5, 7, 9]\n",
    "    rmse_vals = dict()\n",
    "    \n",
    "    np.random.seed(1)\n",
    "        \n",
    "    # Randomize order of rows in data frame.\n",
    "    shuffled_index = np.random.permutation(df.index)\n",
    "    shuffled_df = df.reindex(shuffled_index)\n",
    "    \n",
    "    # get about 50% of the data to use for training the model, split the input dataframe\n",
    "    half_row = int(shuffled_df.shape[0] * 0.5)\n",
    "   \n",
    "    train_df = shuffled_df.iloc[0:half_row]\n",
    "    test_df = shuffled_df.iloc[half_row:]\n",
    "    \n",
    "    for k in k_values:\n",
    "        \n",
    "        model = KNeighborsRegressor(n_neighbors=k)\n",
    "        model.fit(train_df[[train_col]],train_df[target_col])\n",
    "        predictions = model.predict(test_df[[train_col]])\n",
    "    \n",
    "        rmse = np.sqrt(mean_squared_error(test_df[target_col],predictions))\n",
    "        rmse_vals[k] = rmse\n",
    "    \n",
    "    return rmse_vals\n",
    "\n",
    "\n",
    "rmse_results = dict()\n",
    "\n",
    "# call knn_train_test for each numeric column in the data\n",
    "for col in numeric_cols:\n",
    "        \n",
    "    rmse_results[col] = knn_train_test(col,'price',numeric_cars)\n",
    "\n",
    "rmse_results"
   ]
  },
  {
   "cell_type": "code",
   "execution_count": 99,
   "metadata": {},
   "outputs": [
    {
     "data": {
      "image/png": "[encoded data removed]",
      "text/plain": [
       "<matplotlib.figure.Figure at 0x1a186e78d0>"
      ]
     },
     "metadata": {},
     "output_type": "display_data"
    }
   ],
   "source": [
    "import matplotlib.pyplot as plt\n",
    "%matplotlib inline\n",
    "\n",
    "# plot the results for the kvalues compared to the RMSE \n",
    "for k,v in rmse_results.items():\n",
    "    \n",
    "    x_values = list(v.keys())\n",
    "    y_values = list(v.values())\n",
    "    \n",
    "    plt.plot(x_values,y_values,label=k) \n",
    "    \n",
    "plt.title('Car Features RMSE vs k value')\n",
    "plt.xlabel('k value')\n",
    "plt.ylabel('RMSE')\n",
    "plt.legend(loc = \"center left\", bbox_to_anchor = (1, 0.5))\n",
    "plt.show()"
   ]
  },
  {
   "cell_type": "code",
   "execution_count": 112,
   "metadata": {},
   "outputs": [
    {
     "data": {
      "text/plain": [
       "engine-size          3375.274641\n",
       "horsepower           4191.699237\n",
       "width                4674.698766\n",
       "curb-weight          4739.056704\n",
       "highway-mpg          5071.970954\n",
       "length               5173.087449\n",
       "city-mpg             5187.089230\n",
       "wheel-base           5269.898315\n",
       "compression-ratio    7166.073599\n",
       "bore                 7232.319720\n",
       "normalized-losses    7649.281809\n",
       "stroke               7955.585214\n",
       "height               8083.028879\n",
       "peak-rpm             8124.022815\n",
       "dtype: float64"
      ]
     },
     "execution_count": 112,
     "metadata": {},
     "output_type": "execute_result"
    }
   ],
   "source": [
    "# Compute average RMSE across different `k` values for each feature.\n",
    "feature_avg_rmse = {}\n",
    "\n",
    "for k,v in rmse_results.items():\n",
    "    \n",
    "    avg_rmse = np.mean(list(v.values()))\n",
    "    feature_avg_rmse[k] = avg_rmse\n",
    "    \n",
    "# convert to a series to format the output nicely\n",
    "series_avg_rmse = pd.Series(feature_avg_rmse)\n",
    "series_avg_rmse.sort_values()\n"
   ]
  },
  {
   "cell_type": "code",
   "execution_count": 114,
   "metadata": {},
   "outputs": [
    {
     "data": {
      "text/plain": [
       "{'Using best 2 rmse': 2925.00464591321,\n",
       " 'Using best 3 rmse': 3864.0673819535332,\n",
       " 'Using best 4 rmse': 3870.6838798617723,\n",
       " 'Using best 5 rmse': 3872.2947119553833}"
      ]
     },
     "execution_count": 114,
     "metadata": {},
     "output_type": "execute_result"
    }
   ],
   "source": [
    "# modify knn_train_test to use multiple columns\n",
    "def knn_train_test_multi(train_cols,target_col,df):\n",
    "   \n",
    "    np.random.seed(1)\n",
    "        \n",
    "    # Randomize order of rows in data frame.\n",
    "    shuffled_index = np.random.permutation(df.index)\n",
    "    shuffled_df = df.reindex(shuffled_index)\n",
    "    \n",
    "    # get about 50% of the data to use for training the model, split the input dataframe\n",
    "    half_row = int(shuffled_df.shape[0] * 0.5)\n",
    "   \n",
    "    train_df = shuffled_df.iloc[0:half_row]\n",
    "    test_df = shuffled_df.iloc[half_row:]\n",
    "    \n",
    "    model = KNeighborsRegressor()\n",
    "    model.fit(train_df[train_cols],train_df[target_col])\n",
    "    predictions = model.predict(test_df[train_cols])\n",
    "   \n",
    "    return np.sqrt(mean_squared_error(test_df[target_col],predictions))\n",
    "\n",
    "rmse_multi_results = dict()\n",
    "\n",
    "# Use the best 2 features from the previous step to train and test a multivariate k-nearest neighbors model using the default k value.\n",
    "rmse_multi_results['Using best 2 rmse'] = knn_train_test_multi(['engine-size','horsepower'],'price',numeric_cars)\n",
    "\n",
    "# Use the best 3 features from the previous step to train and test a multivariate k-nearest neighbors model using the default k value.\n",
    "rmse_multi_results['Using best 3 rmse'] = knn_train_test_multi(['engine-size','horsepower','curb-weight'],'price',numeric_cars)\n",
    "\n",
    "# Use the best 4 features from the previous step to train and test a multivariate k-nearest neighbors model using the default k value.\n",
    "rmse_multi_results['Using best 4 rmse'] = knn_train_test_multi(['engine-size','horsepower','curb-weight','highway-mpg'],'price',numeric_cars)\n",
    "\n",
    "# Use the best 5 features from the previous step to train and test a multivariate k-nearest neighbors model using the default k value\n",
    "rmse_multi_results['Using best 5 rmse'] = knn_train_test_multi(['engine-size','horsepower','curb-weight','highway-mpg','length'],'price',numeric_cars)\n",
    "\n",
    "rmse_multi_results"
   ]
  },
  {
   "cell_type": "code",
   "execution_count": 142,
   "metadata": {},
   "outputs": [
    {
     "data": {
      "text/plain": [
       "{'Top 1': {1: 2832.6762159757077,\n",
       "  2: 2592.7605347571262,\n",
       "  3: 2620.3276915723959,\n",
       "  4: 2824.6258095735284,\n",
       "  5: 2925.00464591321,\n",
       "  6: 3162.7465130445685,\n",
       "  7: 3295.7806528253186,\n",
       "  8: 3580.3376319325566,\n",
       "  9: 3844.4403771511702,\n",
       "  10: 4066.9556417400458,\n",
       "  11: 4162.8313877399169,\n",
       "  12: 4250.9953344770765,\n",
       "  13: 4288.279719198008,\n",
       "  14: 4318.6775243534248,\n",
       "  15: 4384.6341844041108,\n",
       "  16: 4477.3393807249286,\n",
       "  17: 4542.7101905616355,\n",
       "  18: 4675.5940589042712,\n",
       "  19: 4696.9362995014399,\n",
       "  20: 4684.8444376943871,\n",
       "  21: 4744.078137218994,\n",
       "  22: 4779.9698957246619,\n",
       "  23: 4826.869687492047,\n",
       "  24: 4881.3490058631751,\n",
       "  25: 4963.926213279482},\n",
       " 'Top 2': {1: 4339.5580032264043,\n",
       "  2: 4237.6860045627882,\n",
       "  3: 3915.667337998746,\n",
       "  4: 3856.0240146727137,\n",
       "  5: 3864.0673819535332,\n",
       "  6: 4008.3548993882696,\n",
       "  7: 4077.4287673481854,\n",
       "  8: 4266.3491801044565,\n",
       "  9: 4475.6944629090531,\n",
       "  10: 4414.2209309713689,\n",
       "  11: 4595.4366200424784,\n",
       "  12: 4670.7056225419501,\n",
       "  13: 4836.3366167993518,\n",
       "  14: 4932.2879714140936,\n",
       "  15: 4938.5719457294863,\n",
       "  16: 4980.4087469740207,\n",
       "  17: 5034.6359301399489,\n",
       "  18: 5121.5253959271749,\n",
       "  19: 5122.0431065428274,\n",
       "  20: 5203.7721037196179,\n",
       "  21: 5176.3869501650324,\n",
       "  22: 5151.7194980905133,\n",
       "  23: 5213.81748035078,\n",
       "  24: 5207.9429801227652,\n",
       "  25: 5240.7232941861894},\n",
       " 'Top 3': {1: 4341.3007575295596,\n",
       "  2: 4239.5219143060449,\n",
       "  3: 3916.5419471751352,\n",
       "  4: 3857.063452403439,\n",
       "  5: 3870.6838798617723,\n",
       "  6: 4008.3349961915819,\n",
       "  7: 4075.3599958255049,\n",
       "  8: 4264.7664158226144,\n",
       "  9: 4475.6183063138069,\n",
       "  10: 4440.1768269466984,\n",
       "  11: 4595.9516114148664,\n",
       "  12: 4671.4448319330786,\n",
       "  13: 4836.0280615008232,\n",
       "  14: 4932.2879714140936,\n",
       "  15: 4940.475839969723,\n",
       "  16: 4980.4605370510817,\n",
       "  17: 5034.404751265186,\n",
       "  18: 5119.8122014742403,\n",
       "  19: 5122.0431065428274,\n",
       "  20: 5203.7721037196179,\n",
       "  21: 5176.3778829431676,\n",
       "  22: 5153.8384404678727,\n",
       "  23: 5213.4263226456842,\n",
       "  24: 5206.960294230179,\n",
       "  25: 5239.8001169737026}}"
      ]
     },
     "execution_count": 142,
     "metadata": {},
     "output_type": "execute_result"
    }
   ],
   "source": [
    "# modify knn_train_test to vary hyperparameters between 1 and 25\n",
    "def knn_train_test_hyper(train_cols,target_col,df):\n",
    "   \n",
    "    np.random.seed(1)\n",
    "    \n",
    "    hyper_params = [x for x in range(1, 26)]\n",
    "        \n",
    "    # Randomize order of rows in data frame.\n",
    "    shuffled_index = np.random.permutation(df.index)\n",
    "    shuffled_df = df.reindex(shuffled_index)\n",
    "    \n",
    "    # get about 50% of the data to use for training the model, split the input dataframe\n",
    "    half_row = int(shuffled_df.shape[0] * 0.5)\n",
    "   \n",
    "    train_df = shuffled_df.iloc[0:half_row]\n",
    "    test_df = shuffled_df.iloc[half_row:]\n",
    "    \n",
    "    rmse_k = dict()\n",
    "    \n",
    "    for i in hyper_params:\n",
    "        \n",
    "        model = KNeighborsRegressor(n_neighbors=i)\n",
    "        model.fit(train_df[train_cols],train_df[target_col])\n",
    "        predictions = model.predict(test_df[train_cols])\n",
    "        rmse_k[i] = np.sqrt(mean_squared_error(test_df[target_col],predictions))\n",
    "    \n",
    "    return rmse_k\n",
    "\n",
    "rmse_k_top = dict()\n",
    "\n",
    "# For the top 3 models in the last step, vary the hyperparameter value from 1 to 25 and plot the resulting RMSE values.\n",
    "rmse_k_top[\"Top 1\"] = knn_train_test_hyper(['engine-size','horsepower'],'price',numeric_cars)\n",
    "rmse_k_top[\"Top 2\"] = knn_train_test_hyper(['engine-size','horsepower','curb-weight'],'price',numeric_cars)\n",
    "rmse_k_top[\"Top 3\"] = knn_train_test_hyper(['engine-size','horsepower','curb-weight','highway-mpg'],'price',numeric_cars)\n",
    "\n",
    "rmse_k_top"
   ]
  },
  {
   "cell_type": "code",
   "execution_count": 143,
   "metadata": {},
   "outputs": [
    {
     "data": {
      "image/png": "[encoded data removed]",
      "text/plain": [
       "<matplotlib.figure.Figure at 0x1a191dbb70>"
      ]
     },
     "metadata": {},
     "output_type": "display_data"
    }
   ],
   "source": [
    "# plot the results\n",
    "for k,v in rmse_k_top.items():\n",
    "    \n",
    "    plt.plot(list(v.keys()),list(v.values()),label=k)   \n",
    "    plt.legend()\n",
    "    plt.xlabel('k value')\n",
    "    plt.ylabel('RMSE')\n",
    "    \n",
    "plt.show()"
   ]
  },
  {
   "cell_type": "code",
   "execution_count": null,
   "metadata": {},
   "outputs": [],
   "source": []
  }
 ],
 "metadata": {
  "kernelspec": {
   "display_name": "Python 3",
   "language": "python",
   "name": "python3"
  },
  "language_info": {
   "codemirror_mode": {
    "name": "ipython",
    "version": 3
   },
   "file_extension": ".py",
   "mimetype": "text/x-python",
   "name": "python",
   "nbconvert_exporter": "python",
   "pygments_lexer": "ipython3",
   "version": "3.6.2"
  }
 },
 "nbformat": 4,
 "nbformat_minor": 2
}
