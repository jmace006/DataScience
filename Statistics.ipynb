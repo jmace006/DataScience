{
 "cells": [
  {
   "cell_type": "markdown",
   "metadata": {},
   "source": [
    "# Statistics\n",
    "At its core, statistics is about counting and measuring."
   ]
  },
  {
   "cell_type": "markdown",
   "metadata": {},
   "source": [
    "## Scales\n",
    "To count & measure effectively, we have to define scales on which to base our counts. A scale represents the possible values that a variable can have.\n",
    "\n",
    "Scales can be either discrete or continuous. Inches are on a continuous scale, and even fractions of an inch are possible. Half of a car isn't a meaningful quantity, because cars are discrete. You can't have 52% of a car - you either have a car, or you don't.\n",
    "You can still average items on discrete scales, though. You could say \"1.75 cars use this parking lot each day, on average.\" Any daily value for number of cars, however, would need to be a whole number\n",
    "\n",
    "\n",
    "* Equal Interval Scales Equal interval scales are always consistent.  No matter what speed you're traveling at, a difference of five miles per hour is always five miles per hour. The difference between 60 and 55 miles per hour will always be equal to the difference between 10 and five miles per hour.\n",
    "\n",
    "* Logarithmic Scales Each step on a logarithmic scale represents a different order of magnitude. The Richter scale that measures the strength of earthquakes, for example, is a logarithmic scale.\n",
    "\n",
    "* Ordinal scales where items are ordered by rank. how many cigarettes they smoke per day, and the answers could be \"none,\" \"a few,\" \"some,\" or \"a lot.\" These answers don't map exactly to numbers of cigarettes, but we know that \"a few\" is more than \"none.\"\n",
    "\n",
    "* Categorical scales Group values into general categories. One example is gender, which can be male or female. Unlike ordinal scales, categorical scales don't have an order. In our gender example, for instance, one category isn't greater than or less than the other.\n",
    "\n"
   ]
  },
  {
   "cell_type": "markdown",
   "metadata": {},
   "source": [
    "## Absolute Zero \n",
    "Scales with absolute zero points that aren't at 0 don't enable us to take meaningful ratios. For example, if four cars parked in the lot yesterday and eight park today, I can safely say that twice as many cars are in the lot today.\n",
    "However, if it was 32 degrees Fahrenheit yesterday, and it's 64 degrees today, I can't say that it's twice as warm today as yesterday.\n",
    "\n"
   ]
  },
  {
   "cell_type": "markdown",
   "metadata": {},
   "source": [
    "# Measuring Data\n",
    "## Skew\n",
    "\n",
    "Skew refers to asymmetry in the data. When data is concentrated on the right side of the histogram, for example, we say it has a negative skew. When the data is concentrated on the left, we say it has a positive skew. We can measure the level of skew with the skew function. A positive value indicates a positive skew, a negative value indicates a negative skew, and a value close to zero indicates no skew."
   ]
  },
  {
   "cell_type": "code",
   "execution_count": 4,
   "metadata": {},
   "outputs": [
    {
     "ename": "NameError",
     "evalue": "name 'test_scores_positive' is not defined",
     "output_type": "error",
     "traceback": [
      "\u001b[0;31m---------------------------------------------------------------------------\u001b[0m",
      "\u001b[0;31mNameError\u001b[0m                                 Traceback (most recent call last)",
      "\u001b[0;32m<ipython-input-4-911c4dfd6120>\u001b[0m in \u001b[0;36m<module>\u001b[0;34m()\u001b[0m\n\u001b[1;32m      1\u001b[0m \u001b[0;32mfrom\u001b[0m \u001b[0mscipy\u001b[0m\u001b[0;34m.\u001b[0m\u001b[0mstats\u001b[0m \u001b[0;32mimport\u001b[0m \u001b[0mskew\u001b[0m\u001b[0;34m\u001b[0m\u001b[0m\n\u001b[1;32m      2\u001b[0m \u001b[0;34m\u001b[0m\u001b[0m\n\u001b[0;32m----> 3\u001b[0;31m \u001b[0mpositive_skew\u001b[0m \u001b[0;34m=\u001b[0m \u001b[0mskew\u001b[0m\u001b[0;34m(\u001b[0m\u001b[0mtest_scores_positive\u001b[0m\u001b[0;34m)\u001b[0m\u001b[0;34m\u001b[0m\u001b[0m\n\u001b[0m\u001b[1;32m      4\u001b[0m \u001b[0mnegative_skew\u001b[0m \u001b[0;34m=\u001b[0m \u001b[0mskew\u001b[0m\u001b[0;34m(\u001b[0m\u001b[0mtest_scores_negative\u001b[0m\u001b[0;34m)\u001b[0m\u001b[0;34m\u001b[0m\u001b[0m\n\u001b[1;32m      5\u001b[0m \u001b[0mno_skew\u001b[0m \u001b[0;34m=\u001b[0m \u001b[0mskew\u001b[0m\u001b[0;34m(\u001b[0m\u001b[0mtest_scores_normal\u001b[0m\u001b[0;34m)\u001b[0m\u001b[0;34m\u001b[0m\u001b[0m\n",
      "\u001b[0;31mNameError\u001b[0m: name 'test_scores_positive' is not defined"
     ]
    }
   ],
   "source": [
    "from scipy.stats import skew\n",
    "\n",
    "positive_skew = skew(test_scores_positive)\n",
    "negative_skew = skew(test_scores_negative)\n",
    "no_skew = skew(test_scores_normal)"
   ]
  },
  {
   "cell_type": "markdown",
   "metadata": {},
   "source": [
    "## Kurtosis:\n",
    "\n",
    "Kurtosis measures whether the distribution is short and flat, or tall and skinny. In other words, it assesses the shape of the peak. \"Shorter\" distributions have a lower maximum frequency, but higher subsequent frequencies. A high kurtosis may indicate problems with outliers (very large or very small values that skew the data)."
   ]
  },
  {
   "cell_type": "code",
   "execution_count": null,
   "metadata": {},
   "outputs": [],
   "source": [
    "# We can measure kurtosis with the kurtosis function.\n",
    "# Negative values indicate platykurtic distributions, positive values indicate leptokurtic distributions, and values near 0 are mesokurtic.\n",
    "from scipy.stats import kurtosis\n",
    "\n",
    "kurt_platy = kurtosis(test_scores_platy)\n",
    "kurt_lepto = kurtosis(test_scores_lepto)\n",
    "kurt_meso = kurtosis(test_scores_meso)"
   ]
  },
  {
   "cell_type": "markdown",
   "metadata": {},
   "source": [
    "## Modality: \n",
    "\n",
    "Modality refers to the number of modes, or peaks, in a distribution.\n",
    "Real-world data is often unimodal (it has only one mode). More than one peak means that the plot is multimodal. We can't easily measure the modality of a plot, like we can with kurtosis or skew.\n",
    "Often, the best way to detect multimodality is to examine the plot visually."
   ]
  },
  {
   "cell_type": "markdown",
   "metadata": {},
   "source": [
    "## Central tendency measures: Mean\n",
    "the mathematical symbol for the mean:\n",
    "μ x\n",
    "\n",
    "This symbol means \"the average of all of the values in x.\" The fact that x is lowercase and in bold indicates that it's a vector. Very large and very small values can easily skew the mean.\n",
    "Very skewed distributions can make the mean misleading.\n",
    "If we subtract the mean of a set of numbers from each of the numbers within that set, the overall total of all of the differences will always add up to zero.\n",
    "That's because the mean is the \"center\" of the data. All of the differences that are negative will always cancel out all of the differences that are positive.\n",
    "\n"
   ]
  },
  {
   "cell_type": "markdown",
   "metadata": {},
   "source": [
    "## Central tendency measures: Median \n",
    "\n",
    "Another measure of central tendency. This is the midpoint of an array.\n",
    "\n",
    "To calculate the median, we need to sort the array, then take the value in the middle. If there are two values in the middle (because there are an even number of items in the array), then we take the mean of the two middle values.\n",
    "\n",
    "The median is less sensitive to very large or very small values (which we call outliers), and is a more realistic center of the distribution."
   ]
  },
  {
   "cell_type": "code",
   "execution_count": 5,
   "metadata": {},
   "outputs": [
    {
     "ename": "NameError",
     "evalue": "name 'numpy' is not defined",
     "output_type": "error",
     "traceback": [
      "\u001b[0;31m---------------------------------------------------------------------------\u001b[0m",
      "\u001b[0;31mNameError\u001b[0m                                 Traceback (most recent call last)",
      "\u001b[0;32m<ipython-input-5-ee68a56a1e48>\u001b[0m in \u001b[0;36m<module>\u001b[0;34m()\u001b[0m\n\u001b[1;32m      2\u001b[0m \u001b[0;32mfrom\u001b[0m \u001b[0mnumpy\u001b[0m \u001b[0;32mimport\u001b[0m \u001b[0mmedian\u001b[0m\u001b[0;34m\u001b[0m\u001b[0m\n\u001b[1;32m      3\u001b[0m \u001b[0;34m\u001b[0m\u001b[0m\n\u001b[0;32m----> 4\u001b[0;31m \u001b[0mvalues_median\u001b[0m \u001b[0;34m=\u001b[0m \u001b[0mnumpy\u001b[0m\u001b[0;34m.\u001b[0m\u001b[0mmedian\u001b[0m\u001b[0;34m(\u001b[0m\u001b[0mvalues\u001b[0m\u001b[0;34m)\u001b[0m\u001b[0;34m\u001b[0m\u001b[0m\n\u001b[0m\u001b[1;32m      5\u001b[0m \u001b[0mvalues_list\u001b[0m \u001b[0;34m=\u001b[0m \u001b[0;34m[\u001b[0m\u001b[0mvalue\u001b[0m \u001b[0;34m-\u001b[0m \u001b[0mvalues_median\u001b[0m \u001b[0;32mfor\u001b[0m \u001b[0mvalue\u001b[0m \u001b[0;32min\u001b[0m \u001b[0mvalues\u001b[0m\u001b[0;34m]\u001b[0m\u001b[0;34m\u001b[0m\u001b[0m\n\u001b[1;32m      6\u001b[0m \u001b[0mmedian_difference_sum\u001b[0m \u001b[0;34m=\u001b[0m \u001b[0msum\u001b[0m\u001b[0;34m(\u001b[0m\u001b[0mvalues_list\u001b[0m\u001b[0;34m)\u001b[0m\u001b[0;34m\u001b[0m\u001b[0m\n",
      "\u001b[0;31mNameError\u001b[0m: name 'numpy' is not defined"
     ]
    }
   ],
   "source": [
    "\n",
    "from numpy import median\n",
    "\n",
    "values_median = numpy.median(values)\n",
    "values_list = [value - values_median for value in values]\n",
    "median_difference_sum = sum(values_list)\n",
    "\n",
    "\n",
    "plt.hist(test_scores_positive)\n",
    "median = numpy.median(test_scores_positive)\n",
    "plt.axvline(median, color = \"g\")\n",
    "plt.axvline(test_scores_positive.mean(), color=\"r\")\n",
    "plt.show()"
   ]
  },
  {
   "cell_type": "markdown",
   "metadata": {},
   "source": [
    "## Measures of Spread: Variance\n",
    "\n",
    "Variance tells us how concentrated or \"spread out\" the data is around the mean. We calculate variance by subtracting every value from the mean, squaring the results, and then averaging them.\n",
    "\n"
   ]
  },
  {
   "cell_type": "markdown",
   "metadata": {},
   "source": [
    "## Measures of Spread: Standard Deviation\n",
    "\n",
    "Most common way to refer to the distance between data points and the mean. It's a very useful concept and a great way to measure the density of a data set.\n",
    "While it may sound complicated, standard deviation is fairly straightforward; it's the square root of the variance.\n",
    "\n",
    "A Deviation is the distance a single data value is from the mean. Standard Deviation is finding an ‘average’ of sorts across the dataset.\n",
    "\n",
    "Statisticians and data scientists typically measure the percentage of data that falls within one or two standard deviations of the mean.\n",
    "\n"
   ]
  },
  {
   "cell_type": "code",
   "execution_count": null,
   "metadata": {},
   "outputs": [],
   "source": [
    "# We can calculate standard deviation by using the std() method on a pandas series.\n",
    "std_dev = nba_stats[\"pf\"].std()\n",
    "\n",
    "# We can calculate how many standard deviations a data point is from the mean by doing some subtraction and division.\n",
    "# First, we find the total distance by subtracting the mean.\n",
    "total_distance = nba_stats[\"pf\"][0] - mean\n",
    "# Then we divide by standard deviation to find how many standard deviations away the point is.\n",
    "standard_deviation_distance = total_distance / std_dev"
   ]
  },
  {
   "cell_type": "markdown",
   "metadata": {},
   "source": [
    "## Measures of Spread: Normal distribution\n",
    " \n",
    "A special kind of distribution. You might recognize it more commonly as a bell curve.\n",
    "The normal distribution is found in a variety of natural phenomena. If we made a histogram of the heights of everyone on the planet, for example, it would be more or less a normal distribution.\n",
    "\n",
    "One cool thing about normal distributions is that for every single one, the same percentage of the data is within one standard deviation of the mean, the same percentage is within two standard deviations of the mean, and so on.\n",
    "About 68% of the data is within one standard deviation, roughly 95% is within two standard deviations, and about 99% is within three standard deviations.\n",
    "\n",
    "We can generate a normal distribution by using a probability density function."
   ]
  },
  {
   "cell_type": "code",
   "execution_count": null,
   "metadata": {},
   "outputs": [],
   "source": [
    "# The arange function generates a numpy vector\n",
    "# The vector below will start at -1, and go up to, but not including 1\n",
    "# It will proceed in \"steps\" of .01.  So the first element will be -1, the second -.99, the \tthird -.98, all the way up to .99.\n",
    "points = np.arange(-1, 1, 0.01)\n",
    "\n",
    "# The norm.pdf function will take the points vector and convert it into a probability vector\n",
    "# Each element in the vector will correspond to the normal distribution (earlier elements \tand later element smaller, peak in the center)\n",
    "# The distribution will be centered on 0, and will have a standard devation of .3\n",
    "probabilities = norm.pdf(points, 0, .3)\n",
    "\n",
    "# Plot the points values on the x-axis and the corresponding probabilities on the y-axis\n",
    "plt.plot(points, probabilities)\n",
    "plt.show()"
   ]
  },
  {
   "cell_type": "markdown",
   "metadata": {},
   "source": [
    "## Measures of Spread: Covariance \n",
    "\n",
    "Comparing two variables/data sets together to determine how these different numbers vary jointly. \n",
    "A set of variables can't co-vary more from the mean than they individually vary from the mean. Two variables reach the maximum possible covariance when they vary in an identical way (ie, you see a straight line on the plot).\n",
    "The r-value is a ratio between the actual covariance and the maximum possible positive covariance\n",
    "￼\n",
    "￼For the denominator, we need to multiply the standard deviations for x and y. This is the maximum possible positive covariance, which is just both of the standard deviation values multiplied. If we divide our actual covariance by this, we get the r-value.\n",
    "\n",
    "\n",
    "“The problem with covariances is that they are hard to compare: when you calculate the covariance of a set of heights and weights, as expressed in (respectively) meters and kilograms, you will get a different covariance from when you do it in other units (which already gives a problem for people doing the same thing with or without the metric system!), but also, it will be hard to tell if (e.g.) height and weight 'covariate better' than, e.g. the length of your toes and fingers, simply because the 'scale' you calculate the covariance on is different.\n",
    "\n",
    "\n",
    "The solution to this is to 'normalize' the covariance: you divide the covariance by something that represents the diversity and scale in both the covariates, and end up with a value that is assured to be between -1 and 1: the correlation. Whatever unit your original variables were in, you will always get the same result, and this will also ensure that you can, to a certain degree, compare whether two variables 'correlate' more than two others, simply by comparing their correlation.”\n",
    "\n"
   ]
  },
  {
   "cell_type": "markdown",
   "metadata": {},
   "source": [
    "## Measures of Spread: Correlation\n",
    "\n",
    "The most common way to measure correlation is to use Pearson's r, which we also call an r-value. An r-value ranges from -1 to 1, and indicates how strongly two variables are correlated.\n",
    "\n",
    "* A 1 indicates a perfect positive correlation. This would appear as a straight, upward-sloping line on our plots.\n",
    "* A 0 indicates no correlation. We'd see a scatterplot with points that appear random.\n",
    "* A -1 indicates a perfect negative correlation. This would appear as a straight, downward-sloping line."
   ]
  },
  {
   "cell_type": "code",
   "execution_count": null,
   "metadata": {},
   "outputs": [],
   "source": [
    "from scipy.stats import pearsonr\n",
    "\n",
    "r_value, p_value = pearsonr(fandango_ratings, mc_ratings)"
   ]
  },
  {
   "cell_type": "markdown",
   "metadata": {},
   "source": [
    "## squares, cubes, square root etc:\n",
    "\n",
    "** 2 calculates the equivalent of variable * variable\n",
    "** 3 calculates the equivalent of variable * variable * variable\n",
    "The same pattern holds true as we raise to higher powers like 4, 5, and so on.\n",
    "\n",
    "We can also take the roots of numbers using the same syntax.\n",
    "difference ** (1/2) will take the square root. We need to put the fraction in parentheses because raising a value to a power is the operation that would normally occur first.\n",
    "difference ** (1/3) will take the cube root. We can even continue with even smaller fractions."
   ]
  },
  {
   "cell_type": "markdown",
   "metadata": {},
   "source": [
    "## Linear Regression:\n",
    "\n",
    "Used to make predictions about wine quality using existing data: Linear regression gives us a formula. If we plug in the value for one variable into this formula, we get the value for the other variable.\n",
    "The equation to create the formula takes the form:\n",
    "**y = mx + b**\n",
    "\n",
    "This equation is saying \"the predicted value of the second variable (y) is equal to the value of the first variable (x) times the slope (m) plus the intercept (b)\".\n",
    "\n",
    "**m** = the covariance of x and y divided by the variance of x.\n",
    "\n",
    "We can use the cov function to calculate covariance, and the .var() method on Pandas \tseries to calculate variance.\n",
    "\n",
    "**b** = The intercept is just how much higher or lower the average y point is than our \tpredicted value.\n",
    "\n",
    "We can compute the intercept by take the mean of the y values, and then subtract the \tslope times the mean of the x values from that.\n",
    "\n",
    "Now that we've computed our slope and our intercept, we can make predictions about the y-values from the x-values.\n",
    "\n",
    "In order to do this, we go back to our original formula: y = mx + b and just plug in the values for m and b\n",
    "\n",
    "We can then compute predicted y-values for any x-value. This lets us make predictions about the quality of x-values that we've never seen. For example, a wine with a density of .98 isn't in our dataset, but we can make a prediction about what quality a reviewer would assign to a wine with this density.\n",
    "\n",
    "Depending on how correlated the predictor and the value being predicted are, the predictions may be good or bad.\n"
   ]
  },
  {
   "cell_type": "code",
   "execution_count": null,
   "metadata": {},
   "outputs": [],
   "source": [
    "\n",
    "def calc_slope(x, y):\n",
    "    return cov(x, y)[0, 1] / x.var()\n",
    "\n",
    "def calc_intercept(x, y, slope):\n",
    "    return y.mean() - (slope * x.mean())\n",
    "\n",
    "def predict_y_value(x):\n",
    "    return (slope * x) + intercept\n",
    "\n",
    "# OR linregress function \n",
    "\n",
    "slope, intercept, r_value, p_value, stderr_slope = linregress(wine_quality[\"density\"], \twine_quality[\"quality\"])\n"
   ]
  },
  {
   "cell_type": "markdown",
   "metadata": {},
   "source": [
    "## how to figure out if our regression is good or bad.\n",
    "\n",
    "We can plot out our line and our actual values, and see how far apart they are on the y-axis.\n",
    "We can also compute the distance between each prediction and the actual value -- these distances are called residuals.\n",
    "\n",
    "If we add up the sum of the squared residuals, we can get a good error estimate for our line.\n",
    "We have to add the squared residuals, because just like differences from the mean, the residuals add to 0 if they aren't squared.\n"
   ]
  },
  {
   "cell_type": "code",
   "execution_count": null,
   "metadata": {},
   "outputs": [],
   "source": [
    "predicted_y = slope * wine_quality[\"density\"] + intercept\n",
    "rss = sum((wine_quality[\"quality\"] - predicted_y) ** 2)"
   ]
  },
  {
   "cell_type": "markdown",
   "metadata": {},
   "source": [
    "## Standard Error:\n",
    "\n",
    "The standard error is similar to the standard deviation, but it tries to make an estimate for the whole population of y-values -- even the ones we haven't seen yet that we may want to predict in the future.\n",
    "\n",
    "The standard error lets us quickly determine how good or bad a linear model is at prediction.\n",
    "From the sum of squared residuals.\n",
    "￼\n",
    "You take the sum of squared residuals, divide by the number of y-points minus two, and then take the square root.\n",
    "\n",
    "You might be wondering about why 2 is subtracted -- this is due to differences between the whole population and a sample. This will be explained in more depth later on.\n",
    "\n"
   ]
  },
  {
   "cell_type": "code",
   "execution_count": null,
   "metadata": {},
   "outputs": [],
   "source": [
    "predicted_y = np.asarray([slope * x + intercept for x in wine_quality[\"density\"]])\n",
    "residuals = (wine_quality[\"quality\"] - predicted_y) ** 2\n",
    "rss = sum(residuals)\n",
    "\n",
    "# calculate the standard error\n",
    "std_err = (rss / (len(wine_quality[\"quality\"]) -2)) ** 0.5\n",
    "\n",
    "def calc_proportion(y, predicted_y, std_err, count):\n",
    "    error_range = std_err * count\n",
    "    \n",
    "    # create a series of the differences between actual and predicted values\n",
    "    differences = abs(y - predicted_y)\n",
    "    \n",
    "    # for each value in the series check if its within the error range\n",
    "    y_in_error_range = [value for value in differences if value <= error_range]\n",
    "    \n",
    "    # return number of differences as a propotion of total values\n",
    "    return len(y_in_error_range) /len(y)\n",
    "\n",
    "within_one = calc_proportion(wine_quality[\"quality\"], predicted_y, std_err, 1)"
   ]
  },
  {
   "cell_type": "markdown",
   "metadata": {},
   "source": [
    "## Generating a Random Sequence:\n",
    "\n",
    "A random seed is an integer that is used to \"seed\" a random number generator. After a random seed is set, the numbers generated after will follow the same sequence."
   ]
  },
  {
   "cell_type": "code",
   "execution_count": null,
   "metadata": {},
   "outputs": [],
   "source": [
    "# Set a random seed of 20 and generate a list of 10 random numbers between the values 0 and 10\n",
    "random.seed(20)\n",
    "new_sequence = [random.randint(0,10) for _ in range(10)]"
   ]
  },
  {
   "cell_type": "markdown",
   "metadata": {},
   "source": [
    "## Generating a Random Sample:"
   ]
  },
  {
   "cell_type": "code",
   "execution_count": null,
   "metadata": {},
   "outputs": [],
   "source": [
    "shopping = [300, 200, 100, 600, 20]\n",
    "\n",
    "# We want to sample the data, and only select 4 elements.\n",
    "random.seed(1)\n",
    "\n",
    "shopping_sample = random.sample(shopping, 4)"
   ]
  },
  {
   "cell_type": "markdown",
   "metadata": {},
   "source": [
    "\n",
    "## Sample from a pandas dataframe:\n",
    "    \n",
    "dataframe.sample method (https://pandas.pydata.org/pandas-docs/stable/generated/pandas.DataFrame.sample.html). Arguably more powerful and versatile than the generic python.sample method\n",
    "\n"
   ]
  },
  {
   "cell_type": "markdown",
   "metadata": {},
   "source": [
    "# Correlation Example"
   ]
  },
  {
   "cell_type": "code",
   "execution_count": 6,
   "metadata": {},
   "outputs": [
    {
     "name": "stdout",
     "output_type": "stream",
     "text": [
      "Slope is 0.0973110779739 intercept is 3.7997739189\n",
      "r_value is 0.178449190739 p_value is 0.0311615162285\n",
      "stderr is  0.0447135446568\n",
      "Rating of 1 on Metacritic predicted as Fandango rating 3.89708499687\n",
      "Rating of 3 on Metacritic predicted as Fandango rating 4.09170715282\n",
      "Rating of 5 on Metacritic predicted as Fandango rating 4.28632930877\n"
     ]
    },
    {
     "data": {
      "image/png": "[encoded data removed]",
      "text/plain": [
       "<matplotlib.figure.Figure at 0x1a0ce95cf8>"
      ]
     },
     "metadata": {},
     "output_type": "display_data"
    }
   ],
   "source": [
    "import pandas as pd\n",
    "import numpy as np\n",
    "\n",
    "import matplotlib.pyplot as plt\n",
    "\n",
    "%matplotlib inline\n",
    "\n",
    "movies = pd.read_csv(\"data/fandango_score_comparison.csv\")\n",
    "mc_ratings = movies[\"Metacritic_norm_round\"]\n",
    "fandango_ratings = movies[\"Fandango_Stars\"]\n",
    "\n",
    "# Use the scipy.stats.linregress function create a linear regression with Metacritic_norm_round as the x-values and Fandango_Stars as the y-values.\n",
    "from scipy.stats import linregress\n",
    "\n",
    "slope, intercept, r_value, p_value, stderr_slope = linregress(mc_ratings, fandango_ratings)\n",
    "\n",
    "print(\"Slope is\", slope, \"intercept is\", intercept)\n",
    "print(\"r_value is\", r_value,\"p_value is\", p_value) \n",
    "print(\"stderr is \", stderr_slope)\n",
    "\n",
    "# Predict what a movie that got a 3.0 in Metacritic would get on Fandango \n",
    "prediction_1 = 1 * slope + intercept\n",
    "print(\"Rating of 1 on Metacritic predicted as Fandango rating\", prediction_1)\n",
    "\n",
    "# Predict what a movie that got a 3.0 in Metacritic would get on Fandango \n",
    "prediction_3 = 3 * slope + intercept\n",
    "print(\"Rating of 3 on Metacritic predicted as Fandango rating\", prediction_3)\n",
    "\n",
    "# Predict what a movie that got a 3.0 in Metacritic would get on Fandango \n",
    "prediction_5 = 5 * slope + intercept\n",
    "print(\"Rating of 5 on Metacritic predicted as Fandango rating\", prediction_5)\n",
    "\n",
    "# Create a residual plot to see how the linear regression line relates to existing datapoints\n",
    "plt.scatter(mc_ratings, fandango_ratings)\n",
    "x_values = [1.0, 3.0, 5.0]\n",
    "y_values = [prediction_1, prediction_3, prediction_5]\n",
    "plt.plot(x_values, y_values, color=\"red\")\n",
    "plt.xlim(1,5)\n",
    "plt.show()\n"
   ]
  },
  {
   "cell_type": "code",
   "execution_count": null,
   "metadata": {},
   "outputs": [],
   "source": []
  }
 ],
 "metadata": {
  "kernelspec": {
   "display_name": "Python 3",
   "language": "python",
   "name": "python3"
  },
  "language_info": {
   "codemirror_mode": {
    "name": "ipython",
    "version": 3
   },
   "file_extension": ".py",
   "mimetype": "text/x-python",
   "name": "python",
   "nbconvert_exporter": "python",
   "pygments_lexer": "ipython3",
   "version": "3.6.2"
  }
 },
 "nbformat": 4,
 "nbformat_minor": 2
}
