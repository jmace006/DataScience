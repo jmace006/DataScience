{
 "cells": [
  {
   "cell_type": "markdown",
   "metadata": {},
   "source": [
    "Guided Project For Kaggle Fundementals"
   ]
  },
  {
   "cell_type": "code",
   "execution_count": 189,
   "metadata": {},
   "outputs": [],
   "source": [
    "import pandas as pd\n",
    "import re\n",
    "from sklearn.preprocessing import minmax_scale\n",
    "import matplotlib.pyplot as plt\n",
    "from sklearn.linear_model import LogisticRegression\n",
    "from sklearn.linear_model import Perceptron\n",
    "from sklearn.model_selection import cross_val_score\n",
    "import numpy as np\n",
    "import seaborn as sns\n",
    "%matplotlib inline\n"
   ]
  },
  {
   "cell_type": "code",
   "execution_count": 244,
   "metadata": {},
   "outputs": [],
   "source": [
    "\n",
    "train = pd.read_csv('train.csv')\n",
    "holdout = pd.read_csv('test.csv')\n",
    "\n",
    "# %load functions.py\n",
    "def process_missing(df):\n",
    "    \n",
    "    df[\"Fare\"] = df[\"Fare\"].fillna(train[\"Fare\"].mean())\n",
    "    df[\"Embarked\"] = df[\"Embarked\"].fillna(\"S\")\n",
    "   \n",
    "    return df\n",
    "\n",
    "def process_age(df):\n",
    "    \n",
    "    df[\"Age\"] = df[\"Age\"].fillna(np.mean(df[\"Age\"]))\n",
    "    cut_points = [-1,0,2,18,60,100]\n",
    "    label_names = [\"Missing\",\"Infant\",\"Child\",\"Adult\",\"Senior\"]\n",
    "    df[\"Age_categories\"] = pd.cut(df[\"Age\"],cut_points,labels=label_names)\n",
    "    return df\n",
    "\n",
    "def process_fare(df):\n",
    "    \n",
    "    cut_points = [-1,12,50,100,1000]\n",
    "    label_names = [\"0-12\",\"12-50\",\"50-100\",\"100+\"]\n",
    "    df[\"Fare_categories\"] = pd.cut(df[\"Fare\"],cut_points,labels=label_names)\n",
    "    return df\n",
    "\n",
    "def process_cabin(df):\n",
    "   \n",
    "    df[\"Cabin_type\"] = df[\"Cabin\"].str[0]\n",
    "    df[\"Cabin_type\"] = df[\"Cabin_type\"].fillna(\"Unknown\")\n",
    "    df = df.drop('Cabin',axis=1)\n",
    "    return df\n",
    "\n",
    "def process_titles(df):\n",
    "    \n",
    "    titles = {\n",
    "        \"Mr\" :         \"Mr\",\n",
    "        \"Mme\":         \"Mrs\",\n",
    "        \"Ms\":          \"Mrs\",\n",
    "        \"Mrs\" :        \"Mrs\",\n",
    "        \"Master\" :     \"Master\",\n",
    "        \"Mlle\":        \"Miss\",\n",
    "        \"Miss\" :       \"Miss\",\n",
    "        \"Capt\":        \"Officer\",\n",
    "        \"Col\":         \"Officer\",\n",
    "        \"Major\":       \"Officer\",\n",
    "        \"Dr\":          \"Officer\",\n",
    "        \"Rev\":         \"Officer\",\n",
    "        \"Jonkheer\":    \"Royalty\",\n",
    "        \"Don\":         \"Royalty\",\n",
    "        \"Sir\" :        \"Royalty\",\n",
    "        \"Countess\":    \"Royalty\",\n",
    "        \"Dona\":        \"Royalty\",\n",
    "        \"Lady\" :       \"Royalty\"\n",
    "    }\n",
    "    extracted_titles = df[\"Name\"].str.extract(' ([A-Za-z]+)\\.',expand=False)\n",
    "    df[\"Title\"] = extracted_titles.map(titles)\n",
    "    \n",
    "   \n",
    "    return df\n",
    "\n",
    "def create_dummies(df,column_name):\n",
    "   \n",
    "    dummies = pd.get_dummies(df[column_name],prefix=column_name)\n",
    "    df = pd.concat([df,dummies],axis=1)\n",
    "    return df\n",
    "\n"
   ]
  },
  {
   "cell_type": "code",
   "execution_count": 245,
   "metadata": {},
   "outputs": [],
   "source": [
    "def process_df(df):\n",
    "    \n",
    "    df = process_missing(df) \n",
    "    df = process_age(df)\n",
    "    #df = process_fare(df) \n",
    "    df = process_titles(df) \n",
    "    df = process_cabin(df)\n",
    "    df = create_dummies(df, \"Age_categories\")\n",
    "    #df = create_dummies(df, \"Fare_categories\")\n",
    "    df = create_dummies(df, \"Title\")\n",
    "    df = create_dummies(df, \"Cabin_type\")\n",
    "    df = create_dummies(df, \"Sex\")\n",
    "    \n",
    "    return df"
   ]
  },
  {
   "cell_type": "code",
   "execution_count": 246,
   "metadata": {},
   "outputs": [],
   "source": [
    "# clean up the training and holdout datasets\n",
    "train = process_df(train)\n",
    "holdout = process_df(holdout)\n"
   ]
  },
  {
   "cell_type": "markdown",
   "metadata": {},
   "source": [
    "<h1>Data Exploration</h1>\n",
    "\n",
    "sibsp: # of siblings / spouses aboard the Titanic:\n",
    "- Sibling = brother, sister, stepbrother, stepsister\n",
    "- Spouse = husband, wife (mistresses and fiancés were ignored)\n",
    "\n",
    "parch: # of parents / children aboard the Titanic\n",
    "- Parent = mother, father\n",
    "- Child = daughter, son, stepdaughter, stepson\n",
    "- Some children travelled only with a nanny, therefore parch=0 for them.\n"
   ]
  },
  {
   "cell_type": "code",
   "execution_count": 136,
   "metadata": {},
   "outputs": [
    {
     "data": {
      "image/png": "[encoded data removed]",
      "text/plain": [
       "<matplotlib.figure.Figure at 0x1a1a4433c8>"
      ]
     },
     "metadata": {},
     "output_type": "display_data"
    },
    {
     "data": {
      "text/html": [
       "<div>\n",
       "<style>\n",
       "    .dataframe thead tr:only-child th {\n",
       "        text-align: right;\n",
       "    }\n",
       "\n",
       "    .dataframe thead th {\n",
       "        text-align: left;\n",
       "    }\n",
       "\n",
       "    .dataframe tbody tr th {\n",
       "        vertical-align: top;\n",
       "    }\n",
       "</style>\n",
       "<table border=\"1\" class=\"dataframe\">\n",
       "  <thead>\n",
       "    <tr style=\"text-align: right;\">\n",
       "      <th></th>\n",
       "      <th>SibSp</th>\n",
       "      <th>Parch</th>\n",
       "      <th>Age</th>\n",
       "    </tr>\n",
       "  </thead>\n",
       "  <tbody>\n",
       "    <tr>\n",
       "      <th>count</th>\n",
       "      <td>891.000000</td>\n",
       "      <td>891.000000</td>\n",
       "      <td>891.000000</td>\n",
       "    </tr>\n",
       "    <tr>\n",
       "      <th>mean</th>\n",
       "      <td>0.523008</td>\n",
       "      <td>0.381594</td>\n",
       "      <td>23.699966</td>\n",
       "    </tr>\n",
       "    <tr>\n",
       "      <th>std</th>\n",
       "      <td>1.102743</td>\n",
       "      <td>0.806057</td>\n",
       "      <td>17.731181</td>\n",
       "    </tr>\n",
       "    <tr>\n",
       "      <th>min</th>\n",
       "      <td>0.000000</td>\n",
       "      <td>0.000000</td>\n",
       "      <td>-0.500000</td>\n",
       "    </tr>\n",
       "    <tr>\n",
       "      <th>50%</th>\n",
       "      <td>0.000000</td>\n",
       "      <td>0.000000</td>\n",
       "      <td>24.000000</td>\n",
       "    </tr>\n",
       "    <tr>\n",
       "      <th>max</th>\n",
       "      <td>8.000000</td>\n",
       "      <td>6.000000</td>\n",
       "      <td>80.000000</td>\n",
       "    </tr>\n",
       "  </tbody>\n",
       "</table>\n",
       "</div>"
      ],
      "text/plain": [
       "            SibSp       Parch         Age\n",
       "count  891.000000  891.000000  891.000000\n",
       "mean     0.523008    0.381594   23.699966\n",
       "std      1.102743    0.806057   17.731181\n",
       "min      0.000000    0.000000   -0.500000\n",
       "50%      0.000000    0.000000   24.000000\n",
       "max      8.000000    6.000000   80.000000"
      ]
     },
     "execution_count": 136,
     "metadata": {},
     "output_type": "execute_result"
    }
   ],
   "source": [
    "train[\"SibSp\"].hist()\n",
    "train[\"Parch\"].hist()\n",
    "plt.show()\n",
    "columns = ['SibSp','Parch','Age']\n",
    "train[columns].describe(include='all',percentiles=[])\n"
   ]
  },
  {
   "cell_type": "code",
   "execution_count": 54,
   "metadata": {},
   "outputs": [],
   "source": [
    "survived = train.pivot_table(index=\"Survived\", values=[\"SibSp\",\"Parch\"])"
   ]
  },
  {
   "cell_type": "code",
   "execution_count": 55,
   "metadata": {},
   "outputs": [
    {
     "data": {
      "text/html": [
       "<div>\n",
       "<style>\n",
       "    .dataframe thead tr:only-child th {\n",
       "        text-align: right;\n",
       "    }\n",
       "\n",
       "    .dataframe thead th {\n",
       "        text-align: left;\n",
       "    }\n",
       "\n",
       "    .dataframe tbody tr th {\n",
       "        vertical-align: top;\n",
       "    }\n",
       "</style>\n",
       "<table border=\"1\" class=\"dataframe\">\n",
       "  <thead>\n",
       "    <tr style=\"text-align: right;\">\n",
       "      <th></th>\n",
       "      <th>Parch</th>\n",
       "      <th>SibSp</th>\n",
       "    </tr>\n",
       "    <tr>\n",
       "      <th>Survived</th>\n",
       "      <th></th>\n",
       "      <th></th>\n",
       "    </tr>\n",
       "  </thead>\n",
       "  <tbody>\n",
       "    <tr>\n",
       "      <th>0</th>\n",
       "      <td>0.329690</td>\n",
       "      <td>0.553734</td>\n",
       "    </tr>\n",
       "    <tr>\n",
       "      <th>1</th>\n",
       "      <td>0.464912</td>\n",
       "      <td>0.473684</td>\n",
       "    </tr>\n",
       "  </tbody>\n",
       "</table>\n",
       "</div>"
      ],
      "text/plain": [
       "             Parch     SibSp\n",
       "Survived                    \n",
       "0         0.329690  0.553734\n",
       "1         0.464912  0.473684"
      ]
     },
     "execution_count": 55,
     "metadata": {},
     "output_type": "execute_result"
    }
   ],
   "source": [
    "survived"
   ]
  },
  {
   "cell_type": "code",
   "execution_count": 56,
   "metadata": {},
   "outputs": [
    {
     "data": {
      "text/plain": [
       "count    537.000000\n",
       "mean       0.303538\n",
       "std        0.460214\n",
       "min        0.000000\n",
       "25%        0.000000\n",
       "50%        0.000000\n",
       "75%        1.000000\n",
       "max        1.000000\n",
       "Name: Survived, dtype: float64"
      ]
     },
     "execution_count": 56,
     "metadata": {},
     "output_type": "execute_result"
    }
   ],
   "source": [
    "no_family = train[(train[\"SibSp\"]==0) & (train[\"Parch\"]==0)]\n",
    "no_family[\"Survived\"].describe()"
   ]
  },
  {
   "cell_type": "markdown",
   "metadata": {},
   "source": [
    "<b> This looks like only 30% of passengers without any family onboard survived. Worth further investigation...</b>"
   ]
  },
  {
   "cell_type": "code",
   "execution_count": 57,
   "metadata": {},
   "outputs": [
    {
     "data": {
      "image/png": "[encoded data removed]",
      "text/plain": [
       "<matplotlib.figure.Figure at 0x1a1a1fba90>"
      ]
     },
     "metadata": {},
     "output_type": "display_data"
    }
   ],
   "source": [
    "explore_cols = [\"SibSp\",\"Parch\",\"Survived\"]\n",
    "explore = train[explore_cols].copy()\n",
    "\n",
    "explore['familysize'] = explore[[\"SibSp\",\"Parch\"]].sum(axis=1)\n",
    "pivot = explore.pivot_table(index=explore['familysize'],values=\"Survived\")\n",
    "pivot.plot.bar(ylim=(0,1),yticks=np.arange(0,1,.1))\n",
    "plt.show()"
   ]
  },
  {
   "cell_type": "markdown",
   "metadata": {},
   "source": [
    "<b>This is also interesting, showing that once a family size hits 4 there is a big drop in survival rates</b>"
   ]
  },
  {
   "cell_type": "code",
   "execution_count": 58,
   "metadata": {},
   "outputs": [
    {
     "data": {
      "text/plain": [
       "count    678.000000\n",
       "mean       0.343658\n",
       "std        0.475279\n",
       "min        0.000000\n",
       "25%        0.000000\n",
       "50%        0.000000\n",
       "75%        1.000000\n",
       "max        1.000000\n",
       "Name: Survived, dtype: float64"
      ]
     },
     "execution_count": 58,
     "metadata": {},
     "output_type": "execute_result"
    }
   ],
   "source": [
    "no_parents_kids = train[train[\"Parch\"]==0]\n",
    "no_parents_kids[\"Survived\"].describe()"
   ]
  },
  {
   "cell_type": "code",
   "execution_count": 59,
   "metadata": {},
   "outputs": [
    {
     "data": {
      "text/plain": [
       "count    213.000000\n",
       "mean       0.511737\n",
       "std        0.501040\n",
       "min        0.000000\n",
       "25%        0.000000\n",
       "50%        1.000000\n",
       "75%        1.000000\n",
       "max        1.000000\n",
       "Name: Survived, dtype: float64"
      ]
     },
     "execution_count": 59,
     "metadata": {},
     "output_type": "execute_result"
    }
   ],
   "source": [
    "parents_kids = train[train[\"Parch\"]!=0]\n",
    "parents_kids[\"Survived\"].describe()"
   ]
  },
  {
   "cell_type": "markdown",
   "metadata": {},
   "source": [
    "<b>More than 50% of those who travelled with parents OR children survived. Worth investigating further..</b>"
   ]
  },
  {
   "cell_type": "code",
   "execution_count": 60,
   "metadata": {},
   "outputs": [
    {
     "data": {
      "text/plain": [
       "count    283.000000\n",
       "mean       0.466431\n",
       "std        0.499756\n",
       "min        0.000000\n",
       "25%        0.000000\n",
       "50%        0.000000\n",
       "75%        1.000000\n",
       "max        1.000000\n",
       "Name: Survived, dtype: float64"
      ]
     },
     "execution_count": 60,
     "metadata": {},
     "output_type": "execute_result"
    }
   ],
   "source": [
    "sibling_spouse = train[train[\"SibSp\"]!=0]\n",
    "sibling_spouse[\"Survived\"].describe()"
   ]
  },
  {
   "cell_type": "code",
   "execution_count": 61,
   "metadata": {},
   "outputs": [
    {
     "data": {
      "text/plain": [
       "count    608.000000\n",
       "mean       0.345395\n",
       "std        0.475888\n",
       "min        0.000000\n",
       "25%        0.000000\n",
       "50%        0.000000\n",
       "75%        1.000000\n",
       "max        1.000000\n",
       "Name: Survived, dtype: float64"
      ]
     },
     "execution_count": 61,
     "metadata": {},
     "output_type": "execute_result"
    }
   ],
   "source": [
    "no_sibling_spouse = train[train[\"SibSp\"]==0]\n",
    "no_sibling_spouse[\"Survived\"].describe()"
   ]
  },
  {
   "cell_type": "markdown",
   "metadata": {},
   "source": [
    "<h1>Feature Engineering</h1>"
   ]
  },
  {
   "cell_type": "code",
   "execution_count": 247,
   "metadata": {},
   "outputs": [],
   "source": [
    "# based on the above investigations, create a function to add a flag if the passenger travelled alone, \n",
    "# and if under the age of one assume a nanny, and apply to both datasets\n",
    "\n",
    "def family(df):\n",
    "    \n",
    "    df['isalone'] = np.where((df['SibSp']==0)&(df['Parch']==0),1,0)\n",
    "    df['family_size'] = df['SibSp'] + df['Parch']\n",
    "    df['big_family'] = np.where(df['family_size']>3,1,0)\n",
    "    \n",
    "    return df\n",
    "\n",
    "train = family(train)\n",
    "holdout = family(holdout)"
   ]
  },
  {
   "cell_type": "code",
   "execution_count": 248,
   "metadata": {},
   "outputs": [
    {
     "data": {
      "text/plain": [
       "PassengerId                  int64\n",
       "Survived                     int64\n",
       "Pclass                       int64\n",
       "Name                        object\n",
       "Sex                         object\n",
       "Age                        float64\n",
       "SibSp                        int64\n",
       "Parch                        int64\n",
       "Ticket                      object\n",
       "Fare                       float64\n",
       "Embarked                    object\n",
       "Age_categories            category\n",
       "Title                       object\n",
       "Cabin_type                  object\n",
       "Age_categories_Missing       uint8\n",
       "Age_categories_Infant        uint8\n",
       "Age_categories_Child         int64\n",
       "Age_categories_Adult         int64\n",
       "Age_categories_Senior        uint8\n",
       "Title_Master                 uint8\n",
       "Title_Miss                   uint8\n",
       "Title_Mr                     uint8\n",
       "Title_Mrs                    uint8\n",
       "Title_Officer                uint8\n",
       "Title_Royalty                uint8\n",
       "Cabin_type_A                 uint8\n",
       "Cabin_type_B                 uint8\n",
       "Cabin_type_C                 uint8\n",
       "Cabin_type_D                 uint8\n",
       "Cabin_type_E                 uint8\n",
       "Cabin_type_F                 uint8\n",
       "Cabin_type_G                 uint8\n",
       "Cabin_type_T                 uint8\n",
       "Cabin_type_Unknown           uint8\n",
       "Sex_female                   uint8\n",
       "Sex_male                     uint8\n",
       "isalone                      int64\n",
       "family_size                  int64\n",
       "big_family                   int64\n",
       "dtype: object"
      ]
     },
     "execution_count": 248,
     "metadata": {},
     "output_type": "execute_result"
    }
   ],
   "source": [
    "# make an attempt to fill in the missing age data, since there is so much of it\n",
    "\n",
    "def fill_missing_ages(df):\n",
    "    \n",
    "    df['Age_categories_Child'] = np.where((df['Age_categories_Missing']==1)&(df['Title']==\"Master\"),1,0)\n",
    "    df['Age_categories_Child'] = np.where((df['Age_categories_Missing']==1)&(df['Title']==\"Miss\"),1,0)\n",
    "    df['Age_categories_Adult'] = np.where((df['Age_categories_Missing']==1)&(df['Title']==\"Mrs\"),1,0)\n",
    "    df['Age_categories_Adult'] = np.where((df['Age_categories_Missing']==1)&(df['Title']==\"Mr\"),1,0)\n",
    "    \n",
    "    return df\n",
    "\n",
    "train = fill_missing_ages(train)\n",
    "holdout = fill_missing_ages(holdout)\n",
    "train.dtypes"
   ]
  },
  {
   "cell_type": "markdown",
   "metadata": {},
   "source": [
    "<h1>Feature Selection</h1>"
   ]
  },
  {
   "cell_type": "code",
   "execution_count": 167,
   "metadata": {},
   "outputs": [],
   "source": [
    "from sklearn.feature_selection import RFECV\n",
    "from sklearn.ensemble import RandomForestClassifier"
   ]
  },
  {
   "cell_type": "code",
   "execution_count": 169,
   "metadata": {},
   "outputs": [
    {
     "name": "stdout",
     "output_type": "stream",
     "text": [
      "Index(['Pclass', 'Age', 'SibSp', 'Parch', 'Fare', 'Age_categories_Missing',\n",
      "       'Fare_categories_12-50', 'Fare_categories_50-100', 'Title_Master',\n",
      "       'Title_Miss', 'Title_Mr', 'Cabin_type_E', 'Cabin_type_Unknown',\n",
      "       'Sex_female', 'Sex_male', 'isalone', 'family_size', 'big_family'],\n",
      "      dtype='object')\n"
     ]
    }
   ],
   "source": [
    "def select_features(df):\n",
    "    \n",
    "    # remove non numeric cols \n",
    "    drop_cols = [\"Name\", \"Sex\",\"Ticket\",\"Embarked\",\"Title\",\"Cabin_type\", \"Age_categories\",\"Fare_categories\"]\n",
    "    df = df.drop(drop_cols,axis=1)\n",
    "        \n",
    "    # remove any cols containing null values\n",
    "    df = df.dropna(axis=1)\n",
    "   \n",
    "    all_X = df.drop([\"PassengerId\",\"Survived\"], axis=1)\n",
    "    all_y = df['Survived']\n",
    "  \n",
    "    # Use RFECV\n",
    "    clf = RandomForestClassifier(random_state=1)\n",
    "\n",
    "    selector = RFECV(clf,cv=10)\n",
    "    selector.fit(all_X,all_y)\n",
    "\n",
    "    optimized_columns = all_X.columns[selector.support_]\n",
    "\n",
    "    return optimized_columns"
   ]
  },
  {
   "cell_type": "code",
   "execution_count": 170,
   "metadata": {},
   "outputs": [
    {
     "name": "stdout",
     "output_type": "stream",
     "text": [
      "Index(['Pclass', 'Age', 'SibSp', 'Parch', 'Fare', 'Age_categories_Missing',\n",
      "       'Fare_categories_12-50', 'Fare_categories_50-100', 'Title_Master',\n",
      "       'Title_Miss', 'Title_Mr', 'Cabin_type_E', 'Cabin_type_Unknown',\n",
      "       'Sex_female', 'Sex_male', 'isalone', 'family_size', 'big_family'],\n",
      "      dtype='object')\n"
     ]
    },
    {
     "data": {
      "text/plain": [
       "Index(['Pclass', 'Age', 'SibSp', 'Parch', 'Fare', 'Age_categories_Missing',\n",
       "       'Fare_categories_12-50', 'Fare_categories_50-100', 'Title_Master',\n",
       "       'Title_Miss', 'Title_Mr', 'Cabin_type_E', 'Cabin_type_Unknown',\n",
       "       'Sex_female', 'Sex_male', 'isalone', 'family_size', 'big_family'],\n",
       "      dtype='object')"
      ]
     },
     "execution_count": 170,
     "metadata": {},
     "output_type": "execute_result"
    }
   ],
   "source": [
    "features = select_features(train)\n",
    "features"
   ]
  },
  {
   "cell_type": "code",
   "execution_count": 171,
   "metadata": {},
   "outputs": [
    {
     "data": {
      "image/png": "[encoded data removed]",
      "text/plain": [
       "<matplotlib.figure.Figure at 0x1a1a40acc0>"
      ]
     },
     "metadata": {},
     "output_type": "display_data"
    }
   ],
   "source": [
    "def plot_correlation_heatmap(df):\n",
    "    \n",
    "    corr = df.corr()\n",
    "    \n",
    "    sns.set(style=\"white\")\n",
    "    mask = np.zeros_like(corr, dtype=np.bool)\n",
    "    mask[np.triu_indices_from(mask)] = True\n",
    "\n",
    "    f, ax = plt.subplots(figsize=(11, 9))\n",
    "    cmap = sns.diverging_palette(220, 10, as_cmap=True)\n",
    "\n",
    "    sns.heatmap(corr, mask=mask, cmap=cmap, vmax=.3, center=0, square=True, linewidths=.5, cbar_kws={\"shrink\": .5})\n",
    "    plt.show()\n",
    "\n",
    "plot_correlation_heatmap(train[features])"
   ]
  },
  {
   "cell_type": "markdown",
   "metadata": {},
   "source": [
    "<h1>Model Selection & Tuning</h1>"
   ]
  },
  {
   "cell_type": "code",
   "execution_count": 65,
   "metadata": {},
   "outputs": [],
   "source": [
    "from sklearn.model_selection import GridSearchCV\n",
    "from sklearn.model_selection import RandomizedSearchCV\n",
    "from sklearn.neighbors import KNeighborsClassifier\n",
    "from sklearn.linear_model import LogisticRegression\n",
    "from sklearn.linear_model import SGDClassifier\n",
    "from sklearn.svm import SVC"
   ]
  },
  {
   "cell_type": "code",
   "execution_count": 140,
   "metadata": {},
   "outputs": [],
   "source": [
    "def select_model(df,features,target):\n",
    "    \n",
    "    all_X = df[features]\n",
    "    all_y = df[target]\n",
    "    \n",
    "    model_list = [{\"name\":\"LogisticRegression\",\n",
    "                     \"estimator\":LogisticRegression(),\n",
    "                    \"hyperparameters\":{ \"solver\":[\"newton-cg\", \"lbfgs\", \"liblinear\"]\n",
    "                                        }\n",
    "                    },\n",
    "                    #{\"name\":\"KNeighborsClassifier\",\n",
    "                    # \"estimator\":KNeighborsClassifier(),\n",
    "                    #\"hyperparameters\":{ \"n_neighbors\": range(1,20,2),\n",
    "                    #                    \"weights\": [\"distance\", \"uniform\"],\n",
    "                    #                    \"algorithm\": [\"ball_tree\", \"kd_tree\", \"brute\"],\n",
    "                     #                   \"p\": [1,2]\n",
    "                     #                   }\n",
    "                   # },\n",
    "                    {\"name\":\"RandomForestClassifier\",\n",
    "                     \"estimator\":RandomForestClassifier(),\n",
    "                    \"hyperparameters\":{ \"n_estimators\": [4, 6, 9],\n",
    "                                        \"criterion\": [\"entropy\"],\n",
    "                                        \"max_depth\": [2, 5, 10],\n",
    "                                        \"max_features\": [\"log2\", \"sqrt\"],\n",
    "                                        \"min_samples_leaf\": [1, 5, 8],\n",
    "                                        \"min_samples_split\": [2, 3, 5]\n",
    "                                        }\n",
    "                     }]\n",
    "    \n",
    "        \n",
    "    for model in model_list:\n",
    "        \n",
    "        print(\"Model name:\",model[\"name\"])\n",
    "        model_instance = model[\"estimator\"]\n",
    "        grid = RandomizedSearchCV(model_instance,param_distributions=model[\"hyperparameters\"],n_iter=2,cv=10)\n",
    "        grid = GridSearchCV(model_instance,param_grid=model[\"hyperparameters\"],cv=10)\n",
    "        grid.fit(all_X,all_y)\n",
    "        \n",
    "        model[\"best_params\"] = grid.best_params_\n",
    "        model[\"best_score\"] = grid.best_score_\n",
    "        print(\"Best score:\",model[\"best_score\"])\n",
    "        model[\"best_estimator\"] = grid.best_estimator_\n",
    "        \n",
    "    return model_list     "
   ]
  },
  {
   "cell_type": "code",
   "execution_count": 141,
   "metadata": {},
   "outputs": [
    {
     "name": "stdout",
     "output_type": "stream",
     "text": [
      "Model name: LogisticRegression\n",
      "Best score: 0.822671156004\n",
      "Model name: KNeighborsClassifier\n",
      "Best score: 0.778900112233\n",
      "Model name: RandomForestClassifier\n",
      "Best score: 0.841750841751\n"
     ]
    }
   ],
   "source": [
    "model_results = select_model(train,features,\"Survived\")"
   ]
  },
  {
   "cell_type": "code",
   "execution_count": 142,
   "metadata": {},
   "outputs": [
    {
     "data": {
      "text/plain": [
       "0.84175084175084181"
      ]
     },
     "execution_count": 142,
     "metadata": {},
     "output_type": "execute_result"
    }
   ],
   "source": [
    "# best score\n",
    "best_score = max(model['best_score'] for model in model_results)\n",
    "best_score"
   ]
  },
  {
   "cell_type": "code",
   "execution_count": 143,
   "metadata": {},
   "outputs": [
    {
     "data": {
      "text/plain": [
       "RandomForestClassifier(bootstrap=True, class_weight=None, criterion='entropy',\n",
       "            max_depth=10, max_features='sqrt', max_leaf_nodes=None,\n",
       "            min_impurity_decrease=0.0, min_impurity_split=None,\n",
       "            min_samples_leaf=1, min_samples_split=5,\n",
       "            min_weight_fraction_leaf=0.0, n_estimators=6, n_jobs=1,\n",
       "            oob_score=False, random_state=None, verbose=0,\n",
       "            warm_start=False)"
      ]
     },
     "execution_count": 143,
     "metadata": {},
     "output_type": "execute_result"
    }
   ],
   "source": [
    "# retrieve best estimator \n",
    "### From Stack Overflow, example of the above but retrieval of whole object\n",
    "best_model = max(model_results, key=lambda x:x['best_score'])\n",
    "estimator = best_model[\"best_estimator\"]\n",
    "estimator"
   ]
  },
  {
   "cell_type": "code",
   "execution_count": 185,
   "metadata": {},
   "outputs": [
    {
     "name": "stdout",
     "output_type": "stream",
     "text": [
      "Expected Score is 0.823890875043\n"
     ]
    }
   ],
   "source": [
    "\n",
    "clf = RandomForestClassifier(bootstrap=True, class_weight=None, criterion='entropy',\n",
    "            max_depth=10, max_features='sqrt', max_leaf_nodes=None,\n",
    "            min_impurity_decrease=0.0, min_impurity_split=None,\n",
    "            min_samples_leaf=1, min_samples_split=5,\n",
    "            min_weight_fraction_leaf=0.0, n_estimators=6, n_jobs=1,\n",
    "            oob_score=False, random_state=None, verbose=0,\n",
    "            warm_start=False)\n",
    "\n",
    "#features = ['Pclass','Age','Fare', 'Sex_male', 'isalone', 'big_family']\n",
    "            \n",
    "#clf.fit(train[features], train['Survived'])\n",
    "scores = cross_val_score(estimator, train[features], train['Survived'],cv=10)\n",
    "print(\"Expected Score is\",np.mean(scores))\n"
   ]
  },
  {
   "cell_type": "markdown",
   "metadata": {},
   "source": [
    "<h3>Prepare Submission to Kaggle</h3>"
   ]
  },
  {
   "cell_type": "code",
   "execution_count": 71,
   "metadata": {},
   "outputs": [],
   "source": [
    "def save_submission_file(model,df,columns,filename=\"Kaggle_Submission.csv\"):\n",
    "    \n",
    "    predictions = model.predict(df[columns])\n",
    "     \n",
    "    ids = df[\"PassengerId\"]\n",
    "    submission_df = {\"PassengerId\":ids, \"Survived\": predictions}\n",
    "    submission = pd.DataFrame(submission_df)\n",
    "    submission.to_csv(filename,index=False)\n"
   ]
  },
  {
   "cell_type": "code",
   "execution_count": 72,
   "metadata": {},
   "outputs": [],
   "source": [
    "save_submission_file(estimator,holdout,features,\"Submission_6.csv\")"
   ]
  },
  {
   "cell_type": "code",
   "execution_count": null,
   "metadata": {},
   "outputs": [],
   "source": []
  }
 ],
 "metadata": {
  "kernelspec": {
   "display_name": "Python 3",
   "language": "python",
   "name": "python3"
  },
  "language_info": {
   "codemirror_mode": {
    "name": "ipython",
    "version": 3
   },
   "file_extension": ".py",
   "mimetype": "text/x-python",
   "name": "python",
   "nbconvert_exporter": "python",
   "pygments_lexer": "ipython3",
   "version": "3.6.2"
  }
 },
 "nbformat": 4,
 "nbformat_minor": 2
}
