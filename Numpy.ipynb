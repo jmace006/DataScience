{
 "cells": [
  {
   "cell_type": "markdown",
   "metadata": {},
   "source": [
    "# Numpy\n",
    "\n",
    "\n",
    "import numpy as np"
   ]
  },
  {
   "cell_type": "markdown",
   "metadata": {},
   "source": [
    "## Create a vector"
   ]
  },
  {
   "cell_type": "code",
   "execution_count": 2,
   "metadata": {},
   "outputs": [],
   "source": [
    "import numpy as np\n",
    "\n",
    "vector = np.array([5, 10, 15, 20])"
   ]
  },
  {
   "cell_type": "markdown",
   "metadata": {},
   "source": [
    "## Create a matrix using a list of lists:"
   ]
  },
  {
   "cell_type": "code",
   "execution_count": null,
   "metadata": {},
   "outputs": [],
   "source": [
    "matrix = np.array([[5, 10, 15], [20, 25, 30], [35, 40, 45]])"
   ]
  },
  {
   "cell_type": "markdown",
   "metadata": {},
   "source": [
    "## Get number of elements in an array"
   ]
  },
  {
   "cell_type": "code",
   "execution_count": 4,
   "metadata": {},
   "outputs": [
    {
     "name": "stdout",
     "output_type": "stream",
     "text": [
      "(2, 3)\n"
     ]
    }
   ],
   "source": [
    "import numpy \n",
    "\n",
    "matrix = numpy.array([[5, 10, 15], [20, 25, 30]])\n",
    "print(matrix.shape)\n",
    "#results in the tuple (2,3) indicating that matrix has 2 rows and 3 columns."
   ]
  },
  {
   "cell_type": "markdown",
   "metadata": {},
   "source": [
    "## Read in datasets using the numpy.genfromtxt() function:"
   ]
  },
  {
   "cell_type": "code",
   "execution_count": 5,
   "metadata": {},
   "outputs": [
    {
     "ename": "OSError",
     "evalue": "data.csv not found.",
     "output_type": "error",
     "traceback": [
      "\u001b[0;31m---------------------------------------------------------------------------\u001b[0m",
      "\u001b[0;31mOSError\u001b[0m                                   Traceback (most recent call last)",
      "\u001b[0;32m<ipython-input-5-d68e27797429>\u001b[0m in \u001b[0;36m<module>\u001b[0;34m()\u001b[0m\n\u001b[1;32m      1\u001b[0m \u001b[0;34m\u001b[0m\u001b[0m\n\u001b[0;32m----> 2\u001b[0;31m \u001b[0mnfl\u001b[0m \u001b[0;34m=\u001b[0m \u001b[0mnumpy\u001b[0m\u001b[0;34m.\u001b[0m\u001b[0mgenfromtxt\u001b[0m\u001b[0;34m(\u001b[0m\u001b[0;34m\"data.csv\"\u001b[0m\u001b[0;34m,\u001b[0m \u001b[0mdelimiter\u001b[0m\u001b[0;34m=\u001b[0m\u001b[0;34m\",\"\u001b[0m\u001b[0;34m)\u001b[0m\u001b[0;34m\u001b[0m\u001b[0m\n\u001b[0m",
      "\u001b[0;32m~/anaconda3/lib/python3.6/site-packages/numpy/lib/npyio.py\u001b[0m in \u001b[0;36mgenfromtxt\u001b[0;34m(fname, dtype, comments, delimiter, skip_header, skip_footer, converters, missing_values, filling_values, usecols, names, excludelist, deletechars, replace_space, autostrip, case_sensitive, defaultfmt, unpack, usemask, loose, invalid_raise, max_rows)\u001b[0m\n\u001b[1;32m   1549\u001b[0m                 \u001b[0mfhd\u001b[0m \u001b[0;34m=\u001b[0m \u001b[0miter\u001b[0m\u001b[0;34m(\u001b[0m\u001b[0mnp\u001b[0m\u001b[0;34m.\u001b[0m\u001b[0mlib\u001b[0m\u001b[0;34m.\u001b[0m\u001b[0m_datasource\u001b[0m\u001b[0;34m.\u001b[0m\u001b[0mopen\u001b[0m\u001b[0;34m(\u001b[0m\u001b[0mfname\u001b[0m\u001b[0;34m,\u001b[0m \u001b[0;34m'rbU'\u001b[0m\u001b[0;34m)\u001b[0m\u001b[0;34m)\u001b[0m\u001b[0;34m\u001b[0m\u001b[0m\n\u001b[1;32m   1550\u001b[0m             \u001b[0;32melse\u001b[0m\u001b[0;34m:\u001b[0m\u001b[0;34m\u001b[0m\u001b[0m\n\u001b[0;32m-> 1551\u001b[0;31m                 \u001b[0mfhd\u001b[0m \u001b[0;34m=\u001b[0m \u001b[0miter\u001b[0m\u001b[0;34m(\u001b[0m\u001b[0mnp\u001b[0m\u001b[0;34m.\u001b[0m\u001b[0mlib\u001b[0m\u001b[0;34m.\u001b[0m\u001b[0m_datasource\u001b[0m\u001b[0;34m.\u001b[0m\u001b[0mopen\u001b[0m\u001b[0;34m(\u001b[0m\u001b[0mfname\u001b[0m\u001b[0;34m,\u001b[0m \u001b[0;34m'rb'\u001b[0m\u001b[0;34m)\u001b[0m\u001b[0;34m)\u001b[0m\u001b[0;34m\u001b[0m\u001b[0m\n\u001b[0m\u001b[1;32m   1552\u001b[0m             \u001b[0mown_fhd\u001b[0m \u001b[0;34m=\u001b[0m \u001b[0;32mTrue\u001b[0m\u001b[0;34m\u001b[0m\u001b[0m\n\u001b[1;32m   1553\u001b[0m         \u001b[0;32melse\u001b[0m\u001b[0;34m:\u001b[0m\u001b[0;34m\u001b[0m\u001b[0m\n",
      "\u001b[0;32m~/anaconda3/lib/python3.6/site-packages/numpy/lib/_datasource.py\u001b[0m in \u001b[0;36mopen\u001b[0;34m(path, mode, destpath)\u001b[0m\n\u001b[1;32m    149\u001b[0m \u001b[0;34m\u001b[0m\u001b[0m\n\u001b[1;32m    150\u001b[0m     \u001b[0mds\u001b[0m \u001b[0;34m=\u001b[0m \u001b[0mDataSource\u001b[0m\u001b[0;34m(\u001b[0m\u001b[0mdestpath\u001b[0m\u001b[0;34m)\u001b[0m\u001b[0;34m\u001b[0m\u001b[0m\n\u001b[0;32m--> 151\u001b[0;31m     \u001b[0;32mreturn\u001b[0m \u001b[0mds\u001b[0m\u001b[0;34m.\u001b[0m\u001b[0mopen\u001b[0m\u001b[0;34m(\u001b[0m\u001b[0mpath\u001b[0m\u001b[0;34m,\u001b[0m \u001b[0mmode\u001b[0m\u001b[0;34m)\u001b[0m\u001b[0;34m\u001b[0m\u001b[0m\n\u001b[0m\u001b[1;32m    152\u001b[0m \u001b[0;34m\u001b[0m\u001b[0m\n\u001b[1;32m    153\u001b[0m \u001b[0;34m\u001b[0m\u001b[0m\n",
      "\u001b[0;32m~/anaconda3/lib/python3.6/site-packages/numpy/lib/_datasource.py\u001b[0m in \u001b[0;36mopen\u001b[0;34m(self, path, mode)\u001b[0m\n\u001b[1;32m    499\u001b[0m             \u001b[0;32mreturn\u001b[0m \u001b[0m_file_openers\u001b[0m\u001b[0;34m[\u001b[0m\u001b[0mext\u001b[0m\u001b[0;34m]\u001b[0m\u001b[0;34m(\u001b[0m\u001b[0mfound\u001b[0m\u001b[0;34m,\u001b[0m \u001b[0mmode\u001b[0m\u001b[0;34m=\u001b[0m\u001b[0mmode\u001b[0m\u001b[0;34m)\u001b[0m\u001b[0;34m\u001b[0m\u001b[0m\n\u001b[1;32m    500\u001b[0m         \u001b[0;32melse\u001b[0m\u001b[0;34m:\u001b[0m\u001b[0;34m\u001b[0m\u001b[0m\n\u001b[0;32m--> 501\u001b[0;31m             \u001b[0;32mraise\u001b[0m \u001b[0mIOError\u001b[0m\u001b[0;34m(\u001b[0m\u001b[0;34m\"%s not found.\"\u001b[0m \u001b[0;34m%\u001b[0m \u001b[0mpath\u001b[0m\u001b[0;34m)\u001b[0m\u001b[0;34m\u001b[0m\u001b[0m\n\u001b[0m\u001b[1;32m    502\u001b[0m \u001b[0;34m\u001b[0m\u001b[0m\n\u001b[1;32m    503\u001b[0m \u001b[0;34m\u001b[0m\u001b[0m\n",
      "\u001b[0;31mOSError\u001b[0m: data.csv not found."
     ]
    }
   ],
   "source": [
    "nfl = numpy.genfromtxt(\"data/data.csv\", delimiter=\",\")"
   ]
  },
  {
   "cell_type": "markdown",
   "metadata": {},
   "source": [
    "## Get data type of a NumPy array using the dtype property"
   ]
  },
  {
   "cell_type": "code",
   "execution_count": 6,
   "metadata": {},
   "outputs": [
    {
     "name": "stdout",
     "output_type": "stream",
     "text": [
      "int64\n"
     ]
    }
   ],
   "source": [
    "numbers = np.array([1, 2, 3, 4])\n",
    "print(numbers.dtype)"
   ]
  },
  {
   "cell_type": "markdown",
   "metadata": {},
   "source": [
    "## Index a NumPy vector \n",
    "(like regular lists):"
   ]
  },
  {
   "cell_type": "code",
   "execution_count": 7,
   "metadata": {},
   "outputs": [
    {
     "name": "stdout",
     "output_type": "stream",
     "text": [
      "5\n"
     ]
    }
   ],
   "source": [
    "vector = np.array([5, 10, 15, 20])\n",
    "print(vector[0])"
   ]
  },
  {
   "cell_type": "markdown",
   "metadata": {},
   "source": [
    "## Indexing NumPy matrices \n",
    "(like indexing lists of lists):"
   ]
  },
  {
   "cell_type": "code",
   "execution_count": 8,
   "metadata": {},
   "outputs": [
    {
     "data": {
      "text/plain": [
       "30"
      ]
     },
     "execution_count": 8,
     "metadata": {},
     "output_type": "execute_result"
    }
   ],
   "source": [
    "matrix = np.array([\n",
    "                 [5, 10, 15], \n",
    "                [20, 25, 30]\n",
    "                 ])\n",
    "matrix[1,2]"
   ]
  },
  {
   "cell_type": "markdown",
   "metadata": {},
   "source": [
    "## Select one whole dimension, and an element from the other:"
   ]
  },
  {
   "cell_type": "code",
   "execution_count": 9,
   "metadata": {},
   "outputs": [
    {
     "data": {
      "text/plain": [
       "array([10, 25, 40])"
      ]
     },
     "execution_count": 9,
     "metadata": {},
     "output_type": "execute_result"
    }
   ],
   "source": [
    "matrix = np.array([\n",
    "                    [5, 10, 15], \n",
    "                    [20, 25, 30],\n",
    "                    [35, 40, 45]\n",
    "                 ])\n",
    "matrix[:,1]"
   ]
  },
  {
   "cell_type": "markdown",
   "metadata": {},
   "source": [
    "## Select one whole dimension, and a slice of the other\n",
    "we need to use special notation: "
   ]
  },
  {
   "cell_type": "code",
   "execution_count": 19,
   "metadata": {},
   "outputs": [
    {
     "data": {
      "text/plain": [
       "array([[ 5, 10],\n",
       "       [20, 25],\n",
       "       [35, 40]])"
      ]
     },
     "execution_count": 19,
     "metadata": {},
     "output_type": "execute_result"
    }
   ],
   "source": [
    "matrix = np.array([ [5, 10, 15], \n",
    "                   [20, 25, 30],\n",
    "                   [35, 40, 45]])\n",
    "matrix[:,0:2]"
   ]
  },
  {
   "cell_type": "markdown",
   "metadata": {},
   "source": [
    "## Select rows by specifying a colon in the columns area: "
   ]
  },
  {
   "cell_type": "code",
   "execution_count": 14,
   "metadata": {},
   "outputs": [
    {
     "data": {
      "text/plain": [
       "array([[20, 25, 30],\n",
       "       [35, 40, 45]])"
      ]
     },
     "execution_count": 14,
     "metadata": {},
     "output_type": "execute_result"
    }
   ],
   "source": [
    "matrix[1:3,:]\n",
    "# selects rows 1 and 2, and all of the columns."
   ]
  },
  {
   "cell_type": "markdown",
   "metadata": {},
   "source": [
    "## Select a single value along an entire dimension:"
   ]
  },
  {
   "cell_type": "code",
   "execution_count": 15,
   "metadata": {},
   "outputs": [
    {
     "data": {
      "text/plain": [
       "array([25, 40])"
      ]
     },
     "execution_count": 15,
     "metadata": {},
     "output_type": "execute_result"
    }
   ],
   "source": [
    "matrix[1:3,1]\n",
    "#selects rows 1 and 2 and column 1"
   ]
  },
  {
   "cell_type": "markdown",
   "metadata": {},
   "source": [
    "## Slice along both dimensions"
   ]
  },
  {
   "cell_type": "code",
   "execution_count": 18,
   "metadata": {},
   "outputs": [
    {
     "data": {
      "text/plain": [
       "array([[20, 25],\n",
       "       [35, 40]])"
      ]
     },
     "execution_count": 18,
     "metadata": {},
     "output_type": "execute_result"
    }
   ],
   "source": [
    "matrix = np.array([[5, 10, 15], \n",
    "                   [20, 25, 30],\n",
    "                   [35, 40, 45]])\n",
    "matrix[1:3,0:2]\n",
    "# selects rows with index 1 and 2, and columns with index 0 and 1:"
   ]
  },
  {
   "cell_type": "markdown",
   "metadata": {},
   "source": [
    "## Select elements in vectors using Boolean vectors:\n",
    "This allows us to conditionally select certain elements in vectors"
   ]
  },
  {
   "cell_type": "code",
   "execution_count": 23,
   "metadata": {},
   "outputs": [
    {
     "name": "stdout",
     "output_type": "stream",
     "text": [
      "[10]\n"
     ]
    }
   ],
   "source": [
    "#For Vectors:\n",
    "\n",
    "vector = numpy.array([5, 10, 15, 20])\n",
    "equal_to_ten = (vector == 10)\n",
    "# Compares vector to the value 10, \n",
    "# which generates a Boolean vector [False, True, False, False]. \n",
    "# It assigns the result to equal_to_ten\n",
    "\n",
    "print(vector[equal_to_ten])\n",
    "# Uses equal_to_ten to only select elements in vector where equal_to_ten is True.\n"
   ]
  },
  {
   "cell_type": "markdown",
   "metadata": {},
   "source": [
    "## Select elements in matrices using Boolean vectors\n",
    "This allows us to conditionally select certain rows in matrices."
   ]
  },
  {
   "cell_type": "code",
   "execution_count": 22,
   "metadata": {},
   "outputs": [
    {
     "name": "stdout",
     "output_type": "stream",
     "text": [
      "[[20 25 30]]\n"
     ]
    }
   ],
   "source": [
    "matrix = numpy.array([\n",
    "                [5, 10, 15], \n",
    "                [20, 25, 30],\n",
    "                [35, 40, 45]\n",
    "             ])\n",
    "second_column_25 = (matrix[:,1] == 25)\n",
    "# Uses second_column_25 to select any rows in matrix where second_column_25 is True.\n",
    "#We selected a single row from matrix, which was returned in a new matrix\n",
    "\n",
    "print(matrix[second_column_25, :])"
   ]
  },
  {
   "cell_type": "markdown",
   "metadata": {},
   "source": [
    "## Select Elements with Multiple conditions:"
   ]
  },
  {
   "cell_type": "code",
   "execution_count": 24,
   "metadata": {},
   "outputs": [
    {
     "ename": "NameError",
     "evalue": "name 'world_alcohol' is not defined",
     "output_type": "error",
     "traceback": [
      "\u001b[0;31m---------------------------------------------------------------------------\u001b[0m",
      "\u001b[0;31mNameError\u001b[0m                                 Traceback (most recent call last)",
      "\u001b[0;32m<ipython-input-24-ad3ef3516581>\u001b[0m in \u001b[0;36m<module>\u001b[0;34m()\u001b[0m\n\u001b[0;32m----> 1\u001b[0;31m \u001b[0mis_algeria_and_1986\u001b[0m \u001b[0;34m=\u001b[0m \u001b[0;34m(\u001b[0m\u001b[0mworld_alcohol\u001b[0m\u001b[0;34m[\u001b[0m\u001b[0;34m:\u001b[0m\u001b[0;34m,\u001b[0m\u001b[0;36m2\u001b[0m\u001b[0;34m]\u001b[0m \u001b[0;34m==\u001b[0m \u001b[0;34m\"Algeria\"\u001b[0m\u001b[0;34m)\u001b[0m \u001b[0;34m&\u001b[0m \u001b[0;34m(\u001b[0m\u001b[0mworld_alcohol\u001b[0m\u001b[0;34m[\u001b[0m\u001b[0;34m:\u001b[0m\u001b[0;34m,\u001b[0m\u001b[0;36m0\u001b[0m\u001b[0;34m]\u001b[0m \u001b[0;34m==\u001b[0m \u001b[0;34m\"1986\"\u001b[0m\u001b[0;34m)\u001b[0m\u001b[0;34m\u001b[0m\u001b[0m\n\u001b[0m\u001b[1;32m      2\u001b[0m \u001b[0mrows_with_algeria_and_1986\u001b[0m \u001b[0;34m=\u001b[0m \u001b[0mworld_alcohol\u001b[0m\u001b[0;34m[\u001b[0m\u001b[0mis_algeria_and_1986\u001b[0m\u001b[0;34m,\u001b[0m\u001b[0;34m:\u001b[0m\u001b[0;34m]\u001b[0m\u001b[0;34m\u001b[0m\u001b[0m\n\u001b[1;32m      3\u001b[0m \u001b[0mprint\u001b[0m\u001b[0;34m(\u001b[0m\u001b[0mrows_with_algeria_and_1986\u001b[0m\u001b[0;34m)\u001b[0m\u001b[0;34m\u001b[0m\u001b[0m\n",
      "\u001b[0;31mNameError\u001b[0m: name 'world_alcohol' is not defined"
     ]
    }
   ],
   "source": [
    "is_algeria_and_1986 = (world_alcohol[:,2] == \"Algeria\") & (world_alcohol[:,0] == \"1986\")\n",
    "rows_with_algeria_and_1986 = world_alcohol[is_algeria_and_1986,:]\n",
    "print(rows_with_algeria_and_1986)"
   ]
  },
  {
   "cell_type": "markdown",
   "metadata": {},
   "source": [
    "## Replace values"
   ]
  },
  {
   "cell_type": "code",
   "execution_count": null,
   "metadata": {},
   "outputs": [],
   "source": [
    "with_1986_true = (world_alcohol[:,0] == \"1986\") \n",
    "world_alcohol[with_1986_true,0] = '2014'\n",
    "\n",
    "with_wine_true = (world_alcohol[:,3] ==\"Wine\")\n",
    "world_alcohol[with_wine_true,3] = \"Grog\"\n"
   ]
  },
  {
   "cell_type": "markdown",
   "metadata": {},
   "source": [
    "## Replace empty Strings"
   ]
  },
  {
   "cell_type": "code",
   "execution_count": null,
   "metadata": {},
   "outputs": [],
   "source": [
    "is_value_empty = (world_alcohol[:,4] == '')\n",
    "world_alcohol[is_value_empty,4] = \"0\""
   ]
  },
  {
   "cell_type": "markdown",
   "metadata": {},
   "source": [
    "## Convert the data type"
   ]
  },
  {
   "cell_type": "code",
   "execution_count": null,
   "metadata": {},
   "outputs": [],
   "source": [
    "vector = numpy.array([\"1\", \"2\", \"3\"])\n",
    "vector = vector.astype(float)"
   ]
  },
  {
   "cell_type": "markdown",
   "metadata": {},
   "source": [
    "## Computations on values in Vector:"
   ]
  },
  {
   "cell_type": "code",
   "execution_count": 3,
   "metadata": {},
   "outputs": [
    {
     "ename": "NameError",
     "evalue": "name 'numpy' is not defined",
     "output_type": "error",
     "traceback": [
      "\u001b[0;31m---------------------------------------------------------------------------\u001b[0m",
      "\u001b[0;31mNameError\u001b[0m                                 Traceback (most recent call last)",
      "\u001b[0;32m<ipython-input-3-5e9b8f7d4e69>\u001b[0m in \u001b[0;36m<module>\u001b[0;34m()\u001b[0m\n\u001b[0;32m----> 1\u001b[0;31m \u001b[0mvector\u001b[0m \u001b[0;34m=\u001b[0m \u001b[0mnumpy\u001b[0m\u001b[0;34m.\u001b[0m\u001b[0marray\u001b[0m\u001b[0;34m(\u001b[0m\u001b[0;34m[\u001b[0m\u001b[0;36m5\u001b[0m\u001b[0;34m,\u001b[0m \u001b[0;36m10\u001b[0m\u001b[0;34m,\u001b[0m \u001b[0;36m15\u001b[0m\u001b[0;34m,\u001b[0m \u001b[0;36m20\u001b[0m\u001b[0;34m]\u001b[0m\u001b[0;34m)\u001b[0m\u001b[0;34m\u001b[0m\u001b[0m\n\u001b[0m\u001b[1;32m      2\u001b[0m \u001b[0mvector\u001b[0m\u001b[0;34m.\u001b[0m\u001b[0msum\u001b[0m\u001b[0;34m(\u001b[0m\u001b[0;34m)\u001b[0m\u001b[0;34m\u001b[0m\u001b[0m\n\u001b[1;32m      3\u001b[0m \u001b[0;31m# add together all of the elements in vector, and result in 50.\u001b[0m\u001b[0;34m\u001b[0m\u001b[0;34m\u001b[0m\u001b[0m\n\u001b[1;32m      4\u001b[0m \u001b[0;34m\u001b[0m\u001b[0m\n\u001b[1;32m      5\u001b[0m \u001b[0mtotal_alcohol\u001b[0m \u001b[0;34m=\u001b[0m \u001b[0malcohol_consumption\u001b[0m\u001b[0;34m.\u001b[0m\u001b[0msum\u001b[0m\u001b[0;34m(\u001b[0m\u001b[0;34m)\u001b[0m\u001b[0;34m\u001b[0m\u001b[0m\n",
      "\u001b[0;31mNameError\u001b[0m: name 'numpy' is not defined"
     ]
    }
   ],
   "source": [
    "vector = numpy.array([5, 10, 15, 20])\n",
    "vector.sum()\n",
    "# add together all of the elements in vector, and result in 50.\n",
    "\n",
    "total_alcohol = alcohol_consumption.sum()\n",
    "average_alcohol = alcohol_consumption.mean()"
   ]
  },
  {
   "cell_type": "markdown",
   "metadata": {},
   "source": [
    "## Computation on values in Matrices\n",
    "The axis dictates which dimension we perform the operation on. \n",
    "1 means that we want to \tperform the operation on each row, and 0 means on each column. \n"
   ]
  },
  {
   "cell_type": "code",
   "execution_count": 25,
   "metadata": {},
   "outputs": [
    {
     "data": {
      "text/plain": [
       "array([ 30,  75, 120])"
      ]
     },
     "execution_count": 25,
     "metadata": {},
     "output_type": "execute_result"
    }
   ],
   "source": [
    "matrix = numpy.array([\n",
    "                [5, 10, 15], \n",
    "                [20, 25, 30],\n",
    "                [35, 40, 45]\n",
    "             ])\n",
    "matrix.sum(axis=1)\n",
    "# This would compute the sum for each row"
   ]
  },
  {
   "cell_type": "markdown",
   "metadata": {},
   "source": [
    "# Numpy Arrays Manipulation for Linear Systems:\n"
   ]
  },
  {
   "cell_type": "markdown",
   "metadata": {},
   "source": [
    "## To swap 2 rows\n",
    "NumPy ndarray object, we need to use double bracket notation to specify the row ordering change:"
   ]
  },
  {
   "cell_type": "markdown",
   "metadata": {},
   "source": [
    "## To Multiply a row by a nonzero constant:"
   ]
  },
  {
   "cell_type": "code",
   "execution_count": null,
   "metadata": {},
   "outputs": [],
   "source": [
    "# Multipy the second row by 2.\n",
    "matrix[1] = 2*matrix[1]\n",
    "\n",
    "matrix =  np.asarray([\n",
    "    [1, 3],\n",
    "    [50, 2]  \n",
    "], dtype=np.float32)\n",
    "\n",
    "# Swap the second row (at index value 1) with the first row (at index value 0).\n",
    "matrix = matrix[[1,0]]"
   ]
  },
  {
   "cell_type": "markdown",
   "metadata": {},
   "source": [
    "## To add one row to another row:\n",
    "\n",
    "we need to add both rows then assign it back to row we want to overwrite:\n"
   ]
  },
  {
   "cell_type": "code",
   "execution_count": null,
   "metadata": {},
   "outputs": [],
   "source": [
    "# Add the second row to the first row.\n",
    "matrix[1] = matrix[1] + matrix[0]"
   ]
  },
  {
   "cell_type": "markdown",
   "metadata": {},
   "source": [
    "## Chaining:\n",
    "\n",
    "We can combine and chain these rules to perform more complex row transformations:"
   ]
  },
  {
   "cell_type": "code",
   "execution_count": null,
   "metadata": {},
   "outputs": [],
   "source": [
    "matrix[1] = 0.5*matrix[2] + matrix[1] + matrix[3]"
   ]
  },
  {
   "cell_type": "markdown",
   "metadata": {},
   "source": [
    "## Vectors:\n",
    "\n",
    "Typically, a vector is visualized on a coordinate grid using arrows, not using coordinates. For a vector containing two elements, the first value describes the\n",
    "x coordinate while the second value describes the y coordinate. Vectors are usually drawn from the origin (0,0) to the point described by the vector:\n",
    "\n",
    "Arrows are used to visualize individual vectors because they emphasize the 2 key properties of a vector -- direction and magnitude. The direction of a vector describes the way its pointing while the magnitude describes its length.\n",
    "\n",
    "Visualise in matplotlib using ‘quiver’.\n",
    "\n",
    "X and Y correspond to the (x,y) coordinates we want the vector to start at and U and V correspond to the (x,y) coordinates we want the vector to end at.\n",
    "Setting angles to 'xy' lets matplotlib know we want the angle of the vector to be between the points we specified. The scale_units and scale parameters lets us specify custom scaling parameters for the vectors. When plotting vectors, we always want to use these 3 values for the parameters.\n",
    "\n"
   ]
  },
  {
   "cell_type": "code",
   "execution_count": 2,
   "metadata": {},
   "outputs": [
    {
     "ename": "NameError",
     "evalue": "name 'plt' is not defined",
     "output_type": "error",
     "traceback": [
      "\u001b[0;31m---------------------------------------------------------------------------\u001b[0m",
      "\u001b[0;31mNameError\u001b[0m                                 Traceback (most recent call last)",
      "\u001b[0;32m<ipython-input-2-5992f168bab4>\u001b[0m in \u001b[0;36m<module>\u001b[0;34m()\u001b[0m\n\u001b[0;32m----> 1\u001b[0;31m \u001b[0mplt\u001b[0m\u001b[0;34m.\u001b[0m\u001b[0mquiver\u001b[0m\u001b[0;34m(\u001b[0m\u001b[0;36m0\u001b[0m\u001b[0;34m,\u001b[0m \u001b[0;36m0\u001b[0m\u001b[0;34m,\u001b[0m \u001b[0;36m1\u001b[0m\u001b[0;34m,\u001b[0m \u001b[0;36m2\u001b[0m\u001b[0;34m,\u001b[0m \u001b[0mangles\u001b[0m\u001b[0;34m=\u001b[0m\u001b[0;34m'xy'\u001b[0m\u001b[0;34m,\u001b[0m \u001b[0mscale_units\u001b[0m\u001b[0;34m=\u001b[0m\u001b[0;34m'xy'\u001b[0m\u001b[0;34m,\u001b[0m \u001b[0mscale\u001b[0m\u001b[0;34m=\u001b[0m\u001b[0;36m1\u001b[0m\u001b[0;34m,\u001b[0m \u001b[0mcolor\u001b[0m\u001b[0;34m=\u001b[0m\u001b[0;34m'blue'\u001b[0m\u001b[0;34m)\u001b[0m\u001b[0;34m\u001b[0m\u001b[0m\n\u001b[0m",
      "\u001b[0;31mNameError\u001b[0m: name 'plt' is not defined"
     ]
    }
   ],
   "source": [
    "plt.quiver(0, 0, 1, 2, angles='xy', scale_units='xy', scale=1, color='blue')"
   ]
  },
  {
   "cell_type": "markdown",
   "metadata": {},
   "source": [
    "## Adding/Multiplying:"
   ]
  },
  {
   "cell_type": "code",
   "execution_count": null,
   "metadata": {},
   "outputs": [],
   "source": [
    "vector_one = np.asarray([\n",
    "    [1],\n",
    "    [2],\n",
    "    [1]\n",
    "], dtype=np.float32)\n",
    "\n",
    "vector_two = np.asarray([\n",
    "    [3],\n",
    "    [0],\n",
    "    [1]\n",
    "], dtype=np.float32)\n",
    "\n",
    "vector_linear_combination = (vector_one * 2) + (vector_two * 5)\n"
   ]
  },
  {
   "cell_type": "markdown",
   "metadata": {},
   "source": [
    "## dot product:\n",
    "\n",
    "Dot product is similar to multiplication, but involves multiplying the elements in the vectors in a specific way. Both of these vectors need to contain the same number of elements, a requirement the other operations we've learned so far have as well. To compute the dot product, we need to sum the products of the 2 values in each position in each vector. the result of a dot product is a scalar value, not a vector. \n",
    "￼\n",
    "The main quirk is that one of the two vectors need to be represented as a row vector while the other a column vector:"
   ]
  },
  {
   "cell_type": "code",
   "execution_count": null,
   "metadata": {},
   "outputs": [],
   "source": [
    "vector_dp = np.dot(vector_one[:,0], vector_two)"
   ]
  },
  {
   "cell_type": "markdown",
   "metadata": {},
   "source": [
    "## Advanced Matrix Algebra"
   ]
  },
  {
   "cell_type": "code",
   "execution_count": null,
   "metadata": {},
   "outputs": [],
   "source": [
    "## 2. Matrix Vector Multiplication ##\n",
    "\n",
    "matrix_a = np.asarray([\n",
    "    [0.7,3,9],\n",
    "    [1.7,2,9],\n",
    "    [0.7,9,2]\n",
    "    ], dtype=np.float32)\n",
    "\n",
    "vector_b = np.asarray([\n",
    "    [1],\n",
    "    [2],\n",
    "    [1]\n",
    "    ], dtype=np.float32)\n",
    "\n",
    "ab_product = np.dot(matrix_a, vector_b)\n",
    "print(ab_product)\n",
    "\n",
    "## 3. Matrix Multiplication ##\n",
    "\n",
    "matrix_a = np.asarray([\n",
    "    [0.7, 3],\n",
    "    [1.7, 2],\n",
    "    [0.7, 9]\n",
    "], dtype=np.float32)\n",
    "\n",
    "matrix_b = np.asarray([\n",
    "    [113, 3, 10],\n",
    "    [1, 0, 1],\n",
    "], dtype=np.float32)\n",
    "\n",
    "product_ab = np.dot(matrix_a, matrix_b)\n",
    "product_ba = np.dot(matrix_b, matrix_a)\n",
    "\n",
    "print(product_ab)\n",
    "print(product_ba)\n",
    "\n",
    "## 4. Matrix Transpose ##\n",
    "\n",
    "matrix_a = np.asarray([\n",
    "    [0.7, 3],\n",
    "    [1.7, 2],\n",
    "    [0.7, 9]\n",
    "], dtype=np.float32)\n",
    "\n",
    "matrix_b = np.asarray([\n",
    "    [113, 3, 10],\n",
    "    [1, 0, 1],\n",
    "], dtype=np.float32)\n",
    "\n",
    "transpose_a = np.transpose(matrix_a)\n",
    "transpose_b = np.transpose(matrix_b)\n",
    "print(transpose_a)\n",
    "\n",
    "print(np.transpose(transpose_a))\n",
    "\n",
    "trans_ab = np.dot(transpose_a, transpose_b)\n",
    "trans_ba = np.dot(transpose_b, transpose_a)\n",
    "\n",
    "product_ab = np.dot(matrix_a,matrix_b)\n",
    "print(np.transpose(product_ab))\n",
    "\n",
    "\n",
    "\n",
    "\n",
    "## 5. Identity Matrix ##\n",
    "\n",
    "i_2 = np.identity(2)\n",
    "i_3 = np.identity(3)\n",
    "\n",
    "matrix_33 = np.asarray([\n",
    "                [1,2,3],\n",
    "                [4,5,6],\n",
    "                [7,8,9]\n",
    "            ])\n",
    "\n",
    "matrix_23 = np.asarray([\n",
    "                [1,2,3],\n",
    "                [4,5,6]\n",
    "            ])\n",
    "identity_33 = np.dot(i_3, matrix_33)\n",
    "identity_23 = np.dot(i_2, matrix_23)\n",
    "\n",
    "print(identity_33)\n",
    "print(identity_23)\n",
    "\n",
    "\n",
    "## 6. Matrix Inverse ##\n",
    "\n",
    "matrix_a = np.asarray([\n",
    "    [1.5, 3],\n",
    "    [1, 4]\n",
    "])\n",
    "\n",
    "def matrix_inverse_two(mat):\n",
    "    \n",
    "    det = (mat[0,0]*mat[1,1] - mat[0,1]*mat[1,0])\n",
    "    \n",
    "    if det == 0:\n",
    "        raise ValueError(\"The matrix isn't invertible\")\n",
    "        \n",
    "    right_mat = np.asarray([\n",
    "        [mat[1,1], -mat[0,1]],\n",
    "        [-mat[1,0], mat[0,0]]\n",
    "    ])\n",
    "    \n",
    "    inv_mat = np.dot(1/det, right_mat)\n",
    "    \n",
    "    return inv_mat\n",
    "\n",
    "\n",
    "inverse_a = matrix_inverse_two(matrix_a)\n",
    "\n",
    "i_2 = np.dot(inverse_a, matrix_a)\n",
    "\n",
    "print(i_2)\n",
    "\n",
    "## 7. Solving The Matrix Equation ##\n",
    "\n",
    "matrix_a = np.asarray([\n",
    "    [30, -1],\n",
    "    [50, -1]\n",
    "    ])\n",
    "\n",
    "vector_b = np.asarray([\n",
    "    [-1000],\n",
    "    [-100]\n",
    "    ])\n",
    "\n",
    "solution_x = np.dot(np.linalg.inv(matrix_a), vector_b)\n",
    "\n",
    "print(solution_x)\n",
    "\n",
    "## 8. Determinant For Higher Dimensions ##\n",
    "\n",
    "matrix_22 = np.asarray([\n",
    "    [8, 4],\n",
    "    [4, 2]\n",
    "])\n",
    "\n",
    "matrix_33 = np.asarray([\n",
    "    [1, 1, 1],\n",
    "    [1, 1, 6],\n",
    "    [7, 8, 9]\n",
    "])\n",
    "\n",
    "det_22 = np.linalg.det(matrix_22)\n",
    "det_33 = np.linalg.det(matrix_33)"
   ]
  },
  {
   "cell_type": "code",
   "execution_count": null,
   "metadata": {},
   "outputs": [],
   "source": []
  },
  {
   "cell_type": "markdown",
   "metadata": {},
   "source": [
    "## Examples"
   ]
  },
  {
   "cell_type": "code",
   "execution_count": null,
   "metadata": {},
   "outputs": [],
   "source": [
    "\n",
    "## 9. Total Annual Alcohol Consumption ##\n",
    "\n",
    "is_canada_1986 = (world_alcohol[:,0] == \"1986\") & (world_alcohol[:,2] == \"Canada\")\n",
    "canada_1986 = world_alcohol[is_canada_1986,:]\n",
    "\n",
    "consumption = canada_1986[:,4]\n",
    "empty_consumption = consumption == \"\"\n",
    "consumption[empty_consumption] = \"0\"\n",
    "canada_alcohol = consumption.astype(float)\n",
    "total_canadian_drinking = canada_alcohol.sum()\n",
    "\n",
    "\n",
    "## 10. Calculating Consumption for Each Country ##\n",
    "\n",
    "totals = {}\n",
    "\n",
    "#find rows where year is 1989\n",
    "is_year = world_alcohol[:,0] == \"1989\"\n",
    "year = world_alcohol[is_year,:]\n",
    "\n",
    "\n",
    "for item in countries:\n",
    "    is_country = year[:,2] == item\n",
    "    country_consumption = year[is_country,:]\n",
    "    consumption = country_consumption[:,4]\n",
    "    empty_consumption = consumption == \"\"\n",
    "    consumption[empty_consumption] = \"0\"\n",
    "    consumption_col = consumption.astype(float)\n",
    "    sum_consumption = consumption_col.sum()\n",
    "    \n",
    "    if item in totals:\n",
    "        totals[item] = totals[item] + sum_consumption\n",
    "    else:\n",
    "        totals[item] = sum_consumption\n",
    "\n",
    "print(totals)\n",
    "\n",
    "## 11. Finding the Country that Drinks the Most ##\n",
    "\n",
    "highest_value = 0\n",
    "highest_key = None\n",
    "\n",
    "for item in totals:\n",
    "    if totals[item] > highest_value:\n",
    "        highest_value = totals[item]\n",
    "        highest_key = item\n",
    "        \n",
    "        \n",
    "print(highest_value)\n",
    "print(highest_key)"
   ]
  }
 ],
 "metadata": {
  "kernelspec": {
   "display_name": "Python 3",
   "language": "python",
   "name": "python3"
  },
  "language_info": {
   "codemirror_mode": {
    "name": "ipython",
    "version": 3
   },
   "file_extension": ".py",
   "mimetype": "text/x-python",
   "name": "python",
   "nbconvert_exporter": "python",
   "pygments_lexer": "ipython3",
   "version": "3.6.2"
  }
 },
 "nbformat": 4,
 "nbformat_minor": 2
}
