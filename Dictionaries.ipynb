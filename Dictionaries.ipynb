{
 "cells": [
  {
   "cell_type": "markdown",
   "metadata": {},
   "source": [
    "# Dictionaries"
   ]
  },
  {
   "cell_type": "markdown",
   "metadata": {},
   "source": [
    "## Creating and Populating a Dictionary ##"
   ]
  },
  {
   "cell_type": "code",
   "execution_count": 3,
   "metadata": {},
   "outputs": [],
   "source": [
    "superhero_ranks = {}\n",
    "superhero_ranks[\"Aquaman\"] = 1\n",
    "superhero_ranks[\"Superman\"] = 2\n",
    "\n",
    "planet_numbers = {\"mercury\": 1, \"venus\": 2, \"earth\": 3, \"mars\": 4}\n",
    "\n",
    "new_dict = dict()"
   ]
  },
  {
   "cell_type": "markdown",
   "metadata": {},
   "source": [
    "## Modify and existing element"
   ]
  },
  {
   "cell_type": "code",
   "execution_count": null,
   "metadata": {},
   "outputs": [],
   "source": [
    "students[\"Tom\"] = students[\"Tom\"] + 5"
   ]
  },
  {
   "cell_type": "markdown",
   "metadata": {},
   "source": [
    "## Lookup a value"
   ]
  },
  {
   "cell_type": "code",
   "execution_count": null,
   "metadata": {},
   "outputs": [],
   "source": [
    "scores[\"Tom\"]"
   ]
  },
  {
   "cell_type": "markdown",
   "metadata": {},
   "source": [
    "## Indexing a Dictionary ##"
   ]
  },
  {
   "cell_type": "code",
   "execution_count": null,
   "metadata": {},
   "outputs": [],
   "source": [
    "president_ranks = {}\n",
    "president_ranks[\"FDR\"] = 1\n",
    "president_ranks[\"Lincoln\"] = 2\n",
    "president_ranks[\"Aquaman\"] = 3\n",
    "\n",
    "fdr_rank = president_ranks[\"FDR\"]\n",
    "lincoln_rank = president_ranks[\"Lincoln\"]\n",
    "aquaman_rank = president_ranks[\"Aquaman\"]"
   ]
  },
  {
   "cell_type": "markdown",
   "metadata": {},
   "source": [
    "## Iterate through  keys and values at the same time"
   ]
  },
  {
   "cell_type": "code",
   "execution_count": null,
   "metadata": {},
   "outputs": [],
   "source": [
    "fruits = {\n",
    "    \"apple\": 2,\n",
    "    \"orange\": 5,\n",
    "    \"melon\": 10\n",
    "    }\n",
    "\n",
    "for fruit, rating in fruits.items():\n",
    "       print(rating)"
   ]
  },
  {
   "cell_type": "markdown",
   "metadata": {},
   "source": [
    "## Get keys"
   ]
  },
  {
   "cell_type": "code",
   "execution_count": null,
   "metadata": {},
   "outputs": [],
   "source": [
    "dict.keys()"
   ]
  },
  {
   "cell_type": "markdown",
   "metadata": {},
   "source": [
    "## Get Values:"
   ]
  },
  {
   "cell_type": "code",
   "execution_count": null,
   "metadata": {},
   "outputs": [],
   "source": [
    "dict.values()"
   ]
  },
  {
   "cell_type": "markdown",
   "metadata": {},
   "source": [
    "## Get key/value pairs"
   ]
  },
  {
   "cell_type": "code",
   "execution_count": null,
   "metadata": {},
   "outputs": [],
   "source": [
    "dict.items()\n",
    "\n",
    "plant_types = {\"orchid\": \"flower\", \"cedar\": \"tree\", \"maple\": \"tree\"}\n",
    "\n",
    "for p_type, plant in plant_types.items():\n",
    "    print(p_type)\n",
    "    print(plant)"
   ]
  },
  {
   "cell_type": "markdown",
   "metadata": {},
   "source": [
    "## Checking an item exists"
   ]
  },
  {
   "cell_type": "code",
   "execution_count": null,
   "metadata": {},
   "outputs": [],
   "source": [
    "planet_numbers = {\"mercury\": 1, \"venus\": 2, \"earth\": 3, \"mars\": 4}\n",
    "\n",
    "jupiter_found = \"jupiter\" in planet_numbers\n",
    "earth_found = \"earth\" in planet_numbers"
   ]
  },
  {
   "cell_type": "markdown",
   "metadata": {},
   "source": [
    "## Counting number of occurences  of a value##"
   ]
  },
  {
   "cell_type": "code",
   "execution_count": null,
   "metadata": {},
   "outputs": [],
   "source": [
    "weather_counts = {}\n",
    "\n",
    "for item in weather:\n",
    "    if item in weather_counts:\n",
    "        weather_counts[item] = weather_counts[item] + 1\n",
    "    else:\n",
    "        weather_counts[item] = 1"
   ]
  }
 ],
 "metadata": {
  "kernelspec": {
   "display_name": "Python 3",
   "language": "python",
   "name": "python3"
  },
  "language_info": {
   "codemirror_mode": {
    "name": "ipython",
    "version": 3
   },
   "file_extension": ".py",
   "mimetype": "text/x-python",
   "name": "python",
   "nbconvert_exporter": "python",
   "pygments_lexer": "ipython3",
   "version": "3.6.2"
  }
 },
 "nbformat": 4,
 "nbformat_minor": 2
}
