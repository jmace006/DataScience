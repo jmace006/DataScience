{
 "cells": [
  {
   "cell_type": "markdown",
   "metadata": {},
   "source": [
    "# PostgreSQL in Python"
   ]
  },
  {
   "cell_type": "code",
   "execution_count": null,
   "metadata": {},
   "outputs": [],
   "source": [
    "import psycopg2\n",
    "conn = psycopg2.connect(\"dbname=dq user=dq\")\n",
    "cur = conn.cursor()\n",
    "print(cur)\n",
    "conn.close()"
   ]
  },
  {
   "cell_type": "markdown",
   "metadata": {},
   "source": [
    "## Creating a table ##"
   ]
  },
  {
   "cell_type": "code",
   "execution_count": null,
   "metadata": {},
   "outputs": [],
   "source": [
    "import psycopg2\n",
    "conn = psycopg2.connect(\"dbname=dq user=dq\")\n",
    "cur = conn.cursor()\n",
    "\n",
    "qry = '''CREATE TABLE notes( id INTEGER PRIMARY KEY,\n",
    "        body TEXT,\n",
    "        title TEXT);'''\n",
    "\n",
    "cur.execute(qry)\n",
    "conn.close()"
   ]
  },
  {
   "cell_type": "markdown",
   "metadata": {},
   "source": [
    "## SQL Transactions ##"
   ]
  },
  {
   "cell_type": "code",
   "execution_count": null,
   "metadata": {},
   "outputs": [],
   "source": [
    "import psycopg2\n",
    "conn = psycopg2.connect(\"dbname=dq user=dq\")\n",
    "cur = conn.cursor()\n",
    "\n",
    "qry = '''CREATE TABLE notes( id INTEGER PRIMARY KEY,\n",
    "        body TEXT,\n",
    "        title TEXT);'''\n",
    "\n",
    "cur.execute(qry)\n",
    "conn.commit()\n",
    "conn.close()"
   ]
  },
  {
   "cell_type": "markdown",
   "metadata": {},
   "source": [
    "## Autocommitting ##"
   ]
  },
  {
   "cell_type": "code",
   "execution_count": null,
   "metadata": {},
   "outputs": [],
   "source": [
    "import psycopg2\n",
    "conn = psycopg2.connect(\"dbname=dq user=dq\")\n",
    "conn.autocommit = True\n",
    "cur = conn.cursor()\n",
    "\n",
    "qry = \"CREATE TABLE facts(id INTEGER PRIMARY KEY, country TEXT, value INTEGER);\"\n",
    "\n",
    "cur.execute(qry)\n",
    "conn.close()"
   ]
  },
  {
   "cell_type": "markdown",
   "metadata": {},
   "source": [
    "## Executing queries ##"
   ]
  },
  {
   "cell_type": "code",
   "execution_count": null,
   "metadata": {},
   "outputs": [],
   "source": [
    "import psycopg2\n",
    "\n",
    "conn = psycopg2.connect(\"dbname=dq user=dq\")\n",
    "conn.autocommit = True\n",
    "cur = conn.cursor()\n",
    "\n",
    "insert_qry = '''INSERT INTO notes\n",
    "        VALUES (2,'Do more missions on Dataquest.','Dataquest reminder')'''\n",
    "cur.execute(insert_qry)\n",
    "\n",
    "select_qry = \"SELECT * FROM notes;\"\n",
    "cur.execute(select_qry)\n",
    "rows = cur.fetchall()\n",
    "print(rows)\n",
    "\n",
    "conn.close()"
   ]
  },
  {
   "cell_type": "markdown",
   "metadata": {},
   "source": [
    "## Creating a database ##"
   ]
  },
  {
   "cell_type": "code",
   "execution_count": null,
   "metadata": {},
   "outputs": [],
   "source": [
    "conn = psycopg2.connect(\"dbname=dq user = dq\")\n",
    "conn.autocommit = True\n",
    "\n",
    "cur = conn.cursor()\n",
    "\n",
    "qry = \"CREATE DATABASE income OWNER dq\"\n",
    "cur.execute(qry)\n",
    "conn.close()\n",
    "\n"
   ]
  },
  {
   "cell_type": "markdown",
   "metadata": {},
   "source": [
    "## Deleting a database ##"
   ]
  },
  {
   "cell_type": "code",
   "execution_count": null,
   "metadata": {},
   "outputs": [],
   "source": [
    "\n",
    "conn = psycopg2.connect(\"dbname=dq user=dq\")\n",
    "conn.autocommit = True\n",
    "cur = conn.cursor()\n",
    "\n",
    "qry = \"DROP DATABASE income\"\n",
    "\n",
    "cur.execute(qry)\n",
    "\n",
    "conn.close()"
   ]
  },
  {
   "cell_type": "markdown",
   "metadata": {},
   "source": [
    "# Other PostgreSQL"
   ]
  },
  {
   "cell_type": "markdown",
   "metadata": {},
   "source": [
    "## Command line\n",
    "- type sql at the command line\n",
    "- \\l -- list all available databases.\n",
    "- \\dt -- list all tables in the current database.\n",
    "- \\du -- list users.\n",
    "- \\dp tablename permissions on a table\n",
    "\n",
    "- CREATE DATABASE dbName;  \n",
    "\n",
    "- start sql with a database: psql -d dataquest\n",
    "    "
   ]
  },
  {
   "cell_type": "markdown",
   "metadata": {},
   "source": [
    "## Create users:"
   ]
  },
  {
   "cell_type": "code",
   "execution_count": null,
   "metadata": {},
   "outputs": [],
   "source": [
    "CREATE ROLE userName WITH LOGIN;\n",
    "CREATE ROLE userName WITH CREATEDB LOGIN PASSWORD 'password';\n",
    "    WITH CREATEROLE -- allows the user to create other users.\n",
    "    WITH SUPERUSER -- makes the user a superuser. "
   ]
  },
  {
   "cell_type": "markdown",
   "metadata": {},
   "source": [
    "## Granting access:\n",
    "You can allow a user to perform SELECT queries on a given table like this:"
   ]
  },
  {
   "cell_type": "code",
   "execution_count": null,
   "metadata": {},
   "outputs": [],
   "source": [
    "GRANT SELECT ON tableName TO userName;\n",
    "GRANT SELECT, INSERT, UPDATE, DELETE ON tableName TO userName;\n",
    "GRANT ALL PRIVILEGES ON tableName TO userName;"
   ]
  },
  {
   "cell_type": "markdown",
   "metadata": {},
   "source": [
    "## Revoke Access:\n",
    "You can revoke the ability for a user to run queries:"
   ]
  },
  {
   "cell_type": "code",
   "execution_count": null,
   "metadata": {},
   "outputs": [],
   "source": [
    "REVOKE SELECT ON tableName FROM userName;\n",
    "REVOKE SELECT, INSERT, UPDATE, DELETE ON tableName FROM userName;\n",
    "REVOKE ALL PRIVILEGES ON tableName FROM userName;"
   ]
  },
  {
   "cell_type": "markdown",
   "metadata": {},
   "source": [
    "## Create Superuser:"
   ]
  },
  {
   "cell_type": "code",
   "execution_count": null,
   "metadata": {},
   "outputs": [],
   "source": [
    "CREATE ROLE statement will make a user a superuser:\n",
    "CREATE ROLE userName WITH SUPERUSER;\n",
    "CREATE ROLE userName WITH LOGIN PASSWORD 'password' SUPERUSER;"
   ]
  },
  {
   "cell_type": "code",
   "execution_count": null,
   "metadata": {},
   "outputs": [],
   "source": []
  },
  {
   "cell_type": "code",
   "execution_count": null,
   "metadata": {},
   "outputs": [],
   "source": []
  },
  {
   "cell_type": "code",
   "execution_count": null,
   "metadata": {},
   "outputs": [],
   "source": []
  },
  {
   "cell_type": "code",
   "execution_count": null,
   "metadata": {},
   "outputs": [],
   "source": []
  }
 ],
 "metadata": {
  "kernelspec": {
   "display_name": "Python 3",
   "language": "python",
   "name": "python3"
  },
  "language_info": {
   "codemirror_mode": {
    "name": "ipython",
    "version": 3
   },
   "file_extension": ".py",
   "mimetype": "text/x-python",
   "name": "python",
   "nbconvert_exporter": "python",
   "pygments_lexer": "ipython3",
   "version": "3.6.2"
  }
 },
 "nbformat": 4,
 "nbformat_minor": 2
}
