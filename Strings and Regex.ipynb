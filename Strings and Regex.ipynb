{
 "cells": [
  {
   "cell_type": "markdown",
   "metadata": {},
   "source": [
    "# Strings and Regex"
   ]
  },
  {
   "cell_type": "markdown",
   "metadata": {},
   "source": [
    "## Splitting strings to Lists with delimiter"
   ]
  },
  {
   "cell_type": "code",
   "execution_count": null,
   "metadata": {},
   "outputs": [],
   "source": [
    "# This will create a list [\"1820\", \"01\", \"02\"]. \n",
    "date = \"1820-01-02\"\n",
    "parts = date.split(\"-\")\n",
    "print(parts)"
   ]
  },
  {
   "cell_type": "markdown",
   "metadata": {},
   "source": [
    "## String Slicing with Step Value"
   ]
  },
  {
   "cell_type": "code",
   "execution_count": null,
   "metadata": {},
   "outputs": [],
   "source": [
    "password = \"password\"\n",
    "odds = my_string[1:8:2]\n",
    "# start the substring at index 1, and add 2 to the index each time until it observes or exceeds index 8. "
   ]
  },
  {
   "cell_type": "markdown",
   "metadata": {},
   "source": [
    "## String Slicing with negative values and Step Value"
   ]
  },
  {
   "cell_type": "code",
   "execution_count": null,
   "metadata": {},
   "outputs": [],
   "source": [
    "\"word\"[-1]\n",
    "# would evaluate to \"d\"\n",
    "\n",
    "\"backwards\"[3::-1]\n",
    "# steps backwards in increments of 1 and result of that slice is \"kcab\"."
   ]
  },
  {
   "cell_type": "markdown",
   "metadata": {},
   "source": [
    "## Replacing Characters"
   ]
  },
  {
   "cell_type": "code",
   "execution_count": null,
   "metadata": {},
   "outputs": [],
   "source": [
    "age_str = age_str.split(\" \")[0]\n",
    "age_str = age_str.replace(\"+\", \"\")"
   ]
  },
  {
   "cell_type": "markdown",
   "metadata": {},
   "source": [
    "# Regular Expressions\n",
    "- .  - any character can be put in its place\n",
    "- ^ - beginning of a string (“^a\" will match all strings that start with “a”)\n",
    "- $ - the end of a string (“a$\" will match all strings that end with “a”)\n",
    "- [Rr] - either R or r\n",
    "-  \\ to escape characters in a regex\n",
    "- [0-9] -  match any character that falls between 0 and 9 (all of which will be one-digit integers). \n",
    "-  [a-z] - match any lowercase letter. ( can also specify smaller ranges like \"[3-5]\" or “[d-g]”.)\n",
    "- \"{\" and \"}\" - a pattern should repeat. To match any four-digit number, e.g.. \"[0-9]{4}\n",
    "\n"
   ]
  },
  {
   "cell_type": "markdown",
   "metadata": {},
   "source": [
    "## Using re.search: and Search/Replace sub()"
   ]
  },
  {
   "cell_type": "code",
   "execution_count": null,
   "metadata": {},
   "outputs": [],
   "source": [
    "re.search(regex, string), we can check whether string is a match for regex. \n",
    "# return a match object. If it isn't, it will return None. \n",
    "\n",
    "re.sub(\"yo\", \"hello\", \"yo world\") \n",
    "# replace the \"yo\" in \"yo world\" with \"hello\" and return the result ,OR original string if not found"
   ]
  },
  {
   "cell_type": "markdown",
   "metadata": {},
   "source": [
    "## Find the substrings that match a pattern using findall():"
   ]
  },
  {
   "cell_type": "code",
   "execution_count": null,
   "metadata": {},
   "outputs": [],
   "source": [
    "re.findall(\"[a-z]\", \"abc123\") \n",
    "# would return [\"a\", \"b\", \"c\"], because those are the substrings that match the regex."
   ]
  },
  {
   "cell_type": "markdown",
   "metadata": {},
   "source": [
    "## Strip Whitespace\n",
    "Strip whitespace (including newlines) from each string in the Series/Index from right side."
   ]
  },
  {
   "cell_type": "code",
   "execution_count": null,
   "metadata": {},
   "outputs": [],
   "source": [
    "loans['int_rate'] = loans['int_rate'].str.rstrip('%').astype('float')"
   ]
  },
  {
   "cell_type": "markdown",
   "metadata": {},
   "source": [
    "## Examples"
   ]
  },
  {
   "cell_type": "code",
   "execution_count": 1,
   "metadata": {},
   "outputs": [
    {
     "ename": "FileNotFoundError",
     "evalue": "[Errno 2] No such file or directory: 'data/askreddit_2015.csv'",
     "output_type": "error",
     "traceback": [
      "\u001b[0;31m---------------------------------------------------------------------------\u001b[0m",
      "\u001b[0;31mFileNotFoundError\u001b[0m                         Traceback (most recent call last)",
      "\u001b[0;32m<ipython-input-1-a2de2224a5f9>\u001b[0m in \u001b[0;36m<module>\u001b[0;34m()\u001b[0m\n\u001b[1;32m     19\u001b[0m \u001b[0;32mimport\u001b[0m \u001b[0mcsv\u001b[0m\u001b[0;34m\u001b[0m\u001b[0m\n\u001b[1;32m     20\u001b[0m \u001b[0;34m\u001b[0m\u001b[0m\n\u001b[0;32m---> 21\u001b[0;31m \u001b[0mf\u001b[0m \u001b[0;34m=\u001b[0m \u001b[0mopen\u001b[0m\u001b[0;34m(\u001b[0m\u001b[0;34m\"data/askreddit_2015.csv\"\u001b[0m\u001b[0;34m,\u001b[0m\u001b[0;34m\"r\"\u001b[0m\u001b[0;34m)\u001b[0m\u001b[0;34m\u001b[0m\u001b[0m\n\u001b[0m\u001b[1;32m     22\u001b[0m \u001b[0mcsvreader\u001b[0m \u001b[0;34m=\u001b[0m \u001b[0mcsv\u001b[0m\u001b[0;34m.\u001b[0m\u001b[0mreader\u001b[0m\u001b[0;34m(\u001b[0m\u001b[0mf\u001b[0m\u001b[0;34m)\u001b[0m\u001b[0;34m\u001b[0m\u001b[0m\n\u001b[1;32m     23\u001b[0m \u001b[0mposts_with_header\u001b[0m \u001b[0;34m=\u001b[0m \u001b[0mlist\u001b[0m\u001b[0;34m(\u001b[0m\u001b[0mcsvreader\u001b[0m\u001b[0;34m)\u001b[0m\u001b[0;34m\u001b[0m\u001b[0m\n",
      "\u001b[0;31mFileNotFoundError\u001b[0m: [Errno 2] No such file or directory: 'data/askreddit_2015.csv'"
     ]
    }
   ],
   "source": [
    "## 1. Introduction ##\n",
    "\n",
    "strings = [\"data science\", \"big data\", \"metadata\"]\n",
    "regex = \"data\"\n",
    "\n",
    "## 2. Wildcards in Regular Expressions ##\n",
    "\n",
    "strings = [\"bat\", \"robotics\", \"megabyte\"]\n",
    "regex = \"b.t\"\n",
    "\n",
    "## 3. Searching the Beginnings And Endings Of Strings ##\n",
    "\n",
    "strings = [\"better not put too much\", \"butter in the\", \"batter\"]\n",
    "bad_string = \"We also wouldn't want it to be bitter\"\n",
    "regex = \"^b.tter\"\n",
    "\n",
    "## 5. Reading and Printing the Data Set ##\n",
    "\n",
    "import csv\n",
    "\n",
    "f = open(\"data/askreddit_2015.csv\",\"r\")\n",
    "csvreader = csv.reader(f)\n",
    "posts_with_header = list(csvreader)\n",
    "posts = posts_with_header[1:len(posts_with_header)]\n",
    "\n",
    "for row in posts[:10]:\n",
    "    print(row)\n",
    "\n",
    "## 6. Counting Simple Matches in the Data Set with re() ##\n",
    "\n",
    "import re\n",
    "\n",
    "of_reddit_count = 0\n",
    "\n",
    "for row in posts:\n",
    "    if re.search(\"of Reddit\", row[0]) is not None:\n",
    "        of_reddit_count = of_reddit_count +1\n",
    "        \n",
    "\n",
    "## 7. Using Square Brackets to Match Multiple Characters ##\n",
    "\n",
    "import re\n",
    "\n",
    "of_reddit_count = 0\n",
    "for row in posts:\n",
    "    if re.search(\"of [Rr]eddit\", row[0]) is not None:\n",
    "        of_reddit_count += 1\n",
    "\n",
    "## 8. Escaping Special Characters ##\n",
    "\n",
    "import re\n",
    "\n",
    "serious_count = 0\n",
    "\n",
    "for row in posts:\n",
    "    if re.search(\"\\[Serious\\]\", row[0]):\n",
    "        serious_count= serious_count +1\n",
    "\n",
    "## 9. Combining Escaped Characters and Multiple Matches ##\n",
    "\n",
    "import re\n",
    "\n",
    "serious_count = 0\n",
    "for row in posts:\n",
    "    if re.search(\"\\[[Ss]erious\\]\", row[0]) is not None:\n",
    "        serious_count += 1\n",
    "\n",
    "## 10. Adding More Complexity to Your Regular Expression ##\n",
    "\n",
    "import re\n",
    "\n",
    "serious_count = 0\n",
    "for row in posts:\n",
    "    if re.search(\"[\\(\\[][Ss]erious[\\]\\)]\", row[0]) is not None:\n",
    "        serious_count += 1\n",
    "\n",
    "## 11. Combining Multiple Regular Expressions ##\n",
    "\n",
    "import re\n",
    "\n",
    "serious_start_count = 0\n",
    "serious_end_count = 0\n",
    "serious_count_final = 0\n",
    "\n",
    "for row in posts:\n",
    "    if re.search(\"^[\\(\\[][Ss]erious[\\]\\)]\", row[0]) is not None:\n",
    "        serious_start_count += 1 \n",
    "    if re.search(\"[\\(\\[][Ss]erious[\\]\\)]$\", row[0]) is not None:\n",
    "        serious_end_count += 1 \n",
    "    if re.search(\"^[\\(\\[][Ss]erious[\\]\\)]|[\\(\\[][Ss]erious[\\]\\)]$\", row[0]) is not None:\n",
    "        serious_count_final += 1 \n",
    "\n",
    "## 12. Using Regular Expressions to Substitute Strings ##\n",
    "\n",
    "import re\n",
    "\n",
    "for row in posts:\n",
    "   row[0] =  re.sub(\"[\\[\\(][Ss]erious[\\]\\)]\", \"[Serious]\", row[0])\n",
    "           \n",
    "\n",
    "\n",
    "## 13. Matching Years with Regular Expressions ##\n",
    "\n",
    "import re\n",
    "\n",
    "year_strings = []\n",
    "\n",
    "for item in strings:\n",
    "    if re.search(\"[1-2][0-9][0-9][0-9]\", item) is not None:\n",
    "        year_strings.append(item)\n",
    "\n",
    "## 14. Repeating Characters in Regular Expressions ##\n",
    "\n",
    "import re\n",
    "\n",
    "year_strings = []\n",
    "\n",
    "for item in strings:\n",
    "    if re.search(\"[[1-2][0-9]{3}\",item) is not None:\n",
    "               year_strings.append(item)   \n",
    "\n",
    "## 15. Challenge: Extracting all Years ##\n",
    "\n",
    "import re\n",
    "\n",
    "years = []\n",
    "years = re.findall(\"[1-2][0-9]{3}\", years_string)"
   ]
  },
  {
   "cell_type": "code",
   "execution_count": null,
   "metadata": {},
   "outputs": [],
   "source": []
  }
 ],
 "metadata": {
  "kernelspec": {
   "display_name": "Python 3",
   "language": "python",
   "name": "python3"
  },
  "language_info": {
   "codemirror_mode": {
    "name": "ipython",
    "version": 3
   },
   "file_extension": ".py",
   "mimetype": "text/x-python",
   "name": "python",
   "nbconvert_exporter": "python",
   "pygments_lexer": "ipython3",
   "version": "3.6.2"
  }
 },
 "nbformat": 4,
 "nbformat_minor": 2
}
